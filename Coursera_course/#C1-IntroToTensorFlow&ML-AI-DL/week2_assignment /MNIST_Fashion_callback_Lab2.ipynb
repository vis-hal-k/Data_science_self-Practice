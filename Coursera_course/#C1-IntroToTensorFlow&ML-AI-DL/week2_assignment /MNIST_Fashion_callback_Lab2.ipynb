{
  "nbformat": 4,
  "nbformat_minor": 0,
  "metadata": {
    "colab": {
      "provenance": [],
      "authorship_tag": "ABX9TyPMY6ZjeGSKzLi3NNbSQJuS",
      "include_colab_link": true
    },
    "kernelspec": {
      "name": "python3",
      "display_name": "Python 3"
    },
    "language_info": {
      "name": "python"
    }
  },
  "cells": [
    {
      "cell_type": "markdown",
      "metadata": {
        "id": "view-in-github",
        "colab_type": "text"
      },
      "source": [
        "<a href=\"https://colab.research.google.com/github/vis-hal-k/Data_science_self-Practice/blob/main/Coursera_course/%23C1-IntroToTensorFlow%26ML-AI-DL/week2_assignment%20/MNIST_Fashion_callback_Lab2.ipynb\" target=\"_parent\"><img src=\"https://colab.research.google.com/assets/colab-badge.svg\" alt=\"Open In Colab\"/></a>"
      ]
    },
    {
      "cell_type": "markdown",
      "source": [
        "# Ungraded Lab: Using Callbacks to Control Training\n",
        "\n",
        "In this lab, you will use the [Callbacks API](https://keras.io/api/callbacks/) to stop training when a specified metric is met. This is a useful feature so you won't need to complete all epochs when this threshold is reached. For example, if you set 1000 epochs and your desired accuracy is already reached at epoch 200, then the training will automatically stop. Let's see how this is implemented in the next sections.\n"
      ],
      "metadata": {
        "id": "F7L91vndZF7x"
      }
    },
    {
      "cell_type": "markdown",
      "source": [
        "## Load and Normalize the Fashion MNIST dataset\n",
        "\n",
        "Like the previous lab, you will use the Fashion MNIST dataset again for this exericise.\n",
        "And also as mentioned before, you will normalize the pixel values to help optimize the training."
      ],
      "metadata": {
        "id": "0Vy7kS_DZSdE"
      }
    },
    {
      "cell_type": "code",
      "source": [
        "import tensorflow as tf\n",
        "fmnist = tf.keras.datasets.fashion_mnist\n",
        "(x_train , y_train),(x_test,y_test) = fmnist.load_data()\n",
        "x_train = x_train/255.0\n",
        "x_test = x_test/255.0\n"
      ],
      "metadata": {
        "colab": {
          "base_uri": "https://localhost:8080/"
        },
        "id": "VRhqOT4UZxDi",
        "outputId": "b9ec2f9e-6f12-4b1f-9878-e9cfe16ad541"
      },
      "execution_count": null,
      "outputs": [
        {
          "output_type": "stream",
          "name": "stdout",
          "text": [
            "Downloading data from https://storage.googleapis.com/tensorflow/tf-keras-datasets/train-labels-idx1-ubyte.gz\n",
            "29515/29515 [==============================] - 0s 0us/step\n",
            "Downloading data from https://storage.googleapis.com/tensorflow/tf-keras-datasets/train-images-idx3-ubyte.gz\n",
            "26421880/26421880 [==============================] - 1s 0us/step\n",
            "Downloading data from https://storage.googleapis.com/tensorflow/tf-keras-datasets/t10k-labels-idx1-ubyte.gz\n",
            "5148/5148 [==============================] - 0s 0us/step\n",
            "Downloading data from https://storage.googleapis.com/tensorflow/tf-keras-datasets/t10k-images-idx3-ubyte.gz\n",
            "4422102/4422102 [==============================] - 1s 0us/step\n"
          ]
        }
      ]
    },
    {
      "cell_type": "markdown",
      "source": [
        "## Creating a Callback Class\n",
        "You can create a callback by defining a class that inherits the [tf.keras.callbacks.Callback](https://www.tensorflow.org/api_docs/python/tf/keras/callbacks/Callback) base class. From there, you can define available methods to set where the callback will be executed. For instance below, you will use the [on_epoch_end()](https://www.tensorflow.org/api_docs/python/tf/keras/callbacks/Callback#on_epoch_end) method to check the loss at each training epoch."
      ],
      "metadata": {
        "id": "IuQQecWdaKlO"
      }
    },
    {
      "cell_type": "code",
      "source": [
        "class myCallback(tf.keras.callbacks.Callback):\n",
        "  def on_epoch_end(self , epoch , logs={}):\n",
        "    '''\n",
        "    Halts the training after reaching 60 percent accuracy\n",
        "    Args:\n",
        "      epoch (integer) - index of epoch (required but unused in the function definition below)\n",
        "      logs (dict) - metric result from the training epoch\n",
        "    '''\n",
        "    # check accuracy\n",
        "    if(logs.get('loss') < 0.4 ):\n",
        "      print(\"\\n Loss is lower than 0.4 so cancelling training! \")\n",
        "      self.model.stop_training = True\n",
        "# Instantiate class\n",
        "callbacks = myCallback()\n"
      ],
      "metadata": {
        "id": "3KARcWbJa8O-"
      },
      "execution_count": null,
      "outputs": []
    },
    {
      "cell_type": "markdown",
      "source": [
        "### Define And Compile the model"
      ],
      "metadata": {
        "id": "QVyMeS3CcrC6"
      }
    },
    {
      "cell_type": "code",
      "source": [
        "# Define the model\n",
        "model = tf.keras.models.Sequential([\n",
        "  tf.keras.layers.Flatten(input_shape=(28, 28)),\n",
        "  tf.keras.layers.Dense(512, activation=tf.nn.relu),\n",
        "  tf.keras.layers.Dense(10, activation=tf.nn.softmax)\n",
        "])\n",
        "\n",
        "# Compile the model\n",
        "model.compile(optimizer=tf.optimizers.Adam(),\n",
        "              loss='sparse_categorical_crossentropy',\n",
        "              metrics=['accuracy'])"
      ],
      "metadata": {
        "id": "gIzEWWzpcKF4"
      },
      "execution_count": null,
      "outputs": []
    },
    {
      "cell_type": "markdown",
      "source": [
        "### Train the model\n",
        "Now you are ready to train the model. To set the callback, simply set the `callbacks` parameter to the `myCallback` instance you declared before. Run the cell below and observe what happens."
      ],
      "metadata": {
        "id": "ZUzrUGcGcKrh"
      }
    },
    {
      "cell_type": "code",
      "source": [
        "# Train the model with a callback\n",
        "model.fit(x_train,y_train, epochs = 10 , callbacks = [callbacks])"
      ],
      "metadata": {
        "colab": {
          "base_uri": "https://localhost:8080/"
        },
        "id": "U6A3u2XYckMm",
        "outputId": "e855db8a-eeba-4c67-d969-3109f26ec924"
      },
      "execution_count": null,
      "outputs": [
        {
          "output_type": "stream",
          "name": "stdout",
          "text": [
            "Epoch 1/10\n",
            "1875/1875 [==============================] - 15s 8ms/step - loss: 0.4737 - accuracy: 0.8292\n",
            "Epoch 2/10\n",
            "1871/1875 [============================>.] - ETA: 0s - loss: 0.3558 - accuracy: 0.8699\n",
            " Loss is lower than 0.4 so cancelling training! \n",
            "1875/1875 [==============================] - 14s 7ms/step - loss: 0.3557 - accuracy: 0.8699\n"
          ]
        },
        {
          "output_type": "execute_result",
          "data": {
            "text/plain": [
              "<keras.callbacks.History at 0x7f6be20ffb20>"
            ]
          },
          "metadata": {},
          "execution_count": 6
        }
      ]
    },
    {
      "cell_type": "markdown",
      "source": [
        "You will notice that the training does not need to complete all 10 epochs. By having a callback at each end of the epoch, it is able to check the training parameters and compare if it meets the threshold you set in the function definition. In this case, it will simply stop when the loss falls below `0.40` after the current epoch.\n",
        "\n",
        "*Optional Challenge: Modify the code to make the training stop when the accuracy metric exceeds 60%.*\n",
        "\n",
        "That concludes this simple exercise on callbacks!"
      ],
      "metadata": {
        "id": "SAKCDifQc6UP"
      }
    },
    {
      "cell_type": "code",
      "source": [],
      "metadata": {
        "id": "Ut1IEZsAeTHr"
      },
      "execution_count": null,
      "outputs": []
    }
  ]
}