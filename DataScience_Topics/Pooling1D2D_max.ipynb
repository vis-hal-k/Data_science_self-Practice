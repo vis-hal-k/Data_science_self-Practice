{
  "nbformat": 4,
  "nbformat_minor": 0,
  "metadata": {
    "colab": {
      "provenance": [],
      "authorship_tag": "ABX9TyOnQINvWmBuJyh3UrTECJXV",
      "include_colab_link": true
    },
    "kernelspec": {
      "name": "python3",
      "display_name": "Python 3"
    },
    "language_info": {
      "name": "python"
    }
  },
  "cells": [
    {
      "cell_type": "markdown",
      "metadata": {
        "id": "view-in-github",
        "colab_type": "text"
      },
      "source": [
        "<a href=\"https://colab.research.google.com/github/vis-hal-k/Data_science_self-Practice/blob/main/DataScience_Topics/Pooling1D2D_max.ipynb\" target=\"_parent\"><img src=\"https://colab.research.google.com/assets/colab-badge.svg\" alt=\"Open In Colab\"/></a>"
      ]
    },
    {
      "cell_type": "markdown",
      "source": [
        "## MaxPooling-1D"
      ],
      "metadata": {
        "id": "I5NfblN8whW4"
      }
    },
    {
      "cell_type": "code",
      "source": [
        "import tensorflow as tf\n",
        "from tensorflow import keras"
      ],
      "metadata": {
        "id": "67-gKliWwM2d"
      },
      "execution_count": 1,
      "outputs": []
    },
    {
      "cell_type": "code",
      "execution_count": 3,
      "metadata": {
        "colab": {
          "base_uri": "https://localhost:8080/"
        },
        "id": "V6Rwawq1v4a5",
        "outputId": "a842d3c7-da65-4ff3-f003-391c0849a8c1"
      },
      "outputs": [
        {
          "output_type": "execute_result",
          "data": {
            "text/plain": [
              "<keras.layers.pooling.max_pooling2d.MaxPooling2D at 0x7f23651285e0>"
            ]
          },
          "metadata": {},
          "execution_count": 3
        }
      ],
      "source": [
        "tf.keras.layers.MaxPool2D(\n",
        "    pool_size = (2,2),\n",
        "    strides = None,\n",
        "    padding='valid',\n",
        "    data_format = None,\n",
        ")"
      ]
    },
    {
      "cell_type": "markdown",
      "source": [
        "Downsamples the input representation by taking the maximum value over a spatial window of size pool_size. The window is shifted by `strides`. The resulting output, when using the `valid` padding option, has a shape of:\n",
        "\n",
        " `output_shape = (input_shape - pool_size + 1) / strides)`\n",
        "\n",
        "The resulting output shape when using the **\"same\"** padding option is:\n",
        "\n",
        "`output_shape = input_shape / strides`\n",
        "\n",
        "For example, for `strides=1` and `padding=\"valid\"`:"
      ],
      "metadata": {
        "id": "035T6JNnwn47"
      }
    },
    {
      "cell_type": "code",
      "source": [
        "x = tf.constant([1.,2.,3.,4.,5.])\n",
        "\"\"\"\n",
        "The original input tensor x has a shape of (1, 5, 1),\n",
        "where the first dimension represents the batch size,\n",
        "the second dimension represents the length of the sequence,\n",
        "and the third dimension represents the number of channels.\n",
        "\"\"\"\n",
        "x= tf.reshape(x,[1,5,1])\n",
        "\"\"\"\n",
        "The input tensor x is reshaped using tf.reshape to have a shape of (1, 5, 1).\n",
        "This step is not relevant to the pooling operation but changes the shape\n",
        "of the input tensor.\n",
        "\"\"\"\n",
        "x"
      ],
      "metadata": {
        "colab": {
          "base_uri": "https://localhost:8080/",
          "height": 36
        },
        "id": "AawwDxFUxCb5",
        "outputId": "0c22dc40-5d27-42fd-81b4-7de8e091c28b"
      },
      "execution_count": 18,
      "outputs": [
        {
          "output_type": "execute_result",
          "data": {
            "text/plain": [
              "'\\nThe input tensor x is reshaped using tf.reshape to have a shape of (1, 5, 1).\\nThis step is not relevant to the pooling operation but changes the shape \\nof the input tensor.\\n'"
            ],
            "application/vnd.google.colaboratory.intrinsic+json": {
              "type": "string"
            }
          },
          "metadata": {},
          "execution_count": 18
        }
      ]
    },
    {
      "cell_type": "code",
      "source": [
        "max_pool_1d = tf.keras.layers.MaxPooling1D(pool_size = 2,\n",
        "                                           strides = 1 , padding = 'valid'\n",
        "                                           )\n",
        "featuremap = max_pool_1d(x)\n",
        "\"\"\"\n",
        "Padding is set to valid meand no Padding is added.\n",
        "Using formula for final feature map is (n-f+1). similar as a kernel filter.\n",
        "\"\"\"\n",
        "featuremap.shape"
      ],
      "metadata": {
        "colab": {
          "base_uri": "https://localhost:8080/"
        },
        "id": "2CcU-MYDx_1j",
        "outputId": "178a6196-5272-4eb6-d01a-80c4a741f1c3"
      },
      "execution_count": 39,
      "outputs": [
        {
          "output_type": "execute_result",
          "data": {
            "text/plain": [
              "TensorShape([1, 4, 1])"
            ]
          },
          "metadata": {},
          "execution_count": 39
        }
      ]
    },
    {
      "cell_type": "markdown",
      "source": [
        "`For example, for stride=1 and padding=\"same\"`"
      ],
      "metadata": {
        "id": "X9bKLvZhyZO5"
      }
    },
    {
      "cell_type": "code",
      "source": [
        "x = tf.constant([1.,2.,3.,4.,5.])\n",
        "x = tf.reshape(x , [1,5,1])\n",
        "# 1-> batch_size , 5-> input_size shape\n",
        "max_pool_1d = tf.keras.layers.MaxPooling1D(pool_size = 2,\n",
        "                                           strides = 2,\n",
        "                                           padding='valid'\n",
        "                                           )\n",
        "\"\"\"\n",
        "The formula use in this output_size = (input_size - pool_size) / stride + 1\n",
        "so ((5-2)/2 + 1) = 2.5 takes as 2.\n",
        "\"\"\"\n",
        "max_pool_1d(x)"
      ],
      "metadata": {
        "colab": {
          "base_uri": "https://localhost:8080/"
        },
        "id": "gQY008YTyZW9",
        "outputId": "60a1954e-c387-4848-b6c9-ea6926648789"
      },
      "execution_count": 21,
      "outputs": [
        {
          "output_type": "execute_result",
          "data": {
            "text/plain": [
              "<tf.Tensor: shape=(1, 2, 1), dtype=float32, numpy=\n",
              "array([[[2.],\n",
              "        [4.]]], dtype=float32)>"
            ]
          },
          "metadata": {},
          "execution_count": 21
        }
      ]
    },
    {
      "cell_type": "markdown",
      "source": [
        "`For example, for strides=1 and padding = “same”.`\n",
        "\n",
        "Padding is `same` means padding is added."
      ],
      "metadata": {
        "id": "npY832c_yZe4"
      }
    },
    {
      "cell_type": "code",
      "source": [
        "x = tf.constant([1.,2.,3.,4.,5.])\n",
        "x = tf.reshape(x , [1,5,1])\n",
        "max_pool_1d = tf.keras.layers.MaxPooling1D(pool_size = 2,\n",
        "                                           strides = 1 ,\n",
        "                                           padding='same'\n",
        "                                           )\n",
        "'''\n",
        "Same Padding: In this case, we add ‘p’ padding layers such that the output image has the same dimensions as the input image.\n",
        "[(n + 2p) x (n + 2p) image] * [(f x f) filter] —> [(n x n) image]\n",
        "\n",
        "\n",
        "Formula is using is output_size = (input_size + 2padding -pool_size)/strides + 1 .\n",
        "p = 2-1 = 0.5\n",
        "###### doubt #### ->  p is 0 or 1 (ceil or floor value.)\n",
        "so output is  5+2*0.5-2 + 1 = 5 -> [1,5,1]\n",
        "If we take strides = 2 then (5+2*0.5-2)/2 + 1 => 2+1 => 3\n",
        "output is [1,3,1]\n",
        "\n",
        "'''\n",
        "max_pool_1d(x)\n"
      ],
      "metadata": {
        "colab": {
          "base_uri": "https://localhost:8080/"
        },
        "id": "eHne5qh7G6wt",
        "outputId": "0f08232e-502b-4d86-c821-5072b06f6297"
      },
      "execution_count": 42,
      "outputs": [
        {
          "output_type": "execute_result",
          "data": {
            "text/plain": [
              "<tf.Tensor: shape=(1, 5, 1), dtype=float32, numpy=\n",
              "array([[[2.],\n",
              "        [3.],\n",
              "        [4.],\n",
              "        [5.],\n",
              "        [5.]]], dtype=float32)>"
            ]
          },
          "metadata": {},
          "execution_count": 42
        }
      ]
    },
    {
      "cell_type": "markdown",
      "source": [
        "## MaxPooling_2D"
      ],
      "metadata": {
        "id": "1-yQtaXVaDo0"
      }
    },
    {
      "cell_type": "code",
      "source": [
        "tf.keras.layers.MaxPooling2D(\n",
        "  pool_size = (2,2),\n",
        "  strides = None ,\n",
        "  padding = 'valid' ,\n",
        "  data_format = None\n",
        ")"
      ],
      "metadata": {
        "colab": {
          "base_uri": "https://localhost:8080/"
        },
        "id": "t2QlOaPvaG_B",
        "outputId": "d9af9f61-e58e-4121-ed9f-86725643a0cd"
      },
      "execution_count": 44,
      "outputs": [
        {
          "output_type": "execute_result",
          "data": {
            "text/plain": [
              "<keras.layers.pooling.max_pooling2d.MaxPooling2D at 0x7f22c9845630>"
            ]
          },
          "metadata": {},
          "execution_count": 44
        }
      ]
    },
    {
      "cell_type": "markdown",
      "source": [
        "Downsample the ainput along its sp[atial dimensions(height and width) by taking\n",
        "the max value over an input window (of size define `pool_size`) for each channel of the inoput. The window is shifted by `strides` along each dimension.\n",
        "\n",
        "The resulting output, when using the `\"valid\"` padding option, has a spatial shape(number of rows or columns) of:\n",
        "\n",
        "`output_shape = math.floor((input_shape - pool_size)/strides) + 1`\n",
        "when input_shape >= pool_size\n",
        "\n",
        "\n",
        "***For same padding option***\n",
        "\n",
        "The resulting output shape when using the `\"same\"` padding option id:\n",
        "\n",
        "`output_shape = math.floor*((input_shape-1)/strides) + 1`\n",
        "\n",
        "\n",
        "\n",
        "`For Example, for strides = (1,1)  and padding=\"valid\"`"
      ],
      "metadata": {
        "id": "19IhweM-b78H"
      }
    },
    {
      "cell_type": "code",
      "source": [
        "x = tf.constant([[1.,2.,3.],\n",
        "               [4.,5.,6.],\n",
        "                [7.,8.,9.]])\n",
        "print(x,x.shape,x.ndim)\n",
        "#        (3,3)  2\n",
        "x = tf.reshape(x , [1,3,3,1])\n",
        "print(x,x.shape,x.ndim)\n",
        "# 1-> batch_size, 3-> rows , 3-> cols , 1-> channels\n",
        "\n",
        "\n",
        "# max_pool_2d = tf.keras.layers.MaxPooling2D"
      ],
      "metadata": {
        "colab": {
          "base_uri": "https://localhost:8080/"
        },
        "id": "8xIzs1ujdc6F",
        "outputId": "4b4cf990-e99f-4e6d-a90a-b604aa2d94bf"
      },
      "execution_count": 64,
      "outputs": [
        {
          "output_type": "stream",
          "name": "stdout",
          "text": [
            "tf.Tensor(\n",
            "[[1. 2. 3.]\n",
            " [4. 5. 6.]\n",
            " [7. 8. 9.]], shape=(3, 3), dtype=float32) (3, 3) 2\n",
            "tf.Tensor(\n",
            "[[[[1.]\n",
            "   [2.]\n",
            "   [3.]]\n",
            "\n",
            "  [[4.]\n",
            "   [5.]\n",
            "   [6.]]\n",
            "\n",
            "  [[7.]\n",
            "   [8.]\n",
            "   [9.]]]], shape=(1, 3, 3, 1), dtype=float32) (1, 3, 3, 1) 4\n"
          ]
        }
      ]
    },
    {
      "cell_type": "code",
      "source": [
        "[\n",
        "  [\n",
        "    [\n",
        "      [1.],\n",
        "      [2.],\n",
        "      [3.]\n",
        "    ],\n",
        "    [\n",
        "      [4.],\n",
        "      [5.],\n",
        "      [6.]\n",
        "    ],\n",
        "    [\n",
        "      [7.],\n",
        "      [8.],\n",
        "      [9.]\n",
        "    ]\n",
        "  ]\n",
        "]\n",
        "\"\"\"\n",
        "In this representation, each element within the innermost brackets [ ] represents a single value in the tensor.\n",
        "The second dimension corresponds to the rows, while the third dimension corresponds to the columns.\n",
        "So, based on this correct representation, the tensor has 1 batch, 3 rows, 3 columns, and 1 channel.\n",
        "\"\"\""
      ],
      "metadata": {
        "id": "g2spAsF-i7SL",
        "colab": {
          "base_uri": "https://localhost:8080/"
        },
        "outputId": "cd5bdb8b-7611-4e4c-aceb-33e489fba1cc"
      },
      "execution_count": 65,
      "outputs": [
        {
          "output_type": "execute_result",
          "data": {
            "text/plain": [
              "[[[[1.0], [2.0], [3.0]], [[4.0], [5.0], [6.0]], [[7.0], [8.0], [9.0]]]]"
            ]
          },
          "metadata": {},
          "execution_count": 65
        }
      ]
    },
    {
      "cell_type": "markdown",
      "source": [
        "`For example, for strides=(2, 2) and padding=\"valid\":`"
      ],
      "metadata": {
        "id": "eJR-809DjAQa"
      }
    },
    {
      "cell_type": "code",
      "source": [
        "x = tf.constant([[1., 2., 3., 4.],\n",
        "                 [5., 6., 7., 8.],\n",
        "                 [9., 10., 11., 12.]])\n",
        "x = tf.reshape(x, [1, 3, 4, 1])\n",
        "print(x)\n",
        "max_pool_2d = tf.keras.layers.MaxPooling2D(pool_size=(2, 2),\n",
        "   strides=(2, 2), padding='valid')\n",
        "#  formula -> (n-f)/s + 1\n",
        "max_pool_2d(x)"
      ],
      "metadata": {
        "colab": {
          "base_uri": "https://localhost:8080/"
        },
        "id": "gJgDB2bcwMhj",
        "outputId": "47a97ebe-312e-419e-aac0-c959fe6f01d9"
      },
      "execution_count": 67,
      "outputs": [
        {
          "output_type": "stream",
          "name": "stdout",
          "text": [
            "tf.Tensor(\n",
            "[[[[ 1.]\n",
            "   [ 2.]\n",
            "   [ 3.]\n",
            "   [ 4.]]\n",
            "\n",
            "  [[ 5.]\n",
            "   [ 6.]\n",
            "   [ 7.]\n",
            "   [ 8.]]\n",
            "\n",
            "  [[ 9.]\n",
            "   [10.]\n",
            "   [11.]\n",
            "   [12.]]]], shape=(1, 3, 4, 1), dtype=float32)\n"
          ]
        },
        {
          "output_type": "execute_result",
          "data": {
            "text/plain": [
              "<tf.Tensor: shape=(1, 1, 2, 1), dtype=float32, numpy=\n",
              "array([[[[6.],\n",
              "         [8.]]]], dtype=float32)>"
            ]
          },
          "metadata": {},
          "execution_count": 67
        }
      ]
    },
    {
      "cell_type": "markdown",
      "source": [
        "`For example, for stride=(1, 1) and padding=\"same\":`\n",
        "\n",
        "Padding same means the dim of final image is same as input_image"
      ],
      "metadata": {
        "id": "-Bbm4ZsgxHYl"
      }
    },
    {
      "cell_type": "code",
      "source": [
        "x = tf.constant([[1., 2., 3.],\n",
        "                 [4., 5., 6.],\n",
        "                 [7., 8., 9.]])\n",
        "x = tf.reshape(x, [1, 3, 3, 1])\n",
        "print(x)\n",
        "max_pool_2d = tf.keras.layers.MaxPooling2D(pool_size=(2, 2),\n",
        "   strides=(1, 1), padding='same')\n",
        "max_pool_2d(x)"
      ],
      "metadata": {
        "colab": {
          "base_uri": "https://localhost:8080/"
        },
        "id": "Yld966w7xMpi",
        "outputId": "bb1bceb8-81ca-422c-e2dd-70e8d0590b74"
      },
      "execution_count": 70,
      "outputs": [
        {
          "output_type": "stream",
          "name": "stdout",
          "text": [
            "tf.Tensor(\n",
            "[[[[1.]\n",
            "   [2.]\n",
            "   [3.]]\n",
            "\n",
            "  [[4.]\n",
            "   [5.]\n",
            "   [6.]]\n",
            "\n",
            "  [[7.]\n",
            "   [8.]\n",
            "   [9.]]]], shape=(1, 3, 3, 1), dtype=float32)\n"
          ]
        },
        {
          "output_type": "execute_result",
          "data": {
            "text/plain": [
              "<tf.Tensor: shape=(1, 3, 3, 1), dtype=float32, numpy=\n",
              "array([[[[5.],\n",
              "         [6.],\n",
              "         [6.]],\n",
              "\n",
              "        [[8.],\n",
              "         [9.],\n",
              "         [9.]],\n",
              "\n",
              "        [[8.],\n",
              "         [9.],\n",
              "         [9.]]]], dtype=float32)>"
            ]
          },
          "metadata": {},
          "execution_count": 70
        }
      ]
    },
    {
      "cell_type": "markdown",
      "source": [
        "*Note: Visualize convolutional operation while revesion.*"
      ],
      "metadata": {
        "id": "IJruz3c6wOnU"
      }
    },
    {
      "cell_type": "code",
      "source": [],
      "metadata": {
        "id": "PqwYHkAQdR5u"
      },
      "execution_count": 65,
      "outputs": []
    },
    {
      "cell_type": "code",
      "source": [],
      "metadata": {
        "id": "qfSKWL9IdQHI"
      },
      "execution_count": null,
      "outputs": []
    },
    {
      "cell_type": "code",
      "source": [],
      "metadata": {
        "id": "6b4vVcS7H-an"
      },
      "execution_count": 37,
      "outputs": []
    },
    {
      "cell_type": "code",
      "source": [],
      "metadata": {
        "id": "2Ah-Shx-yZpR"
      },
      "execution_count": null,
      "outputs": []
    }
  ]
}