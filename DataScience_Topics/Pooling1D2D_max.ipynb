{
  "nbformat": 4,
  "nbformat_minor": 0,
  "metadata": {
    "colab": {
      "provenance": [],
      "authorship_tag": "ABX9TyMv2lH+7WyOOO5NP25Ev87W",
      "include_colab_link": true
    },
    "kernelspec": {
      "name": "python3",
      "display_name": "Python 3"
    },
    "language_info": {
      "name": "python"
    }
  },
  "cells": [
    {
      "cell_type": "markdown",
      "metadata": {
        "id": "view-in-github",
        "colab_type": "text"
      },
      "source": [
        "<a href=\"https://colab.research.google.com/github/vis-hal-k/Data_science_self-Practice/blob/main/DataScience_Topics/Pooling1D2D_max.ipynb\" target=\"_parent\"><img src=\"https://colab.research.google.com/assets/colab-badge.svg\" alt=\"Open In Colab\"/></a>"
      ]
    },
    {
      "cell_type": "markdown",
      "source": [
        "## MaxPooling-1D"
      ],
      "metadata": {
        "id": "I5NfblN8whW4"
      }
    },
    {
      "cell_type": "code",
      "source": [
        "import tensorflow as tf\n",
        "from tensorflow import keras"
      ],
      "metadata": {
        "id": "67-gKliWwM2d"
      },
      "execution_count": 1,
      "outputs": []
    },
    {
      "cell_type": "code",
      "execution_count": 3,
      "metadata": {
        "colab": {
          "base_uri": "https://localhost:8080/"
        },
        "id": "V6Rwawq1v4a5",
        "outputId": "a842d3c7-da65-4ff3-f003-391c0849a8c1"
      },
      "outputs": [
        {
          "output_type": "execute_result",
          "data": {
            "text/plain": [
              "<keras.layers.pooling.max_pooling2d.MaxPooling2D at 0x7f23651285e0>"
            ]
          },
          "metadata": {},
          "execution_count": 3
        }
      ],
      "source": [
        "tf.keras.layers.MaxPool2D(\n",
        "    pool_size = (2,2),\n",
        "    strides = None,\n",
        "    padding='valid',\n",
        "    data_format = None,\n",
        ")"
      ]
    },
    {
      "cell_type": "markdown",
      "source": [
        "Downsamples the input representation by taking the maximum value over a spatial window of size pool_size. The window is shifted by `strides`. The resulting output, when using the `valid` padding option, has a shape of:\n",
        "\n",
        " `output_shape = (input_shape - pool_size + 1) / strides)`\n",
        "\n",
        "The resulting output shape when using the **\"same\"** padding option is:\n",
        "\n",
        "`output_shape = input_shape / strides`\n",
        "\n",
        "For example, for `strides=1` and `padding=\"valid\"`:"
      ],
      "metadata": {
        "id": "035T6JNnwn47"
      }
    },
    {
      "cell_type": "code",
      "source": [
        "x = tf.constant([1.,2.,3.,4.,5.])\n",
        "\"\"\"\n",
        "The original input tensor x has a shape of (1, 5, 1),\n",
        "where the first dimension represents the batch size,\n",
        "the second dimension represents the length of the sequence,\n",
        "and the third dimension represents the number of channels.\n",
        "\"\"\"\n",
        "x= tf.reshape(x,[1,5,1])\n",
        "\"\"\"\n",
        "The input tensor x is reshaped using tf.reshape to have a shape of (1, 5, 1).\n",
        "This step is not relevant to the pooling operation but changes the shape\n",
        "of the input tensor.\n",
        "\"\"\"\n",
        "x"
      ],
      "metadata": {
        "colab": {
          "base_uri": "https://localhost:8080/",
          "height": 36
        },
        "id": "AawwDxFUxCb5",
        "outputId": "0c22dc40-5d27-42fd-81b4-7de8e091c28b"
      },
      "execution_count": 18,
      "outputs": [
        {
          "output_type": "execute_result",
          "data": {
            "text/plain": [
              "'\\nThe input tensor x is reshaped using tf.reshape to have a shape of (1, 5, 1).\\nThis step is not relevant to the pooling operation but changes the shape \\nof the input tensor.\\n'"
            ],
            "application/vnd.google.colaboratory.intrinsic+json": {
              "type": "string"
            }
          },
          "metadata": {},
          "execution_count": 18
        }
      ]
    },
    {
      "cell_type": "code",
      "source": [
        "max_pool_1d = tf.keras.layers.MaxPooling1D(pool_size = 2,\n",
        "                                           strides = 1 , padding = 'valid'\n",
        "                                           )\n",
        "featuremap = max_pool_1d(x)\n",
        "\"\"\"\n",
        "Padding is set to valid meand no Padding is added.\n",
        "Using formula for final feature map is (n-f+1). similar as a kernel filter.\n",
        "\"\"\"\n",
        "featuremap.shape"
      ],
      "metadata": {
        "colab": {
          "base_uri": "https://localhost:8080/"
        },
        "id": "2CcU-MYDx_1j",
        "outputId": "cfd1c6de-73b7-43fe-c6a1-6e196374db47"
      },
      "execution_count": 20,
      "outputs": [
        {
          "output_type": "execute_result",
          "data": {
            "text/plain": [
              "TensorShape([1, 4, 1])"
            ]
          },
          "metadata": {},
          "execution_count": 20
        }
      ]
    },
    {
      "cell_type": "markdown",
      "source": [
        "`For example, for stride=1 and padding=\"same\"`"
      ],
      "metadata": {
        "id": "X9bKLvZhyZO5"
      }
    },
    {
      "cell_type": "code",
      "source": [
        "x = tf.constant([1.,2.,3.,4.,5.])\n",
        "x = tf.reshape(x , [1,5,1])\n",
        "# 1-> batch_size , 5-> input_size shape\n",
        "max_pool_1d = tf.keras.layers.MaxPooling1D(pool_size = 2,\n",
        "                                           strides = 2,\n",
        "                                           padding='valid'\n",
        "                                           )\n",
        "\"\"\"\n",
        "The formula use in this output_size = (input_size - pool_size) / stride + 1\n",
        "so ((5-2)/2 + 1) = 2.5 takes as 2.\n",
        "\"\"\"\n",
        "max_pool_1d(x)"
      ],
      "metadata": {
        "colab": {
          "base_uri": "https://localhost:8080/"
        },
        "id": "gQY008YTyZW9",
        "outputId": "60a1954e-c387-4848-b6c9-ea6926648789"
      },
      "execution_count": 21,
      "outputs": [
        {
          "output_type": "execute_result",
          "data": {
            "text/plain": [
              "<tf.Tensor: shape=(1, 2, 1), dtype=float32, numpy=\n",
              "array([[[2.],\n",
              "        [4.]]], dtype=float32)>"
            ]
          },
          "metadata": {},
          "execution_count": 21
        }
      ]
    },
    {
      "cell_type": "markdown",
      "source": [
        "`For example, for strides=1 and padding = “same”.`\n",
        "\n",
        "Padding is `same` means padding is added."
      ],
      "metadata": {
        "id": "npY832c_yZe4"
      }
    },
    {
      "cell_type": "code",
      "source": [
        "x = tf.constant([1.,2.,3.,4.,5.])\n",
        "x = tf.reshape(x , [1,5,1])\n",
        "max_pool_1d = tf.keras.layers.MaxPooling1D(pool_size = 2,\n",
        "                                           strides = 1 ,\n",
        "                                           padding='same'\n",
        "                                           )\n",
        "'''\n",
        "Same Padding: In this case, we add ‘p’ padding layers such that the output image has the same dimensions as the input image.\n",
        "[(n + 2p) x (n + 2p) image] * [(f x f) filter] —> [(n x n) image]\n",
        "\n",
        "\n",
        "Formula is using is output_size = (input_size + 2padding -pool_size)/strides + 1 .\n",
        "p = 2-1 = 0.5\n",
        "###### doubt #### ->  p is 0 or 1 (ceil or floor value.)\n",
        "so output is  5+2*0.5-2 + 1 = 5 -> [1,5,1]\n",
        "\n",
        "'''\n",
        "max_pool_1d(x)\n"
      ],
      "metadata": {
        "colab": {
          "base_uri": "https://localhost:8080/"
        },
        "id": "eHne5qh7G6wt",
        "outputId": "3d9e8469-b12c-414d-84bf-8fa0591b6497"
      },
      "execution_count": 37,
      "outputs": [
        {
          "output_type": "execute_result",
          "data": {
            "text/plain": [
              "<tf.Tensor: shape=(1, 5, 1), dtype=float32, numpy=\n",
              "array([[[2.],\n",
              "        [3.],\n",
              "        [4.],\n",
              "        [5.],\n",
              "        [5.]]], dtype=float32)>"
            ]
          },
          "metadata": {},
          "execution_count": 37
        }
      ]
    },
    {
      "cell_type": "code",
      "source": [],
      "metadata": {
        "id": "6b4vVcS7H-an"
      },
      "execution_count": 37,
      "outputs": []
    },
    {
      "cell_type": "code",
      "source": [],
      "metadata": {
        "id": "2Ah-Shx-yZpR"
      },
      "execution_count": null,
      "outputs": []
    }
  ]
}