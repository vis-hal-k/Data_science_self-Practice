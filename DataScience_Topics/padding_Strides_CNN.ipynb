{
  "nbformat": 4,
  "nbformat_minor": 0,
  "metadata": {
    "colab": {
      "provenance": [],
      "authorship_tag": "ABX9TyPbYvGll46gtBcLIKmgDxws",
      "include_colab_link": true
    },
    "kernelspec": {
      "name": "python3",
      "display_name": "Python 3"
    },
    "language_info": {
      "name": "python"
    }
  },
  "cells": [
    {
      "cell_type": "markdown",
      "metadata": {
        "id": "view-in-github",
        "colab_type": "text"
      },
      "source": [
        "<a href=\"https://colab.research.google.com/github/vis-hal-k/Internship_Data_science/blob/main/DataScience_Topics/padding_Strides_CNN.ipynb\" target=\"_parent\"><img src=\"https://colab.research.google.com/assets/colab-badge.svg\" alt=\"Open In Colab\"/></a>"
      ]
    },
    {
      "cell_type": "markdown",
      "source": [
        "# PADDING"
      ],
      "metadata": {
        "id": "ufMi4F3M8GSJ"
      }
    },
    {
      "cell_type": "code",
      "source": [
        "import tensorflow\n",
        "from tensorflow import keras  \n",
        "from keras.layers import Dense,Conv2D, Flatten\n",
        "from keras import Sequential\n",
        "from keras.datasets import mnist"
      ],
      "metadata": {
        "id": "aNrmiKf98xjm"
      },
      "execution_count": 8,
      "outputs": []
    },
    {
      "cell_type": "markdown",
      "source": [
        "<p>Sequential model is a linear stack of layers used in DL. It is straightforward way to build neural networls where each layer has exactly one input tensor and one ontout tensor, The out of each layer is passed as the input to the  next layer in the stack.\n",
        "<br>\n",
        "<b>Sequential() </b> : This function creates an instance of the Sequential class, initializing an empty Sequential model. <br>\n",
        "<b>model </b>: This variable represents the Sequential model object. It serves as a container to which we can add layers and define the neural network architecture.\n",
        "</p> \n",
        "\n",
        "\n",
        "```\n",
        "By creating a Sequential model, you can easily \n",
        "define and organize the layers of your neural \n",
        "network in a sequential manner.This allows you to\n",
        "build complex architectures by stacking layers one after another.\n",
        "```\n",
        "\n",
        "\n"
      ],
      "metadata": {
        "id": "QlhN6AS49cr6"
      }
    },
    {
      "cell_type": "code",
      "source": [
        "(x_train,y_train), (x_test,y_test) = mnist.load_data()"
      ],
      "metadata": {
        "id": "pvsP9Nez-CzU"
      },
      "execution_count": 9,
      "outputs": []
    },
    {
      "cell_type": "code",
      "source": [
        "model = Sequential()\n",
        "#  32 is number filter/kernel applied \n",
        "model.add(Conv2D(32,kernel_size=(3,3), padding='valid', activation='relu',input_shape=(28,28,1 )  ) )\n",
        "model.add(Conv2D(32,kernel_size=(3,3), padding='valid', activation='relu') )\n",
        "model.add(Conv2D(32,kernel_size=(3,3), padding='valid', activation='relu') )\n",
        "model.add(Flatten())\n",
        "\n",
        "model.add(Dense(128,activation = 'relu'))\n",
        "model.add(Dense(10,activation = 'softmax'))"
      ],
      "metadata": {
        "id": "xmkacHJh9MUX"
      },
      "execution_count": 10,
      "outputs": []
    },
    {
      "cell_type": "code",
      "source": [
        "model.summary()"
      ],
      "metadata": {
        "colab": {
          "base_uri": "https://localhost:8080/"
        },
        "id": "MdyV1uNU_pyq",
        "outputId": "93ea3e87-73ab-4d3f-f642-db1be0005b5b"
      },
      "execution_count": 11,
      "outputs": [
        {
          "output_type": "stream",
          "name": "stdout",
          "text": [
            "Model: \"sequential_2\"\n",
            "_________________________________________________________________\n",
            " Layer (type)                Output Shape              Param #   \n",
            "=================================================================\n",
            " conv2d_6 (Conv2D)           (None, 26, 26, 32)        320       \n",
            "                                                                 \n",
            " conv2d_7 (Conv2D)           (None, 24, 24, 32)        9248      \n",
            "                                                                 \n",
            " conv2d_8 (Conv2D)           (None, 22, 22, 32)        9248      \n",
            "                                                                 \n",
            " flatten_2 (Flatten)         (None, 15488)             0         \n",
            "                                                                 \n",
            " dense_4 (Dense)             (None, 128)               1982592   \n",
            "                                                                 \n",
            " dense_5 (Dense)             (None, 10)                1290      \n",
            "                                                                 \n",
            "=================================================================\n",
            "Total params: 2,002,698\n",
            "Trainable params: 2,002,698\n",
            "Non-trainable params: 0\n",
            "_________________________________________________________________\n"
          ]
        }
      ]
    },
    {
      "cell_type": "markdown",
      "source": [
        "In above you see that , in Output shape section the size of image decreasing. "
      ],
      "metadata": {
        "id": "VexOuqMM_sME"
      }
    },
    {
      "cell_type": "code",
      "source": [
        "#  padding is same\n",
        "model = Sequential()\n",
        "#  32 is number filter/kernel applied \n",
        "model.add(Conv2D(32,kernel_size=(3,3), padding='same', activation='relu',input_shape=(28,28,1 )  ) )\n",
        "model.add(Conv2D(32,kernel_size=(3,3), padding='same', activation='relu') )\n",
        "model.add(Conv2D(32,kernel_size=(3,3), padding='same', activation='relu') )\n",
        "model.add(Flatten())\n",
        "\n",
        "model.add(Dense(128,activation = 'relu'))\n",
        "model.add(Dense(10,activation = 'softmax'))"
      ],
      "metadata": {
        "id": "wyfCnvjn_23y"
      },
      "execution_count": 12,
      "outputs": []
    },
    {
      "cell_type": "code",
      "source": [
        "model.summary()"
      ],
      "metadata": {
        "colab": {
          "base_uri": "https://localhost:8080/"
        },
        "id": "I64yTkVXACt3",
        "outputId": "5ffaf885-7af3-4d56-dd07-5b4d11ce4939"
      },
      "execution_count": 13,
      "outputs": [
        {
          "output_type": "stream",
          "name": "stdout",
          "text": [
            "Model: \"sequential_3\"\n",
            "_________________________________________________________________\n",
            " Layer (type)                Output Shape              Param #   \n",
            "=================================================================\n",
            " conv2d_9 (Conv2D)           (None, 28, 28, 32)        320       \n",
            "                                                                 \n",
            " conv2d_10 (Conv2D)          (None, 28, 28, 32)        9248      \n",
            "                                                                 \n",
            " conv2d_11 (Conv2D)          (None, 28, 28, 32)        9248      \n",
            "                                                                 \n",
            " flatten_3 (Flatten)         (None, 25088)             0         \n",
            "                                                                 \n",
            " dense_6 (Dense)             (None, 128)               3211392   \n",
            "                                                                 \n",
            " dense_7 (Dense)             (None, 10)                1290      \n",
            "                                                                 \n",
            "=================================================================\n",
            "Total params: 3,231,498\n",
            "Trainable params: 3,231,498\n",
            "Non-trainable params: 0\n",
            "_________________________________________________________________\n"
          ]
        }
      ]
    },
    {
      "cell_type": "markdown",
      "source": [
        "You see in this the same column (output shape) is value is not decrease is remain same (28,28,32) means 28 ,  28 as it is 32 is number of filter. "
      ],
      "metadata": {
        "id": "wVk_ATGPAIT5"
      }
    },
    {
      "cell_type": "code",
      "source": [],
      "metadata": {
        "id": "LSK9cAFlAYVA"
      },
      "execution_count": 13,
      "outputs": []
    }
  ]
}