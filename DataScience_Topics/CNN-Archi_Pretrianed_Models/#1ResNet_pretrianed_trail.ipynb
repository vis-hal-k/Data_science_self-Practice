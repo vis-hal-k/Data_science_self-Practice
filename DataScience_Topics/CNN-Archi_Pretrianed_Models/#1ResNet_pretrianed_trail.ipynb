{
  "nbformat": 4,
  "nbformat_minor": 0,
  "metadata": {
    "colab": {
      "provenance": [],
      "authorship_tag": "ABX9TyPEMqp65sDZK5KJxSrsd+jb",
      "include_colab_link": true
    },
    "kernelspec": {
      "name": "python3",
      "display_name": "Python 3"
    },
    "language_info": {
      "name": "python"
    }
  },
  "cells": [
    {
      "cell_type": "markdown",
      "metadata": {
        "id": "view-in-github",
        "colab_type": "text"
      },
      "source": [
        "<a href=\"https://colab.research.google.com/github/vis-hal-k/Internship_Data_science/blob/main/DataScience_Topics/CNN-Archi_Pretrianed_Models/%231ResNet_pretrianed_trail.ipynb\" target=\"_parent\"><img src=\"https://colab.research.google.com/assets/colab-badge.svg\" alt=\"Open In Colab\"/></a>"
      ]
    },
    {
      "cell_type": "code",
      "source": [],
      "metadata": {
        "id": "TNI2F_tGT5x3"
      },
      "execution_count": null,
      "outputs": []
    },
    {
      "cell_type": "markdown",
      "source": [],
      "metadata": {
        "id": "D7x92i3ETZK2"
      }
    },
    {
      "cell_type": "code",
      "source": [
        "import tensorflow\n",
        "from tensorflow import keras\n",
        "from keras import applications"
      ],
      "metadata": {
        "id": "8CAEUQy9Tbpo"
      },
      "execution_count": null,
      "outputs": []
    },
    {
      "cell_type": "code",
      "execution_count": null,
      "metadata": {
        "id": "3bmj4uNEStaQ"
      },
      "outputs": [],
      "source": [
        "from tensorflow.keras.applications.resnet50 import ResNet50\n",
        "from tensorflow.keras.preprocessing import image\n",
        "from tensorflow.keras.applications.resnet50 import preprocess_input,decode_predictions\n",
        "import numpy as np"
      ]
    },
    {
      "cell_type": "code",
      "source": [
        "img_tom = '/content/Tomato.jpg'\n",
        "img_app = '/content/Apple.jpg'\n",
        "img_bread = '/content/Bread.jpg'\n",
        "img_elep = '/content/Elephant.jpg'\n",
        "img_chair = '/content/Chair.jpg'"
      ],
      "metadata": {
        "id": "1M92y21LTq6J"
      },
      "execution_count": null,
      "outputs": []
    },
    {
      "cell_type": "code",
      "source": [
        "model = ResNet50(weights = 'imagenet')"
      ],
      "metadata": {
        "colab": {
          "base_uri": "https://localhost:8080/"
        },
        "id": "36tQYgr2V4kK",
        "outputId": "4cc21365-b7ce-42b1-fff9-6affea1893cb"
      },
      "execution_count": null,
      "outputs": [
        {
          "output_type": "stream",
          "name": "stdout",
          "text": [
            "Downloading data from https://storage.googleapis.com/tensorflow/keras-applications/resnet/resnet50_weights_tf_dim_ordering_tf_kernels.h5\n",
            "102967424/102967424 [==============================] - 0s 0us/step\n"
          ]
        }
      ]
    },
    {
      "cell_type": "code",
      "source": [
        "imgt = image.load_img(img_chair , target_size=(224,224))\n",
        "x = image.img_to_array(imgt)\n",
        "x = np.expand_dims(x , axis = 0 ) # convert in batch .\n",
        "x = preprocess_input(x)"
      ],
      "metadata": {
        "id": "u4KtAm0TWB3o"
      },
      "execution_count": null,
      "outputs": []
    },
    {
      "cell_type": "code",
      "source": [
        "preds = model.predict(x)\n",
        "print('predicted : ', decode_predictions(preds , top=3)[0])"
      ],
      "metadata": {
        "colab": {
          "base_uri": "https://localhost:8080/"
        },
        "id": "K9K4w3C3WCPo",
        "outputId": "8226022d-3e82-4334-c7d6-80ff846e6701"
      },
      "execution_count": null,
      "outputs": [
        {
          "output_type": "stream",
          "name": "stdout",
          "text": [
            "1/1 [==============================] - 0s 209ms/step\n",
            "predicted :  [('n03017168', 'chime', 0.30092448), ('n03249569', 'drum', 0.19874099), ('n03141823', 'crutch', 0.17423998)]\n"
          ]
        }
      ]
    },
    {
      "cell_type": "code",
      "source": [],
      "metadata": {
        "id": "7nHFWtieWCZR"
      },
      "execution_count": null,
      "outputs": []
    },
    {
      "cell_type": "code",
      "source": [],
      "metadata": {
        "id": "phThjxunWCkg"
      },
      "execution_count": null,
      "outputs": []
    }
  ]
}