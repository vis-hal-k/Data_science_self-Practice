{
  "nbformat": 4,
  "nbformat_minor": 0,
  "metadata": {
    "colab": {
      "provenance": [],
      "authorship_tag": "ABX9TyOh6Xl6gEXBh3s/2498VRDs",
      "include_colab_link": true
    },
    "kernelspec": {
      "name": "python3",
      "display_name": "Python 3"
    },
    "language_info": {
      "name": "python"
    }
  },
  "cells": [
    {
      "cell_type": "markdown",
      "metadata": {
        "id": "view-in-github",
        "colab_type": "text"
      },
      "source": [
        "<a href=\"https://colab.research.google.com/github/vis-hal-k/Internship_Data_science/blob/main/DataScience_Topics/HyperParameter.ipynb\" target=\"_parent\"><img src=\"https://colab.research.google.com/assets/colab-badge.svg\" alt=\"Open In Colab\"/></a>"
      ]
    },
    {
      "cell_type": "markdown",
      "source": [
        "# HyperParameter_tuning"
      ],
      "metadata": {
        "id": "lO0yzOfrcqlj"
      }
    },
    {
      "cell_type": "code",
      "source": [
        "from google.colab import drive\n",
        "drive.mount('/content/drive')"
      ],
      "metadata": {
        "id": "sbSpi7gRdITj",
        "colab": {
          "base_uri": "https://localhost:8080/"
        },
        "outputId": "8d773697-988d-4dc1-d8fd-0d3cba7f72db"
      },
      "execution_count": 14,
      "outputs": [
        {
          "output_type": "stream",
          "name": "stdout",
          "text": [
            "Mounted at /content/drive\n"
          ]
        }
      ]
    },
    {
      "cell_type": "code",
      "source": [
        "pimaIn =\"/content/drive/MyDrive/Colab Notebooks/DeepLearn-TopicsTheory-lab/HyperParameter_Tuning/Pima_Indian_tuning/diabetes.csv\""
      ],
      "metadata": {
        "id": "9E5kMz78dKK7"
      },
      "execution_count": 15,
      "outputs": []
    },
    {
      "cell_type": "code",
      "source": [
        "import numpy as np \n",
        "import pandas as pd"
      ],
      "metadata": {
        "id": "gXXgPe0Kf36r"
      },
      "execution_count": 16,
      "outputs": []
    },
    {
      "cell_type": "code",
      "source": [
        "df = pd.read_csv(pimaIn)\n",
        "df.head(10)"
      ],
      "metadata": {
        "id": "RBBN785JgQEQ",
        "colab": {
          "base_uri": "https://localhost:8080/",
          "height": 363
        },
        "outputId": "1e23d41a-3ece-4ac3-8760-ef277c543a47"
      },
      "execution_count": 17,
      "outputs": [
        {
          "output_type": "execute_result",
          "data": {
            "text/plain": [
              "   Pregnancies  Glucose  BloodPressure  SkinThickness  Insulin   BMI  \\\n",
              "0            6      148             72             35        0  33.6   \n",
              "1            1       85             66             29        0  26.6   \n",
              "2            8      183             64              0        0  23.3   \n",
              "3            1       89             66             23       94  28.1   \n",
              "4            0      137             40             35      168  43.1   \n",
              "5            5      116             74              0        0  25.6   \n",
              "6            3       78             50             32       88  31.0   \n",
              "7           10      115              0              0        0  35.3   \n",
              "8            2      197             70             45      543  30.5   \n",
              "9            8      125             96              0        0   0.0   \n",
              "\n",
              "   DiabetesPedigreeFunction  Age  Outcome  \n",
              "0                     0.627   50        1  \n",
              "1                     0.351   31        0  \n",
              "2                     0.672   32        1  \n",
              "3                     0.167   21        0  \n",
              "4                     2.288   33        1  \n",
              "5                     0.201   30        0  \n",
              "6                     0.248   26        1  \n",
              "7                     0.134   29        0  \n",
              "8                     0.158   53        1  \n",
              "9                     0.232   54        1  "
            ],
            "text/html": [
              "\n",
              "  <div id=\"df-ff2c3cb8-1d4b-42b1-900a-e3c561fa7ab7\">\n",
              "    <div class=\"colab-df-container\">\n",
              "      <div>\n",
              "<style scoped>\n",
              "    .dataframe tbody tr th:only-of-type {\n",
              "        vertical-align: middle;\n",
              "    }\n",
              "\n",
              "    .dataframe tbody tr th {\n",
              "        vertical-align: top;\n",
              "    }\n",
              "\n",
              "    .dataframe thead th {\n",
              "        text-align: right;\n",
              "    }\n",
              "</style>\n",
              "<table border=\"1\" class=\"dataframe\">\n",
              "  <thead>\n",
              "    <tr style=\"text-align: right;\">\n",
              "      <th></th>\n",
              "      <th>Pregnancies</th>\n",
              "      <th>Glucose</th>\n",
              "      <th>BloodPressure</th>\n",
              "      <th>SkinThickness</th>\n",
              "      <th>Insulin</th>\n",
              "      <th>BMI</th>\n",
              "      <th>DiabetesPedigreeFunction</th>\n",
              "      <th>Age</th>\n",
              "      <th>Outcome</th>\n",
              "    </tr>\n",
              "  </thead>\n",
              "  <tbody>\n",
              "    <tr>\n",
              "      <th>0</th>\n",
              "      <td>6</td>\n",
              "      <td>148</td>\n",
              "      <td>72</td>\n",
              "      <td>35</td>\n",
              "      <td>0</td>\n",
              "      <td>33.6</td>\n",
              "      <td>0.627</td>\n",
              "      <td>50</td>\n",
              "      <td>1</td>\n",
              "    </tr>\n",
              "    <tr>\n",
              "      <th>1</th>\n",
              "      <td>1</td>\n",
              "      <td>85</td>\n",
              "      <td>66</td>\n",
              "      <td>29</td>\n",
              "      <td>0</td>\n",
              "      <td>26.6</td>\n",
              "      <td>0.351</td>\n",
              "      <td>31</td>\n",
              "      <td>0</td>\n",
              "    </tr>\n",
              "    <tr>\n",
              "      <th>2</th>\n",
              "      <td>8</td>\n",
              "      <td>183</td>\n",
              "      <td>64</td>\n",
              "      <td>0</td>\n",
              "      <td>0</td>\n",
              "      <td>23.3</td>\n",
              "      <td>0.672</td>\n",
              "      <td>32</td>\n",
              "      <td>1</td>\n",
              "    </tr>\n",
              "    <tr>\n",
              "      <th>3</th>\n",
              "      <td>1</td>\n",
              "      <td>89</td>\n",
              "      <td>66</td>\n",
              "      <td>23</td>\n",
              "      <td>94</td>\n",
              "      <td>28.1</td>\n",
              "      <td>0.167</td>\n",
              "      <td>21</td>\n",
              "      <td>0</td>\n",
              "    </tr>\n",
              "    <tr>\n",
              "      <th>4</th>\n",
              "      <td>0</td>\n",
              "      <td>137</td>\n",
              "      <td>40</td>\n",
              "      <td>35</td>\n",
              "      <td>168</td>\n",
              "      <td>43.1</td>\n",
              "      <td>2.288</td>\n",
              "      <td>33</td>\n",
              "      <td>1</td>\n",
              "    </tr>\n",
              "    <tr>\n",
              "      <th>5</th>\n",
              "      <td>5</td>\n",
              "      <td>116</td>\n",
              "      <td>74</td>\n",
              "      <td>0</td>\n",
              "      <td>0</td>\n",
              "      <td>25.6</td>\n",
              "      <td>0.201</td>\n",
              "      <td>30</td>\n",
              "      <td>0</td>\n",
              "    </tr>\n",
              "    <tr>\n",
              "      <th>6</th>\n",
              "      <td>3</td>\n",
              "      <td>78</td>\n",
              "      <td>50</td>\n",
              "      <td>32</td>\n",
              "      <td>88</td>\n",
              "      <td>31.0</td>\n",
              "      <td>0.248</td>\n",
              "      <td>26</td>\n",
              "      <td>1</td>\n",
              "    </tr>\n",
              "    <tr>\n",
              "      <th>7</th>\n",
              "      <td>10</td>\n",
              "      <td>115</td>\n",
              "      <td>0</td>\n",
              "      <td>0</td>\n",
              "      <td>0</td>\n",
              "      <td>35.3</td>\n",
              "      <td>0.134</td>\n",
              "      <td>29</td>\n",
              "      <td>0</td>\n",
              "    </tr>\n",
              "    <tr>\n",
              "      <th>8</th>\n",
              "      <td>2</td>\n",
              "      <td>197</td>\n",
              "      <td>70</td>\n",
              "      <td>45</td>\n",
              "      <td>543</td>\n",
              "      <td>30.5</td>\n",
              "      <td>0.158</td>\n",
              "      <td>53</td>\n",
              "      <td>1</td>\n",
              "    </tr>\n",
              "    <tr>\n",
              "      <th>9</th>\n",
              "      <td>8</td>\n",
              "      <td>125</td>\n",
              "      <td>96</td>\n",
              "      <td>0</td>\n",
              "      <td>0</td>\n",
              "      <td>0.0</td>\n",
              "      <td>0.232</td>\n",
              "      <td>54</td>\n",
              "      <td>1</td>\n",
              "    </tr>\n",
              "  </tbody>\n",
              "</table>\n",
              "</div>\n",
              "      <button class=\"colab-df-convert\" onclick=\"convertToInteractive('df-ff2c3cb8-1d4b-42b1-900a-e3c561fa7ab7')\"\n",
              "              title=\"Convert this dataframe to an interactive table.\"\n",
              "              style=\"display:none;\">\n",
              "        \n",
              "  <svg xmlns=\"http://www.w3.org/2000/svg\" height=\"24px\"viewBox=\"0 0 24 24\"\n",
              "       width=\"24px\">\n",
              "    <path d=\"M0 0h24v24H0V0z\" fill=\"none\"/>\n",
              "    <path d=\"M18.56 5.44l.94 2.06.94-2.06 2.06-.94-2.06-.94-.94-2.06-.94 2.06-2.06.94zm-11 1L8.5 8.5l.94-2.06 2.06-.94-2.06-.94L8.5 2.5l-.94 2.06-2.06.94zm10 10l.94 2.06.94-2.06 2.06-.94-2.06-.94-.94-2.06-.94 2.06-2.06.94z\"/><path d=\"M17.41 7.96l-1.37-1.37c-.4-.4-.92-.59-1.43-.59-.52 0-1.04.2-1.43.59L10.3 9.45l-7.72 7.72c-.78.78-.78 2.05 0 2.83L4 21.41c.39.39.9.59 1.41.59.51 0 1.02-.2 1.41-.59l7.78-7.78 2.81-2.81c.8-.78.8-2.07 0-2.86zM5.41 20L4 18.59l7.72-7.72 1.47 1.35L5.41 20z\"/>\n",
              "  </svg>\n",
              "      </button>\n",
              "      \n",
              "  <style>\n",
              "    .colab-df-container {\n",
              "      display:flex;\n",
              "      flex-wrap:wrap;\n",
              "      gap: 12px;\n",
              "    }\n",
              "\n",
              "    .colab-df-convert {\n",
              "      background-color: #E8F0FE;\n",
              "      border: none;\n",
              "      border-radius: 50%;\n",
              "      cursor: pointer;\n",
              "      display: none;\n",
              "      fill: #1967D2;\n",
              "      height: 32px;\n",
              "      padding: 0 0 0 0;\n",
              "      width: 32px;\n",
              "    }\n",
              "\n",
              "    .colab-df-convert:hover {\n",
              "      background-color: #E2EBFA;\n",
              "      box-shadow: 0px 1px 2px rgba(60, 64, 67, 0.3), 0px 1px 3px 1px rgba(60, 64, 67, 0.15);\n",
              "      fill: #174EA6;\n",
              "    }\n",
              "\n",
              "    [theme=dark] .colab-df-convert {\n",
              "      background-color: #3B4455;\n",
              "      fill: #D2E3FC;\n",
              "    }\n",
              "\n",
              "    [theme=dark] .colab-df-convert:hover {\n",
              "      background-color: #434B5C;\n",
              "      box-shadow: 0px 1px 3px 1px rgba(0, 0, 0, 0.15);\n",
              "      filter: drop-shadow(0px 1px 2px rgba(0, 0, 0, 0.3));\n",
              "      fill: #FFFFFF;\n",
              "    }\n",
              "  </style>\n",
              "\n",
              "      <script>\n",
              "        const buttonEl =\n",
              "          document.querySelector('#df-ff2c3cb8-1d4b-42b1-900a-e3c561fa7ab7 button.colab-df-convert');\n",
              "        buttonEl.style.display =\n",
              "          google.colab.kernel.accessAllowed ? 'block' : 'none';\n",
              "\n",
              "        async function convertToInteractive(key) {\n",
              "          const element = document.querySelector('#df-ff2c3cb8-1d4b-42b1-900a-e3c561fa7ab7');\n",
              "          const dataTable =\n",
              "            await google.colab.kernel.invokeFunction('convertToInteractive',\n",
              "                                                     [key], {});\n",
              "          if (!dataTable) return;\n",
              "\n",
              "          const docLinkHtml = 'Like what you see? Visit the ' +\n",
              "            '<a target=\"_blank\" href=https://colab.research.google.com/notebooks/data_table.ipynb>data table notebook</a>'\n",
              "            + ' to learn more about interactive tables.';\n",
              "          element.innerHTML = '';\n",
              "          dataTable['output_type'] = 'display_data';\n",
              "          await google.colab.output.renderOutput(dataTable, element);\n",
              "          const docLink = document.createElement('div');\n",
              "          docLink.innerHTML = docLinkHtml;\n",
              "          element.appendChild(docLink);\n",
              "        }\n",
              "      </script>\n",
              "    </div>\n",
              "  </div>\n",
              "  "
            ]
          },
          "metadata": {},
          "execution_count": 17
        }
      ]
    },
    {
      "cell_type": "code",
      "source": [
        "df.shape"
      ],
      "metadata": {
        "id": "UE1JrbPPjOOe",
        "colab": {
          "base_uri": "https://localhost:8080/"
        },
        "outputId": "2b07054f-fde3-45e3-d31e-33fccad830d6"
      },
      "execution_count": 18,
      "outputs": [
        {
          "output_type": "execute_result",
          "data": {
            "text/plain": [
              "(768, 9)"
            ]
          },
          "metadata": {},
          "execution_count": 18
        }
      ]
    },
    {
      "cell_type": "code",
      "source": [
        "df.corr()['Outcome']*100"
      ],
      "metadata": {
        "id": "5JrwCU-2gBNP",
        "colab": {
          "base_uri": "https://localhost:8080/"
        },
        "outputId": "dc662f81-a2ba-478d-a642-de5deef7a315"
      },
      "execution_count": 19,
      "outputs": [
        {
          "output_type": "execute_result",
          "data": {
            "text/plain": [
              "Pregnancies                  22.189815\n",
              "Glucose                      46.658140\n",
              "BloodPressure                 6.506836\n",
              "SkinThickness                 7.475223\n",
              "Insulin                      13.054795\n",
              "BMI                          29.269466\n",
              "DiabetesPedigreeFunction     17.384407\n",
              "Age                          23.835598\n",
              "Outcome                     100.000000\n",
              "Name: Outcome, dtype: float64"
            ]
          },
          "metadata": {},
          "execution_count": 19
        }
      ]
    },
    {
      "cell_type": "markdown",
      "source": [
        "## Build The MODEL "
      ],
      "metadata": {
        "id": "YIrBEhymgsI9"
      }
    },
    {
      "cell_type": "code",
      "source": [
        "x = df.iloc[:, :-1].values\n",
        "y = df.iloc[:,-1].values\n",
        "display(x,y)"
      ],
      "metadata": {
        "id": "2LLQQ6kAg9W8",
        "colab": {
          "base_uri": "https://localhost:8080/",
          "height": 746
        },
        "outputId": "dfb9d936-509e-4ce9-e115-2e596b418249"
      },
      "execution_count": 20,
      "outputs": [
        {
          "output_type": "display_data",
          "data": {
            "text/plain": [
              "array([[  6.   , 148.   ,  72.   , ...,  33.6  ,   0.627,  50.   ],\n",
              "       [  1.   ,  85.   ,  66.   , ...,  26.6  ,   0.351,  31.   ],\n",
              "       [  8.   , 183.   ,  64.   , ...,  23.3  ,   0.672,  32.   ],\n",
              "       ...,\n",
              "       [  5.   , 121.   ,  72.   , ...,  26.2  ,   0.245,  30.   ],\n",
              "       [  1.   , 126.   ,  60.   , ...,  30.1  ,   0.349,  47.   ],\n",
              "       [  1.   ,  93.   ,  70.   , ...,  30.4  ,   0.315,  23.   ]])"
            ]
          },
          "metadata": {}
        },
        {
          "output_type": "display_data",
          "data": {
            "text/plain": [
              "array([1, 0, 1, 0, 1, 0, 1, 0, 1, 1, 0, 1, 0, 1, 1, 1, 1, 1, 0, 1, 0, 0,\n",
              "       1, 1, 1, 1, 1, 0, 0, 0, 0, 1, 0, 0, 0, 0, 0, 1, 1, 1, 0, 0, 0, 1,\n",
              "       0, 1, 0, 0, 1, 0, 0, 0, 0, 1, 0, 0, 1, 0, 0, 0, 0, 1, 0, 0, 1, 0,\n",
              "       1, 0, 0, 0, 1, 0, 1, 0, 0, 0, 0, 0, 1, 0, 0, 0, 0, 0, 1, 0, 0, 0,\n",
              "       1, 0, 0, 0, 0, 1, 0, 0, 0, 0, 0, 1, 1, 0, 0, 0, 0, 0, 0, 0, 0, 1,\n",
              "       1, 1, 0, 0, 1, 1, 1, 0, 0, 0, 1, 0, 0, 0, 1, 1, 0, 0, 1, 1, 1, 1,\n",
              "       1, 0, 0, 0, 0, 0, 0, 0, 0, 0, 0, 1, 0, 0, 0, 0, 0, 0, 0, 0, 1, 0,\n",
              "       1, 1, 0, 0, 0, 1, 0, 0, 0, 0, 1, 1, 0, 0, 0, 0, 1, 1, 0, 0, 0, 1,\n",
              "       0, 1, 0, 1, 0, 0, 0, 0, 0, 1, 1, 1, 1, 1, 0, 0, 1, 1, 0, 1, 0, 1,\n",
              "       1, 1, 0, 0, 0, 0, 0, 0, 1, 1, 0, 1, 0, 0, 0, 1, 1, 1, 1, 0, 1, 1,\n",
              "       1, 1, 0, 0, 0, 0, 0, 1, 0, 0, 1, 1, 0, 0, 0, 1, 1, 1, 1, 0, 0, 0,\n",
              "       1, 1, 0, 1, 0, 0, 0, 0, 0, 0, 0, 0, 1, 1, 0, 0, 0, 1, 0, 1, 0, 0,\n",
              "       1, 0, 1, 0, 0, 1, 1, 0, 0, 0, 0, 0, 1, 0, 0, 0, 1, 0, 0, 1, 1, 0,\n",
              "       0, 1, 0, 0, 0, 1, 1, 1, 0, 0, 1, 0, 1, 0, 1, 1, 0, 1, 0, 0, 1, 0,\n",
              "       1, 1, 0, 0, 1, 0, 1, 0, 0, 1, 0, 1, 0, 1, 1, 1, 0, 0, 1, 0, 1, 0,\n",
              "       0, 0, 1, 0, 0, 0, 0, 1, 1, 1, 0, 0, 0, 0, 0, 0, 0, 0, 0, 1, 0, 0,\n",
              "       0, 0, 0, 1, 1, 1, 0, 1, 1, 0, 0, 1, 0, 0, 1, 0, 0, 1, 1, 0, 0, 0,\n",
              "       0, 1, 0, 0, 1, 0, 0, 0, 0, 0, 0, 0, 1, 1, 1, 0, 0, 1, 0, 0, 1, 0,\n",
              "       0, 1, 0, 1, 1, 0, 1, 0, 1, 0, 1, 0, 1, 1, 0, 0, 0, 0, 1, 1, 0, 1,\n",
              "       0, 1, 0, 0, 0, 0, 1, 1, 0, 1, 0, 1, 0, 0, 0, 0, 0, 1, 0, 0, 0, 0,\n",
              "       1, 0, 0, 1, 1, 1, 0, 0, 1, 0, 0, 1, 0, 0, 0, 1, 0, 0, 1, 0, 0, 0,\n",
              "       0, 0, 0, 0, 0, 0, 1, 0, 0, 0, 0, 0, 0, 0, 1, 0, 0, 0, 1, 0, 0, 0,\n",
              "       1, 1, 0, 0, 0, 0, 0, 0, 0, 1, 0, 0, 0, 0, 1, 0, 0, 0, 1, 0, 0, 0,\n",
              "       1, 0, 0, 0, 1, 0, 0, 0, 0, 1, 1, 0, 0, 0, 0, 0, 0, 1, 0, 0, 0, 0,\n",
              "       0, 0, 0, 0, 0, 0, 0, 1, 0, 0, 0, 1, 1, 1, 1, 0, 0, 1, 1, 0, 0, 0,\n",
              "       0, 0, 0, 0, 0, 0, 0, 0, 0, 0, 1, 1, 0, 0, 0, 0, 0, 0, 0, 1, 0, 0,\n",
              "       0, 0, 0, 0, 0, 1, 0, 1, 1, 0, 0, 0, 1, 0, 1, 0, 1, 0, 1, 0, 1, 0,\n",
              "       0, 1, 0, 0, 1, 0, 0, 0, 0, 1, 1, 0, 1, 0, 0, 0, 0, 1, 1, 0, 1, 0,\n",
              "       0, 0, 1, 1, 0, 0, 0, 0, 0, 0, 0, 0, 0, 0, 1, 0, 0, 0, 0, 1, 0, 0,\n",
              "       1, 0, 0, 0, 1, 0, 0, 0, 1, 1, 1, 0, 0, 0, 0, 0, 0, 1, 0, 0, 0, 1,\n",
              "       0, 1, 1, 1, 1, 0, 1, 1, 0, 0, 0, 0, 0, 0, 0, 1, 1, 0, 1, 0, 0, 1,\n",
              "       0, 1, 0, 0, 0, 0, 0, 1, 0, 1, 0, 1, 0, 1, 1, 0, 0, 0, 0, 1, 1, 0,\n",
              "       0, 0, 1, 0, 1, 1, 0, 0, 1, 0, 0, 1, 1, 0, 0, 1, 0, 0, 1, 0, 0, 0,\n",
              "       0, 0, 0, 0, 1, 1, 1, 0, 0, 0, 0, 0, 0, 1, 1, 0, 0, 1, 0, 0, 1, 0,\n",
              "       1, 1, 1, 0, 0, 1, 1, 1, 0, 1, 0, 1, 0, 1, 0, 0, 0, 0, 1, 0])"
            ]
          },
          "metadata": {}
        }
      ]
    },
    {
      "cell_type": "code",
      "source": [
        "# Here we scale means all the value in range of -1 to 1 .\n",
        "from sklearn.preprocessing import StandardScaler\n",
        "scaler = StandardScaler()\n",
        "x = scaler.fit_transform(x)\n",
        "x,x.shape"
      ],
      "metadata": {
        "id": "KBYcR0WphZQL",
        "colab": {
          "base_uri": "https://localhost:8080/"
        },
        "outputId": "d5fdf47e-7a45-473e-fd10-6be3121c31e6"
      },
      "execution_count": 21,
      "outputs": [
        {
          "output_type": "execute_result",
          "data": {
            "text/plain": [
              "(array([[ 0.63994726,  0.84832379,  0.14964075, ...,  0.20401277,\n",
              "          0.46849198,  1.4259954 ],\n",
              "        [-0.84488505, -1.12339636, -0.16054575, ..., -0.68442195,\n",
              "         -0.36506078, -0.19067191],\n",
              "        [ 1.23388019,  1.94372388, -0.26394125, ..., -1.10325546,\n",
              "          0.60439732, -0.10558415],\n",
              "        ...,\n",
              "        [ 0.3429808 ,  0.00330087,  0.14964075, ..., -0.73518964,\n",
              "         -0.68519336, -0.27575966],\n",
              "        [-0.84488505,  0.1597866 , -0.47073225, ..., -0.24020459,\n",
              "         -0.37110101,  1.17073215],\n",
              "        [-0.84488505, -0.8730192 ,  0.04624525, ..., -0.20212881,\n",
              "         -0.47378505, -0.87137393]]),\n",
              " (768, 8))"
            ]
          },
          "metadata": {},
          "execution_count": 21
        }
      ]
    },
    {
      "cell_type": "code",
      "source": [
        "from sklearn.model_selection import train_test_split \n",
        "x_train, x_test , y_train , y_test = train_test_split(x,y,test_size=0.2 , random_state = 1) "
      ],
      "metadata": {
        "id": "-sgkOVClh-Z5"
      },
      "execution_count": 22,
      "outputs": []
    },
    {
      "cell_type": "code",
      "source": [
        "x_train , y_train, x_test, y_test"
      ],
      "metadata": {
        "id": "EjzspRxEiXMM",
        "colab": {
          "base_uri": "https://localhost:8080/"
        },
        "outputId": "b791cd6b-4d49-4bd7-884e-df2f7ea74675"
      },
      "execution_count": 23,
      "outputs": [
        {
          "output_type": "execute_result",
          "data": {
            "text/plain": [
              "(array([[ 1.53084665,  0.75443236,  0.56322275, ...,  0.74976553,\n",
              "          0.49869316,  0.57511787],\n",
              "        [ 1.82781311,  0.25367803, -0.36733675, ...,  1.16859904,\n",
              "         -0.0932501 ,  0.40494237],\n",
              "        [ 0.93691372, -0.59134489,  0.25303625, ...,  0.66092205,\n",
              "         -0.80901822,  1.00055664],\n",
              "        ...,\n",
              "        [ 2.7187125 ,  0.1597866 ,  1.08020025, ...,  1.44782138,\n",
              "          0.33560676,  0.74529338],\n",
              "        [ 0.04601433,  1.56815814,  0.14964075, ...,  1.47320522,\n",
              "          0.02151441, -0.61611067],\n",
              "        [ 1.53084665, -0.59134489,  0.35643175, ...,  0.1151693 ,\n",
              "          0.58325649,  1.08564439]]),\n",
              " array([1, 1, 0, 0, 0, 0, 1, 1, 0, 0, 1, 0, 1, 1, 0, 0, 1, 1, 0, 0, 1, 0,\n",
              "        1, 0, 0, 0, 1, 0, 0, 1, 0, 0, 0, 0, 1, 0, 0, 0, 0, 0, 1, 0, 0, 0,\n",
              "        1, 1, 1, 0, 0, 0, 1, 1, 0, 0, 0, 1, 0, 0, 1, 1, 0, 1, 1, 0, 0, 1,\n",
              "        0, 0, 0, 1, 1, 0, 0, 0, 0, 1, 1, 1, 0, 0, 0, 0, 0, 0, 1, 0, 1, 0,\n",
              "        0, 1, 0, 0, 1, 0, 0, 0, 0, 1, 0, 1, 0, 0, 0, 0, 1, 1, 0, 0, 0, 0,\n",
              "        1, 0, 0, 0, 0, 0, 0, 0, 0, 0, 0, 0, 0, 0, 0, 1, 0, 0, 0, 1, 0, 1,\n",
              "        1, 1, 0, 0, 1, 1, 0, 1, 1, 0, 0, 1, 0, 1, 0, 1, 0, 0, 0, 1, 1, 0,\n",
              "        1, 0, 0, 1, 1, 1, 0, 0, 1, 0, 1, 1, 0, 1, 1, 0, 0, 1, 1, 1, 0, 1,\n",
              "        0, 0, 1, 0, 1, 0, 0, 0, 0, 0, 1, 1, 1, 0, 0, 0, 0, 1, 1, 0, 0, 0,\n",
              "        0, 0, 1, 1, 0, 0, 0, 0, 1, 0, 0, 0, 0, 0, 1, 0, 0, 0, 0, 1, 0, 0,\n",
              "        0, 1, 1, 0, 1, 0, 0, 0, 1, 0, 0, 0, 1, 1, 0, 0, 1, 0, 0, 0, 0, 0,\n",
              "        0, 0, 0, 1, 0, 1, 0, 1, 0, 1, 0, 0, 0, 0, 0, 0, 1, 0, 1, 1, 0, 1,\n",
              "        1, 1, 0, 1, 0, 0, 1, 1, 0, 1, 1, 1, 0, 0, 1, 0, 0, 0, 0, 0, 0, 0,\n",
              "        0, 0, 0, 1, 0, 0, 0, 0, 0, 1, 0, 0, 0, 0, 0, 1, 0, 1, 0, 0, 0, 0,\n",
              "        0, 0, 0, 0, 0, 1, 0, 1, 0, 0, 1, 1, 0, 0, 0, 0, 0, 0, 0, 1, 0, 0,\n",
              "        1, 0, 0, 0, 0, 1, 1, 0, 0, 0, 0, 0, 0, 1, 0, 1, 1, 0, 0, 1, 0, 0,\n",
              "        0, 0, 0, 1, 0, 0, 0, 0, 0, 1, 1, 0, 0, 1, 1, 0, 0, 1, 0, 0, 0, 0,\n",
              "        0, 0, 1, 0, 0, 0, 1, 1, 0, 1, 1, 1, 0, 0, 0, 0, 1, 0, 1, 0, 0, 0,\n",
              "        0, 1, 0, 0, 0, 1, 0, 1, 0, 1, 1, 0, 1, 0, 0, 0, 0, 0, 0, 1, 0, 0,\n",
              "        1, 0, 0, 1, 0, 0, 0, 0, 1, 0, 0, 0, 1, 0, 1, 0, 0, 0, 0, 0, 1, 1,\n",
              "        1, 0, 0, 0, 0, 1, 1, 1, 1, 1, 1, 1, 0, 0, 0, 1, 0, 0, 0, 0, 1, 0,\n",
              "        1, 0, 0, 1, 0, 0, 1, 0, 0, 0, 0, 0, 1, 0, 1, 0, 1, 0, 1, 0, 0, 0,\n",
              "        1, 0, 1, 1, 0, 0, 1, 1, 0, 0, 0, 1, 1, 0, 0, 1, 1, 0, 0, 1, 0, 0,\n",
              "        0, 1, 0, 0, 0, 1, 1, 0, 0, 0, 0, 0, 0, 0, 0, 0, 0, 0, 1, 1, 0, 0,\n",
              "        0, 1, 0, 1, 0, 1, 0, 0, 0, 1, 0, 1, 1, 1, 1, 0, 0, 0, 1, 0, 0, 0,\n",
              "        0, 0, 1, 0, 1, 1, 0, 0, 0, 0, 1, 1, 1, 0, 1, 0, 1, 0, 1, 0, 1, 0,\n",
              "        0, 0, 0, 0, 0, 1, 1, 0, 0, 0, 0, 1, 0, 0, 0, 0, 0, 0, 1, 1, 0, 0,\n",
              "        0, 0, 0, 1, 1, 1, 1, 0, 0, 0, 0, 1, 0, 1, 0, 0, 1, 1, 1, 1]),\n",
              " array([[ 0.93691372,  0.47275805,  0.25303625, ..., -0.76057349,\n",
              "          0.52889435,  1.51108316],\n",
              "        [-0.84488505,  0.94221523, -0.47073225, ..., -0.74788157,\n",
              "         -0.88452119, -0.95646168],\n",
              "        [ 0.63994726, -0.37226487, -0.47073225, ..., -0.88749274,\n",
              "         -0.80297799, -0.53102292],\n",
              "        ...,\n",
              "        [ 1.23388019,  2.10020961,  0.45982725, ...,  2.01895798,\n",
              "         -1.01136617,  0.83038113],\n",
              "        [ 0.3429808 ,  0.47275805,  0.66661825, ..., -4.06047387,\n",
              "          0.50775352,  3.04266271],\n",
              "        [ 0.04601433, -0.96691063, -3.57259724, ..., -0.506735  ,\n",
              "          0.41714996, -0.19067191]]),\n",
              " array([0, 0, 0, 0, 0, 0, 0, 0, 0, 0, 0, 0, 1, 1, 0, 1, 1, 0, 0, 0, 1, 1,\n",
              "        1, 1, 0, 0, 0, 1, 0, 1, 1, 0, 0, 1, 0, 1, 0, 0, 0, 0, 0, 0, 0, 1,\n",
              "        0, 0, 1, 1, 0, 1, 0, 0, 1, 0, 1, 0, 1, 0, 0, 0, 0, 0, 1, 0, 1, 0,\n",
              "        1, 1, 0, 1, 1, 0, 0, 0, 1, 1, 1, 0, 0, 1, 1, 0, 1, 1, 0, 0, 1, 0,\n",
              "        0, 0, 0, 0, 0, 0, 1, 0, 0, 0, 1, 0, 0, 0, 1, 0, 0, 0, 1, 0, 1, 0,\n",
              "        1, 0, 0, 0, 1, 0, 0, 1, 0, 1, 0, 1, 1, 0, 0, 0, 0, 1, 0, 0, 1, 0,\n",
              "        1, 0, 0, 0, 0, 0, 1, 0, 1, 0, 0, 1, 1, 1, 0, 0, 1, 0, 0, 1, 0, 0]))"
            ]
          },
          "metadata": {},
          "execution_count": 23
        }
      ]
    },
    {
      "cell_type": "code",
      "source": [
        "import tensorflow\n",
        "from tensorflow import keras\n",
        "from keras import Sequential\n",
        "from keras.layers import Dense,Dropout\n",
        "# from keras.layers import Dense,  "
      ],
      "metadata": {
        "id": "usL0uIzhiWKp"
      },
      "execution_count": 73,
      "outputs": []
    },
    {
      "cell_type": "code",
      "source": [
        "model = Sequential()\n",
        "model.add(Dense(32,activation='relu',input_dim=8))\n",
        "model.add(Dense(1,activation='sigmoid'))\n",
        "model.compile(optimizer='Adam' , loss = 'binary_crossentropy',metrics =['accuracy'])"
      ],
      "metadata": {
        "id": "SI2BY5Y0iwE-"
      },
      "execution_count": 25,
      "outputs": []
    },
    {
      "cell_type": "code",
      "source": [
        "model.fit(x_train,y_train,batch_size=32 , epochs = 100 , validation_data=(x_test , y_test))"
      ],
      "metadata": {
        "id": "WRs6EBvNls6o",
        "colab": {
          "base_uri": "https://localhost:8080/"
        },
        "outputId": "7680258a-eac7-40a3-f7be-bf151b3823a7"
      },
      "execution_count": 26,
      "outputs": [
        {
          "output_type": "stream",
          "name": "stdout",
          "text": [
            "Epoch 1/100\n",
            "20/20 [==============================] - 1s 19ms/step - loss: 0.6531 - accuracy: 0.6547 - val_loss: 0.6223 - val_accuracy: 0.6818\n",
            "Epoch 2/100\n",
            "20/20 [==============================] - 0s 4ms/step - loss: 0.6155 - accuracy: 0.6938 - val_loss: 0.5893 - val_accuracy: 0.7273\n",
            "Epoch 3/100\n",
            "20/20 [==============================] - 0s 4ms/step - loss: 0.5858 - accuracy: 0.7068 - val_loss: 0.5622 - val_accuracy: 0.7403\n",
            "Epoch 4/100\n",
            "20/20 [==============================] - 0s 3ms/step - loss: 0.5625 - accuracy: 0.7182 - val_loss: 0.5402 - val_accuracy: 0.7597\n",
            "Epoch 5/100\n",
            "20/20 [==============================] - 0s 4ms/step - loss: 0.5431 - accuracy: 0.7329 - val_loss: 0.5222 - val_accuracy: 0.7727\n",
            "Epoch 6/100\n",
            "20/20 [==============================] - 0s 3ms/step - loss: 0.5266 - accuracy: 0.7427 - val_loss: 0.5084 - val_accuracy: 0.7792\n",
            "Epoch 7/100\n",
            "20/20 [==============================] - 0s 3ms/step - loss: 0.5132 - accuracy: 0.7459 - val_loss: 0.4967 - val_accuracy: 0.7922\n",
            "Epoch 8/100\n",
            "20/20 [==============================] - 0s 3ms/step - loss: 0.5026 - accuracy: 0.7476 - val_loss: 0.4893 - val_accuracy: 0.7922\n",
            "Epoch 9/100\n",
            "20/20 [==============================] - 0s 3ms/step - loss: 0.4936 - accuracy: 0.7557 - val_loss: 0.4825 - val_accuracy: 0.7922\n",
            "Epoch 10/100\n",
            "20/20 [==============================] - 0s 3ms/step - loss: 0.4859 - accuracy: 0.7638 - val_loss: 0.4777 - val_accuracy: 0.7922\n",
            "Epoch 11/100\n",
            "20/20 [==============================] - 0s 3ms/step - loss: 0.4802 - accuracy: 0.7638 - val_loss: 0.4735 - val_accuracy: 0.7922\n",
            "Epoch 12/100\n",
            "20/20 [==============================] - 0s 4ms/step - loss: 0.4758 - accuracy: 0.7687 - val_loss: 0.4708 - val_accuracy: 0.7792\n",
            "Epoch 13/100\n",
            "20/20 [==============================] - 0s 4ms/step - loss: 0.4712 - accuracy: 0.7720 - val_loss: 0.4686 - val_accuracy: 0.7792\n",
            "Epoch 14/100\n",
            "20/20 [==============================] - 0s 4ms/step - loss: 0.4679 - accuracy: 0.7736 - val_loss: 0.4668 - val_accuracy: 0.7987\n",
            "Epoch 15/100\n",
            "20/20 [==============================] - 0s 4ms/step - loss: 0.4648 - accuracy: 0.7720 - val_loss: 0.4669 - val_accuracy: 0.7922\n",
            "Epoch 16/100\n",
            "20/20 [==============================] - 0s 4ms/step - loss: 0.4624 - accuracy: 0.7736 - val_loss: 0.4649 - val_accuracy: 0.7922\n",
            "Epoch 17/100\n",
            "20/20 [==============================] - 0s 3ms/step - loss: 0.4605 - accuracy: 0.7752 - val_loss: 0.4653 - val_accuracy: 0.7857\n",
            "Epoch 18/100\n",
            "20/20 [==============================] - 0s 3ms/step - loss: 0.4589 - accuracy: 0.7785 - val_loss: 0.4641 - val_accuracy: 0.7857\n",
            "Epoch 19/100\n",
            "20/20 [==============================] - 0s 3ms/step - loss: 0.4573 - accuracy: 0.7736 - val_loss: 0.4648 - val_accuracy: 0.7792\n",
            "Epoch 20/100\n",
            "20/20 [==============================] - 0s 3ms/step - loss: 0.4560 - accuracy: 0.7769 - val_loss: 0.4643 - val_accuracy: 0.7792\n",
            "Epoch 21/100\n",
            "20/20 [==============================] - 0s 4ms/step - loss: 0.4549 - accuracy: 0.7769 - val_loss: 0.4656 - val_accuracy: 0.7662\n",
            "Epoch 22/100\n",
            "20/20 [==============================] - 0s 4ms/step - loss: 0.4540 - accuracy: 0.7769 - val_loss: 0.4643 - val_accuracy: 0.7857\n",
            "Epoch 23/100\n",
            "20/20 [==============================] - 0s 3ms/step - loss: 0.4521 - accuracy: 0.7769 - val_loss: 0.4649 - val_accuracy: 0.7792\n",
            "Epoch 24/100\n",
            "20/20 [==============================] - 0s 4ms/step - loss: 0.4509 - accuracy: 0.7769 - val_loss: 0.4645 - val_accuracy: 0.7792\n",
            "Epoch 25/100\n",
            "20/20 [==============================] - 0s 3ms/step - loss: 0.4502 - accuracy: 0.7752 - val_loss: 0.4628 - val_accuracy: 0.7857\n",
            "Epoch 26/100\n",
            "20/20 [==============================] - 0s 3ms/step - loss: 0.4497 - accuracy: 0.7785 - val_loss: 0.4627 - val_accuracy: 0.7857\n",
            "Epoch 27/100\n",
            "20/20 [==============================] - 0s 4ms/step - loss: 0.4487 - accuracy: 0.7752 - val_loss: 0.4629 - val_accuracy: 0.7792\n",
            "Epoch 28/100\n",
            "20/20 [==============================] - 0s 4ms/step - loss: 0.4479 - accuracy: 0.7769 - val_loss: 0.4618 - val_accuracy: 0.7857\n",
            "Epoch 29/100\n",
            "20/20 [==============================] - 0s 4ms/step - loss: 0.4474 - accuracy: 0.7769 - val_loss: 0.4615 - val_accuracy: 0.7922\n",
            "Epoch 30/100\n",
            "20/20 [==============================] - 0s 4ms/step - loss: 0.4463 - accuracy: 0.7850 - val_loss: 0.4611 - val_accuracy: 0.7857\n",
            "Epoch 31/100\n",
            "20/20 [==============================] - 0s 3ms/step - loss: 0.4463 - accuracy: 0.7785 - val_loss: 0.4612 - val_accuracy: 0.7922\n",
            "Epoch 32/100\n",
            "20/20 [==============================] - 0s 4ms/step - loss: 0.4456 - accuracy: 0.7850 - val_loss: 0.4607 - val_accuracy: 0.7857\n",
            "Epoch 33/100\n",
            "20/20 [==============================] - 0s 3ms/step - loss: 0.4450 - accuracy: 0.7866 - val_loss: 0.4612 - val_accuracy: 0.7857\n",
            "Epoch 34/100\n",
            "20/20 [==============================] - 0s 4ms/step - loss: 0.4440 - accuracy: 0.7850 - val_loss: 0.4618 - val_accuracy: 0.7857\n",
            "Epoch 35/100\n",
            "20/20 [==============================] - 0s 3ms/step - loss: 0.4433 - accuracy: 0.7850 - val_loss: 0.4617 - val_accuracy: 0.7792\n",
            "Epoch 36/100\n",
            "20/20 [==============================] - 0s 3ms/step - loss: 0.4432 - accuracy: 0.7850 - val_loss: 0.4614 - val_accuracy: 0.7792\n",
            "Epoch 37/100\n",
            "20/20 [==============================] - 0s 4ms/step - loss: 0.4421 - accuracy: 0.7818 - val_loss: 0.4617 - val_accuracy: 0.7857\n",
            "Epoch 38/100\n",
            "20/20 [==============================] - 0s 4ms/step - loss: 0.4419 - accuracy: 0.7769 - val_loss: 0.4617 - val_accuracy: 0.7857\n",
            "Epoch 39/100\n",
            "20/20 [==============================] - 0s 4ms/step - loss: 0.4418 - accuracy: 0.7769 - val_loss: 0.4624 - val_accuracy: 0.7857\n",
            "Epoch 40/100\n",
            "20/20 [==============================] - 0s 4ms/step - loss: 0.4413 - accuracy: 0.7818 - val_loss: 0.4621 - val_accuracy: 0.7792\n",
            "Epoch 41/100\n",
            "20/20 [==============================] - 0s 3ms/step - loss: 0.4405 - accuracy: 0.7801 - val_loss: 0.4610 - val_accuracy: 0.7792\n",
            "Epoch 42/100\n",
            "20/20 [==============================] - 0s 4ms/step - loss: 0.4395 - accuracy: 0.7818 - val_loss: 0.4610 - val_accuracy: 0.7792\n",
            "Epoch 43/100\n",
            "20/20 [==============================] - 0s 4ms/step - loss: 0.4400 - accuracy: 0.7834 - val_loss: 0.4616 - val_accuracy: 0.7727\n",
            "Epoch 44/100\n",
            "20/20 [==============================] - 0s 4ms/step - loss: 0.4388 - accuracy: 0.7818 - val_loss: 0.4624 - val_accuracy: 0.7792\n",
            "Epoch 45/100\n",
            "20/20 [==============================] - 0s 3ms/step - loss: 0.4385 - accuracy: 0.7818 - val_loss: 0.4622 - val_accuracy: 0.7727\n",
            "Epoch 46/100\n",
            "20/20 [==============================] - 0s 3ms/step - loss: 0.4377 - accuracy: 0.7785 - val_loss: 0.4611 - val_accuracy: 0.7792\n",
            "Epoch 47/100\n",
            "20/20 [==============================] - 0s 4ms/step - loss: 0.4381 - accuracy: 0.7785 - val_loss: 0.4615 - val_accuracy: 0.7792\n",
            "Epoch 48/100\n",
            "20/20 [==============================] - 0s 3ms/step - loss: 0.4367 - accuracy: 0.7785 - val_loss: 0.4632 - val_accuracy: 0.7727\n",
            "Epoch 49/100\n",
            "20/20 [==============================] - 0s 3ms/step - loss: 0.4360 - accuracy: 0.7801 - val_loss: 0.4643 - val_accuracy: 0.7857\n",
            "Epoch 50/100\n",
            "20/20 [==============================] - 0s 3ms/step - loss: 0.4360 - accuracy: 0.7801 - val_loss: 0.4637 - val_accuracy: 0.7857\n",
            "Epoch 51/100\n",
            "20/20 [==============================] - 0s 4ms/step - loss: 0.4352 - accuracy: 0.7834 - val_loss: 0.4637 - val_accuracy: 0.7857\n",
            "Epoch 52/100\n",
            "20/20 [==============================] - 0s 3ms/step - loss: 0.4346 - accuracy: 0.7818 - val_loss: 0.4629 - val_accuracy: 0.7857\n",
            "Epoch 53/100\n",
            "20/20 [==============================] - 0s 3ms/step - loss: 0.4344 - accuracy: 0.7801 - val_loss: 0.4628 - val_accuracy: 0.7792\n",
            "Epoch 54/100\n",
            "20/20 [==============================] - 0s 4ms/step - loss: 0.4339 - accuracy: 0.7785 - val_loss: 0.4630 - val_accuracy: 0.7792\n",
            "Epoch 55/100\n",
            "20/20 [==============================] - 0s 4ms/step - loss: 0.4339 - accuracy: 0.7801 - val_loss: 0.4600 - val_accuracy: 0.7792\n",
            "Epoch 56/100\n",
            "20/20 [==============================] - 0s 3ms/step - loss: 0.4333 - accuracy: 0.7883 - val_loss: 0.4602 - val_accuracy: 0.7857\n",
            "Epoch 57/100\n",
            "20/20 [==============================] - 0s 4ms/step - loss: 0.4324 - accuracy: 0.7883 - val_loss: 0.4602 - val_accuracy: 0.7857\n",
            "Epoch 58/100\n",
            "20/20 [==============================] - 0s 4ms/step - loss: 0.4321 - accuracy: 0.7834 - val_loss: 0.4600 - val_accuracy: 0.7922\n",
            "Epoch 59/100\n",
            "20/20 [==============================] - 0s 4ms/step - loss: 0.4320 - accuracy: 0.7866 - val_loss: 0.4589 - val_accuracy: 0.7922\n",
            "Epoch 60/100\n",
            "20/20 [==============================] - 0s 4ms/step - loss: 0.4318 - accuracy: 0.7866 - val_loss: 0.4585 - val_accuracy: 0.7922\n",
            "Epoch 61/100\n",
            "20/20 [==============================] - 0s 3ms/step - loss: 0.4314 - accuracy: 0.7850 - val_loss: 0.4584 - val_accuracy: 0.7922\n",
            "Epoch 62/100\n",
            "20/20 [==============================] - 0s 3ms/step - loss: 0.4306 - accuracy: 0.7866 - val_loss: 0.4583 - val_accuracy: 0.7922\n",
            "Epoch 63/100\n",
            "20/20 [==============================] - 0s 3ms/step - loss: 0.4308 - accuracy: 0.7818 - val_loss: 0.4570 - val_accuracy: 0.7922\n",
            "Epoch 64/100\n",
            "20/20 [==============================] - 0s 3ms/step - loss: 0.4300 - accuracy: 0.7850 - val_loss: 0.4578 - val_accuracy: 0.7922\n",
            "Epoch 65/100\n",
            "20/20 [==============================] - 0s 3ms/step - loss: 0.4302 - accuracy: 0.7866 - val_loss: 0.4574 - val_accuracy: 0.7922\n",
            "Epoch 66/100\n",
            "20/20 [==============================] - 0s 3ms/step - loss: 0.4294 - accuracy: 0.7866 - val_loss: 0.4574 - val_accuracy: 0.7922\n",
            "Epoch 67/100\n",
            "20/20 [==============================] - 0s 4ms/step - loss: 0.4300 - accuracy: 0.7899 - val_loss: 0.4577 - val_accuracy: 0.7922\n",
            "Epoch 68/100\n",
            "20/20 [==============================] - 0s 4ms/step - loss: 0.4288 - accuracy: 0.7915 - val_loss: 0.4576 - val_accuracy: 0.7857\n",
            "Epoch 69/100\n",
            "20/20 [==============================] - 0s 3ms/step - loss: 0.4285 - accuracy: 0.7899 - val_loss: 0.4577 - val_accuracy: 0.7922\n",
            "Epoch 70/100\n",
            "20/20 [==============================] - 0s 4ms/step - loss: 0.4280 - accuracy: 0.7883 - val_loss: 0.4574 - val_accuracy: 0.7857\n",
            "Epoch 71/100\n",
            "20/20 [==============================] - 0s 3ms/step - loss: 0.4274 - accuracy: 0.7834 - val_loss: 0.4574 - val_accuracy: 0.7857\n",
            "Epoch 72/100\n",
            "20/20 [==============================] - 0s 3ms/step - loss: 0.4271 - accuracy: 0.7834 - val_loss: 0.4571 - val_accuracy: 0.7857\n",
            "Epoch 73/100\n",
            "20/20 [==============================] - 0s 4ms/step - loss: 0.4271 - accuracy: 0.7899 - val_loss: 0.4584 - val_accuracy: 0.7857\n",
            "Epoch 74/100\n",
            "20/20 [==============================] - 0s 4ms/step - loss: 0.4264 - accuracy: 0.7899 - val_loss: 0.4599 - val_accuracy: 0.7857\n",
            "Epoch 75/100\n",
            "20/20 [==============================] - 0s 3ms/step - loss: 0.4262 - accuracy: 0.7834 - val_loss: 0.4596 - val_accuracy: 0.7922\n",
            "Epoch 76/100\n",
            "20/20 [==============================] - 0s 4ms/step - loss: 0.4259 - accuracy: 0.7866 - val_loss: 0.4599 - val_accuracy: 0.7922\n",
            "Epoch 77/100\n",
            "20/20 [==============================] - 0s 3ms/step - loss: 0.4254 - accuracy: 0.7899 - val_loss: 0.4598 - val_accuracy: 0.7922\n",
            "Epoch 78/100\n",
            "20/20 [==============================] - 0s 3ms/step - loss: 0.4249 - accuracy: 0.7850 - val_loss: 0.4591 - val_accuracy: 0.7922\n",
            "Epoch 79/100\n",
            "20/20 [==============================] - 0s 4ms/step - loss: 0.4259 - accuracy: 0.7899 - val_loss: 0.4581 - val_accuracy: 0.7857\n",
            "Epoch 80/100\n",
            "20/20 [==============================] - 0s 3ms/step - loss: 0.4246 - accuracy: 0.7915 - val_loss: 0.4585 - val_accuracy: 0.7857\n",
            "Epoch 81/100\n",
            "20/20 [==============================] - 0s 4ms/step - loss: 0.4241 - accuracy: 0.7866 - val_loss: 0.4604 - val_accuracy: 0.7922\n",
            "Epoch 82/100\n",
            "20/20 [==============================] - 0s 3ms/step - loss: 0.4239 - accuracy: 0.7866 - val_loss: 0.4599 - val_accuracy: 0.7857\n",
            "Epoch 83/100\n",
            "20/20 [==============================] - 0s 4ms/step - loss: 0.4230 - accuracy: 0.7948 - val_loss: 0.4595 - val_accuracy: 0.7857\n",
            "Epoch 84/100\n",
            "20/20 [==============================] - 0s 4ms/step - loss: 0.4234 - accuracy: 0.7948 - val_loss: 0.4584 - val_accuracy: 0.7857\n",
            "Epoch 85/100\n",
            "20/20 [==============================] - 0s 4ms/step - loss: 0.4226 - accuracy: 0.7899 - val_loss: 0.4587 - val_accuracy: 0.7922\n",
            "Epoch 86/100\n",
            "20/20 [==============================] - 0s 4ms/step - loss: 0.4224 - accuracy: 0.7964 - val_loss: 0.4579 - val_accuracy: 0.7922\n",
            "Epoch 87/100\n",
            "20/20 [==============================] - 0s 3ms/step - loss: 0.4221 - accuracy: 0.7964 - val_loss: 0.4570 - val_accuracy: 0.7922\n",
            "Epoch 88/100\n",
            "20/20 [==============================] - 0s 3ms/step - loss: 0.4217 - accuracy: 0.7980 - val_loss: 0.4564 - val_accuracy: 0.7922\n",
            "Epoch 89/100\n",
            "20/20 [==============================] - 0s 4ms/step - loss: 0.4214 - accuracy: 0.7899 - val_loss: 0.4571 - val_accuracy: 0.7987\n",
            "Epoch 90/100\n",
            "20/20 [==============================] - 0s 4ms/step - loss: 0.4211 - accuracy: 0.7932 - val_loss: 0.4564 - val_accuracy: 0.7922\n",
            "Epoch 91/100\n",
            "20/20 [==============================] - 0s 3ms/step - loss: 0.4206 - accuracy: 0.7948 - val_loss: 0.4566 - val_accuracy: 0.7922\n",
            "Epoch 92/100\n",
            "20/20 [==============================] - 0s 4ms/step - loss: 0.4204 - accuracy: 0.7980 - val_loss: 0.4574 - val_accuracy: 0.7922\n",
            "Epoch 93/100\n",
            "20/20 [==============================] - 0s 4ms/step - loss: 0.4206 - accuracy: 0.7997 - val_loss: 0.4531 - val_accuracy: 0.7857\n",
            "Epoch 94/100\n",
            "20/20 [==============================] - 0s 4ms/step - loss: 0.4198 - accuracy: 0.7980 - val_loss: 0.4536 - val_accuracy: 0.7922\n",
            "Epoch 95/100\n",
            "20/20 [==============================] - 0s 3ms/step - loss: 0.4201 - accuracy: 0.7964 - val_loss: 0.4555 - val_accuracy: 0.7922\n",
            "Epoch 96/100\n",
            "20/20 [==============================] - 0s 3ms/step - loss: 0.4193 - accuracy: 0.7948 - val_loss: 0.4566 - val_accuracy: 0.7922\n",
            "Epoch 97/100\n",
            "20/20 [==============================] - 0s 4ms/step - loss: 0.4185 - accuracy: 0.7980 - val_loss: 0.4570 - val_accuracy: 0.7922\n",
            "Epoch 98/100\n",
            "20/20 [==============================] - 0s 3ms/step - loss: 0.4186 - accuracy: 0.8013 - val_loss: 0.4575 - val_accuracy: 0.7922\n",
            "Epoch 99/100\n",
            "20/20 [==============================] - 0s 3ms/step - loss: 0.4184 - accuracy: 0.8013 - val_loss: 0.4570 - val_accuracy: 0.7922\n",
            "Epoch 100/100\n",
            "20/20 [==============================] - 0s 3ms/step - loss: 0.4174 - accuracy: 0.8062 - val_loss: 0.4560 - val_accuracy: 0.8052\n"
          ]
        },
        {
          "output_type": "execute_result",
          "data": {
            "text/plain": [
              "<keras.callbacks.History at 0x7f77182c2770>"
            ]
          },
          "metadata": {},
          "execution_count": 26
        }
      ]
    },
    {
      "cell_type": "code",
      "source": [
        "# 1. How to select appropriate optimizer\n",
        "# 2. Number of nodes in a layer\n",
        "# 3. How to select no. of layers\n",
        "# 4. All in one model"
      ],
      "metadata": {
        "id": "wCKLLtWKluAN"
      },
      "execution_count": 27,
      "outputs": []
    },
    {
      "cell_type": "code",
      "source": [
        "!pip install keras-tuner -q "
      ],
      "metadata": {
        "id": "OfZryR81ltRm"
      },
      "execution_count": 28,
      "outputs": []
    },
    {
      "cell_type": "code",
      "source": [
        "import keras_tuner as kt"
      ],
      "metadata": {
        "id": "l9n0StyHGZ-8"
      },
      "execution_count": 29,
      "outputs": []
    },
    {
      "cell_type": "code",
      "source": [
        "def build_model(hp):\n",
        "  model = Sequential()\n",
        "  model.add(Dense(32 , activation = 'relu', input_dim=8))\n",
        "  model.add(Dense(1,activation='sigmoid'))\n",
        "  optimizer=hp.Choice('optimizer',values = ['adam','sgd','adagrad','rmsprop','adadelta'])\n",
        "  model.compile(optimizer,loss='binary_crossentropy',metrics=['accuracy'])\n",
        "  return model"
      ],
      "metadata": {
        "id": "F_-IZ7YuGk1s"
      },
      "execution_count": 30,
      "outputs": []
    },
    {
      "cell_type": "code",
      "source": [
        "tuner = kt.RandomSearch(build_model,\n",
        "                        objective = 'val_accuracy' ,\n",
        "                        max_trials=5\n",
        "                        )\n",
        "# This Grid search."
      ],
      "metadata": {
        "id": "ukikHtqlJNvz"
      },
      "execution_count": 31,
      "outputs": []
    },
    {
      "cell_type": "code",
      "source": [
        "# there is many features in tuner but I mostly needed is search tuner\n",
        "tuner.search(x_train , y_train , epochs=5 , validation_data=(x_test,y_test))"
      ],
      "metadata": {
        "id": "abT4vnL9aGXy",
        "colab": {
          "base_uri": "https://localhost:8080/"
        },
        "outputId": "f5ca4e54-c3ff-4fab-df72-a7ae082fe114"
      },
      "execution_count": 32,
      "outputs": [
        {
          "output_type": "stream",
          "name": "stdout",
          "text": [
            "Trial 5 Complete [00h 00m 02s]\n",
            "val_accuracy: 0.5324675440788269\n",
            "\n",
            "Best val_accuracy So Far: 0.7662337422370911\n",
            "Total elapsed time: 00h 00m 09s\n"
          ]
        }
      ]
    },
    {
      "cell_type": "code",
      "source": [
        "# This shows the best which is the optimizer\n",
        "tuner.get_best_hyperparameters()[0].values"
      ],
      "metadata": {
        "id": "Oa7g64rrZWHR",
        "colab": {
          "base_uri": "https://localhost:8080/"
        },
        "outputId": "5ccc810c-26bb-4290-dd60-26328f647eb1"
      },
      "execution_count": 33,
      "outputs": [
        {
          "output_type": "execute_result",
          "data": {
            "text/plain": [
              "{'optimizer': 'adam'}"
            ]
          },
          "metadata": {},
          "execution_count": 33
        }
      ]
    },
    {
      "cell_type": "code",
      "source": [
        "# from here we don't need to train the the model again. We can extract model from here \n",
        "#  num_models = 1 indicates best best accuracy model\n",
        "model = tuner.get_best_models(num_models = 1)[0]\n",
        "model.summary()\n"
      ],
      "metadata": {
        "id": "IZuFdLdeZS0E",
        "colab": {
          "base_uri": "https://localhost:8080/"
        },
        "outputId": "3b0d81f7-0924-4096-a436-4144c335ee78"
      },
      "execution_count": 34,
      "outputs": [
        {
          "output_type": "stream",
          "name": "stdout",
          "text": [
            "Model: \"sequential\"\n",
            "_________________________________________________________________\n",
            " Layer (type)                Output Shape              Param #   \n",
            "=================================================================\n",
            " dense (Dense)               (None, 32)                288       \n",
            "                                                                 \n",
            " dense_1 (Dense)             (None, 1)                 33        \n",
            "                                                                 \n",
            "=================================================================\n",
            "Total params: 321\n",
            "Trainable params: 321\n",
            "Non-trainable params: 0\n",
            "_________________________________________________________________\n"
          ]
        }
      ]
    },
    {
      "cell_type": "code",
      "source": [
        "model.fit(x_train,y_train , batch_size = 32 , epochs=100,initial_epoch = 6, validation_data =(x_test,y_test))"
      ],
      "metadata": {
        "id": "XSvIzzbRHAa_",
        "colab": {
          "base_uri": "https://localhost:8080/"
        },
        "outputId": "6b060f08-e386-47ab-ceed-fc0fbf154304"
      },
      "execution_count": 35,
      "outputs": [
        {
          "output_type": "stream",
          "name": "stdout",
          "text": [
            "Epoch 7/100\n",
            "20/20 [==============================] - 1s 11ms/step - loss: 0.5276 - accuracy: 0.7427 - val_loss: 0.5398 - val_accuracy: 0.7727\n",
            "Epoch 8/100\n",
            "20/20 [==============================] - 0s 3ms/step - loss: 0.5150 - accuracy: 0.7524 - val_loss: 0.5273 - val_accuracy: 0.7792\n",
            "Epoch 9/100\n",
            "20/20 [==============================] - 0s 3ms/step - loss: 0.5043 - accuracy: 0.7541 - val_loss: 0.5194 - val_accuracy: 0.7792\n",
            "Epoch 10/100\n",
            "20/20 [==============================] - 0s 4ms/step - loss: 0.4956 - accuracy: 0.7541 - val_loss: 0.5111 - val_accuracy: 0.7792\n",
            "Epoch 11/100\n",
            "20/20 [==============================] - 0s 3ms/step - loss: 0.4890 - accuracy: 0.7557 - val_loss: 0.5053 - val_accuracy: 0.7857\n",
            "Epoch 12/100\n",
            "20/20 [==============================] - 0s 3ms/step - loss: 0.4830 - accuracy: 0.7622 - val_loss: 0.5018 - val_accuracy: 0.7727\n",
            "Epoch 13/100\n",
            "20/20 [==============================] - 0s 3ms/step - loss: 0.4781 - accuracy: 0.7671 - val_loss: 0.4982 - val_accuracy: 0.7727\n",
            "Epoch 14/100\n",
            "20/20 [==============================] - 0s 4ms/step - loss: 0.4740 - accuracy: 0.7752 - val_loss: 0.4944 - val_accuracy: 0.7727\n",
            "Epoch 15/100\n",
            "20/20 [==============================] - 0s 4ms/step - loss: 0.4705 - accuracy: 0.7752 - val_loss: 0.4902 - val_accuracy: 0.7662\n",
            "Epoch 16/100\n",
            "20/20 [==============================] - 0s 4ms/step - loss: 0.4675 - accuracy: 0.7818 - val_loss: 0.4893 - val_accuracy: 0.7662\n",
            "Epoch 17/100\n",
            "20/20 [==============================] - 0s 3ms/step - loss: 0.4655 - accuracy: 0.7801 - val_loss: 0.4869 - val_accuracy: 0.7662\n",
            "Epoch 18/100\n",
            "20/20 [==============================] - 0s 3ms/step - loss: 0.4629 - accuracy: 0.7818 - val_loss: 0.4854 - val_accuracy: 0.7727\n",
            "Epoch 19/100\n",
            "20/20 [==============================] - 0s 4ms/step - loss: 0.4611 - accuracy: 0.7850 - val_loss: 0.4837 - val_accuracy: 0.7727\n",
            "Epoch 20/100\n",
            "20/20 [==============================] - 0s 4ms/step - loss: 0.4595 - accuracy: 0.7866 - val_loss: 0.4817 - val_accuracy: 0.7792\n",
            "Epoch 21/100\n",
            "20/20 [==============================] - 0s 4ms/step - loss: 0.4579 - accuracy: 0.7818 - val_loss: 0.4831 - val_accuracy: 0.7857\n",
            "Epoch 22/100\n",
            "20/20 [==============================] - 0s 4ms/step - loss: 0.4564 - accuracy: 0.7866 - val_loss: 0.4830 - val_accuracy: 0.7857\n",
            "Epoch 23/100\n",
            "20/20 [==============================] - 0s 4ms/step - loss: 0.4544 - accuracy: 0.7883 - val_loss: 0.4823 - val_accuracy: 0.7857\n",
            "Epoch 24/100\n",
            "20/20 [==============================] - 0s 6ms/step - loss: 0.4535 - accuracy: 0.7850 - val_loss: 0.4802 - val_accuracy: 0.7792\n",
            "Epoch 25/100\n",
            "20/20 [==============================] - 0s 5ms/step - loss: 0.4516 - accuracy: 0.7866 - val_loss: 0.4806 - val_accuracy: 0.7792\n",
            "Epoch 26/100\n",
            "20/20 [==============================] - 0s 5ms/step - loss: 0.4511 - accuracy: 0.7834 - val_loss: 0.4792 - val_accuracy: 0.7857\n",
            "Epoch 27/100\n",
            "20/20 [==============================] - 0s 4ms/step - loss: 0.4498 - accuracy: 0.7850 - val_loss: 0.4788 - val_accuracy: 0.7857\n",
            "Epoch 28/100\n",
            "20/20 [==============================] - 0s 3ms/step - loss: 0.4492 - accuracy: 0.7866 - val_loss: 0.4786 - val_accuracy: 0.7987\n",
            "Epoch 29/100\n",
            "20/20 [==============================] - 0s 3ms/step - loss: 0.4487 - accuracy: 0.7850 - val_loss: 0.4767 - val_accuracy: 0.7922\n",
            "Epoch 30/100\n",
            "20/20 [==============================] - 0s 3ms/step - loss: 0.4475 - accuracy: 0.7866 - val_loss: 0.4763 - val_accuracy: 0.7922\n",
            "Epoch 31/100\n",
            "20/20 [==============================] - 0s 4ms/step - loss: 0.4468 - accuracy: 0.7850 - val_loss: 0.4757 - val_accuracy: 0.7987\n",
            "Epoch 32/100\n",
            "20/20 [==============================] - 0s 3ms/step - loss: 0.4459 - accuracy: 0.7883 - val_loss: 0.4761 - val_accuracy: 0.7857\n",
            "Epoch 33/100\n",
            "20/20 [==============================] - 0s 3ms/step - loss: 0.4455 - accuracy: 0.7834 - val_loss: 0.4757 - val_accuracy: 0.7922\n",
            "Epoch 34/100\n",
            "20/20 [==============================] - 0s 5ms/step - loss: 0.4452 - accuracy: 0.7850 - val_loss: 0.4763 - val_accuracy: 0.7857\n",
            "Epoch 35/100\n",
            "20/20 [==============================] - 0s 5ms/step - loss: 0.4444 - accuracy: 0.7883 - val_loss: 0.4759 - val_accuracy: 0.7987\n",
            "Epoch 36/100\n",
            "20/20 [==============================] - 0s 5ms/step - loss: 0.4442 - accuracy: 0.7818 - val_loss: 0.4741 - val_accuracy: 0.7922\n",
            "Epoch 37/100\n",
            "20/20 [==============================] - 0s 4ms/step - loss: 0.4431 - accuracy: 0.7818 - val_loss: 0.4740 - val_accuracy: 0.7922\n",
            "Epoch 38/100\n",
            "20/20 [==============================] - 0s 5ms/step - loss: 0.4424 - accuracy: 0.7834 - val_loss: 0.4729 - val_accuracy: 0.7922\n",
            "Epoch 39/100\n",
            "20/20 [==============================] - 0s 5ms/step - loss: 0.4419 - accuracy: 0.7883 - val_loss: 0.4734 - val_accuracy: 0.7987\n",
            "Epoch 40/100\n",
            "20/20 [==============================] - 0s 4ms/step - loss: 0.4412 - accuracy: 0.7883 - val_loss: 0.4727 - val_accuracy: 0.7922\n",
            "Epoch 41/100\n",
            "20/20 [==============================] - 0s 4ms/step - loss: 0.4408 - accuracy: 0.7883 - val_loss: 0.4733 - val_accuracy: 0.7987\n",
            "Epoch 42/100\n",
            "20/20 [==============================] - 0s 4ms/step - loss: 0.4404 - accuracy: 0.7899 - val_loss: 0.4738 - val_accuracy: 0.7987\n",
            "Epoch 43/100\n",
            "20/20 [==============================] - 0s 3ms/step - loss: 0.4395 - accuracy: 0.7850 - val_loss: 0.4733 - val_accuracy: 0.7987\n",
            "Epoch 44/100\n",
            "20/20 [==============================] - 0s 4ms/step - loss: 0.4393 - accuracy: 0.7850 - val_loss: 0.4729 - val_accuracy: 0.7987\n",
            "Epoch 45/100\n",
            "20/20 [==============================] - 0s 4ms/step - loss: 0.4386 - accuracy: 0.7850 - val_loss: 0.4726 - val_accuracy: 0.7987\n",
            "Epoch 46/100\n",
            "20/20 [==============================] - 0s 3ms/step - loss: 0.4380 - accuracy: 0.7883 - val_loss: 0.4724 - val_accuracy: 0.7987\n",
            "Epoch 47/100\n",
            "20/20 [==============================] - 0s 3ms/step - loss: 0.4376 - accuracy: 0.7850 - val_loss: 0.4714 - val_accuracy: 0.7987\n",
            "Epoch 48/100\n",
            "20/20 [==============================] - 0s 4ms/step - loss: 0.4373 - accuracy: 0.7866 - val_loss: 0.4701 - val_accuracy: 0.8052\n",
            "Epoch 49/100\n",
            "20/20 [==============================] - 0s 3ms/step - loss: 0.4371 - accuracy: 0.7801 - val_loss: 0.4701 - val_accuracy: 0.7987\n",
            "Epoch 50/100\n",
            "20/20 [==============================] - 0s 3ms/step - loss: 0.4375 - accuracy: 0.7850 - val_loss: 0.4724 - val_accuracy: 0.7922\n",
            "Epoch 51/100\n",
            "20/20 [==============================] - 0s 3ms/step - loss: 0.4360 - accuracy: 0.7899 - val_loss: 0.4715 - val_accuracy: 0.7922\n",
            "Epoch 52/100\n",
            "20/20 [==============================] - 0s 4ms/step - loss: 0.4358 - accuracy: 0.7883 - val_loss: 0.4728 - val_accuracy: 0.7922\n",
            "Epoch 53/100\n",
            "20/20 [==============================] - 0s 3ms/step - loss: 0.4350 - accuracy: 0.7850 - val_loss: 0.4719 - val_accuracy: 0.7922\n",
            "Epoch 54/100\n",
            "20/20 [==============================] - 0s 4ms/step - loss: 0.4344 - accuracy: 0.7850 - val_loss: 0.4700 - val_accuracy: 0.7987\n",
            "Epoch 55/100\n",
            "20/20 [==============================] - 0s 4ms/step - loss: 0.4341 - accuracy: 0.7866 - val_loss: 0.4700 - val_accuracy: 0.7987\n",
            "Epoch 56/100\n",
            "20/20 [==============================] - 0s 3ms/step - loss: 0.4336 - accuracy: 0.7883 - val_loss: 0.4705 - val_accuracy: 0.8052\n",
            "Epoch 57/100\n",
            "20/20 [==============================] - 0s 3ms/step - loss: 0.4328 - accuracy: 0.7866 - val_loss: 0.4695 - val_accuracy: 0.7922\n",
            "Epoch 58/100\n",
            "20/20 [==============================] - 0s 5ms/step - loss: 0.4330 - accuracy: 0.7883 - val_loss: 0.4688 - val_accuracy: 0.7922\n",
            "Epoch 59/100\n",
            "20/20 [==============================] - 0s 4ms/step - loss: 0.4320 - accuracy: 0.7850 - val_loss: 0.4679 - val_accuracy: 0.7922\n",
            "Epoch 60/100\n",
            "20/20 [==============================] - 0s 4ms/step - loss: 0.4322 - accuracy: 0.7850 - val_loss: 0.4672 - val_accuracy: 0.7987\n",
            "Epoch 61/100\n",
            "20/20 [==============================] - 0s 4ms/step - loss: 0.4327 - accuracy: 0.7834 - val_loss: 0.4678 - val_accuracy: 0.7987\n",
            "Epoch 62/100\n",
            "20/20 [==============================] - 0s 3ms/step - loss: 0.4313 - accuracy: 0.7850 - val_loss: 0.4672 - val_accuracy: 0.7922\n",
            "Epoch 63/100\n",
            "20/20 [==============================] - 0s 4ms/step - loss: 0.4308 - accuracy: 0.7883 - val_loss: 0.4674 - val_accuracy: 0.7922\n",
            "Epoch 64/100\n",
            "20/20 [==============================] - 0s 3ms/step - loss: 0.4308 - accuracy: 0.7915 - val_loss: 0.4672 - val_accuracy: 0.7922\n",
            "Epoch 65/100\n",
            "20/20 [==============================] - 0s 4ms/step - loss: 0.4304 - accuracy: 0.7915 - val_loss: 0.4677 - val_accuracy: 0.7987\n",
            "Epoch 66/100\n",
            "20/20 [==============================] - 0s 4ms/step - loss: 0.4298 - accuracy: 0.7883 - val_loss: 0.4679 - val_accuracy: 0.7987\n",
            "Epoch 67/100\n",
            "20/20 [==============================] - 0s 3ms/step - loss: 0.4297 - accuracy: 0.7915 - val_loss: 0.4664 - val_accuracy: 0.7987\n",
            "Epoch 68/100\n",
            "20/20 [==============================] - 0s 5ms/step - loss: 0.4296 - accuracy: 0.7948 - val_loss: 0.4676 - val_accuracy: 0.7987\n",
            "Epoch 69/100\n",
            "20/20 [==============================] - 0s 9ms/step - loss: 0.4288 - accuracy: 0.7948 - val_loss: 0.4659 - val_accuracy: 0.7922\n",
            "Epoch 70/100\n",
            "20/20 [==============================] - 0s 5ms/step - loss: 0.4285 - accuracy: 0.7866 - val_loss: 0.4655 - val_accuracy: 0.7987\n",
            "Epoch 71/100\n",
            "20/20 [==============================] - 0s 4ms/step - loss: 0.4281 - accuracy: 0.7948 - val_loss: 0.4652 - val_accuracy: 0.8052\n",
            "Epoch 72/100\n",
            "20/20 [==============================] - 0s 8ms/step - loss: 0.4277 - accuracy: 0.7915 - val_loss: 0.4653 - val_accuracy: 0.7987\n",
            "Epoch 73/100\n",
            "20/20 [==============================] - 0s 9ms/step - loss: 0.4271 - accuracy: 0.7932 - val_loss: 0.4646 - val_accuracy: 0.8052\n",
            "Epoch 74/100\n",
            "20/20 [==============================] - 0s 7ms/step - loss: 0.4280 - accuracy: 0.7915 - val_loss: 0.4639 - val_accuracy: 0.8052\n",
            "Epoch 75/100\n",
            "20/20 [==============================] - 0s 7ms/step - loss: 0.4269 - accuracy: 0.7948 - val_loss: 0.4635 - val_accuracy: 0.8052\n",
            "Epoch 76/100\n",
            "20/20 [==============================] - 0s 6ms/step - loss: 0.4261 - accuracy: 0.7948 - val_loss: 0.4621 - val_accuracy: 0.8117\n",
            "Epoch 77/100\n",
            "20/20 [==============================] - 0s 8ms/step - loss: 0.4266 - accuracy: 0.7883 - val_loss: 0.4629 - val_accuracy: 0.8052\n",
            "Epoch 78/100\n",
            "20/20 [==============================] - 0s 5ms/step - loss: 0.4262 - accuracy: 0.7899 - val_loss: 0.4635 - val_accuracy: 0.8052\n",
            "Epoch 79/100\n",
            "20/20 [==============================] - 0s 7ms/step - loss: 0.4256 - accuracy: 0.7915 - val_loss: 0.4630 - val_accuracy: 0.8052\n",
            "Epoch 80/100\n",
            "20/20 [==============================] - 0s 7ms/step - loss: 0.4253 - accuracy: 0.7932 - val_loss: 0.4634 - val_accuracy: 0.8052\n",
            "Epoch 81/100\n",
            "20/20 [==============================] - 0s 6ms/step - loss: 0.4246 - accuracy: 0.7915 - val_loss: 0.4607 - val_accuracy: 0.8182\n",
            "Epoch 82/100\n",
            "20/20 [==============================] - 0s 4ms/step - loss: 0.4246 - accuracy: 0.7964 - val_loss: 0.4611 - val_accuracy: 0.8182\n",
            "Epoch 83/100\n",
            "20/20 [==============================] - 0s 5ms/step - loss: 0.4239 - accuracy: 0.7997 - val_loss: 0.4610 - val_accuracy: 0.8182\n",
            "Epoch 84/100\n",
            "20/20 [==============================] - 0s 11ms/step - loss: 0.4235 - accuracy: 0.7980 - val_loss: 0.4608 - val_accuracy: 0.8117\n",
            "Epoch 85/100\n",
            "20/20 [==============================] - 0s 9ms/step - loss: 0.4237 - accuracy: 0.7997 - val_loss: 0.4610 - val_accuracy: 0.8182\n",
            "Epoch 86/100\n",
            "20/20 [==============================] - 0s 5ms/step - loss: 0.4228 - accuracy: 0.7964 - val_loss: 0.4612 - val_accuracy: 0.8247\n",
            "Epoch 87/100\n",
            "20/20 [==============================] - 0s 7ms/step - loss: 0.4229 - accuracy: 0.7964 - val_loss: 0.4608 - val_accuracy: 0.8182\n",
            "Epoch 88/100\n",
            "20/20 [==============================] - 0s 6ms/step - loss: 0.4223 - accuracy: 0.7964 - val_loss: 0.4608 - val_accuracy: 0.8247\n",
            "Epoch 89/100\n",
            "20/20 [==============================] - 0s 5ms/step - loss: 0.4231 - accuracy: 0.7980 - val_loss: 0.4619 - val_accuracy: 0.8052\n",
            "Epoch 90/100\n",
            "20/20 [==============================] - 0s 5ms/step - loss: 0.4219 - accuracy: 0.7980 - val_loss: 0.4627 - val_accuracy: 0.8117\n",
            "Epoch 91/100\n",
            "20/20 [==============================] - 0s 8ms/step - loss: 0.4217 - accuracy: 0.7964 - val_loss: 0.4628 - val_accuracy: 0.8117\n",
            "Epoch 92/100\n",
            "20/20 [==============================] - 0s 7ms/step - loss: 0.4213 - accuracy: 0.7997 - val_loss: 0.4621 - val_accuracy: 0.8117\n",
            "Epoch 93/100\n",
            "20/20 [==============================] - 0s 9ms/step - loss: 0.4210 - accuracy: 0.7980 - val_loss: 0.4618 - val_accuracy: 0.8182\n",
            "Epoch 94/100\n",
            "20/20 [==============================] - 0s 5ms/step - loss: 0.4207 - accuracy: 0.7964 - val_loss: 0.4609 - val_accuracy: 0.8182\n",
            "Epoch 95/100\n",
            "20/20 [==============================] - 0s 6ms/step - loss: 0.4201 - accuracy: 0.7980 - val_loss: 0.4596 - val_accuracy: 0.8117\n",
            "Epoch 96/100\n",
            "20/20 [==============================] - 0s 10ms/step - loss: 0.4201 - accuracy: 0.7964 - val_loss: 0.4597 - val_accuracy: 0.8182\n",
            "Epoch 97/100\n",
            "20/20 [==============================] - 0s 10ms/step - loss: 0.4199 - accuracy: 0.7948 - val_loss: 0.4600 - val_accuracy: 0.8182\n",
            "Epoch 98/100\n",
            "20/20 [==============================] - 0s 13ms/step - loss: 0.4194 - accuracy: 0.7980 - val_loss: 0.4603 - val_accuracy: 0.8182\n",
            "Epoch 99/100\n",
            "20/20 [==============================] - 0s 16ms/step - loss: 0.4194 - accuracy: 0.7948 - val_loss: 0.4606 - val_accuracy: 0.8247\n",
            "Epoch 100/100\n",
            "20/20 [==============================] - 0s 10ms/step - loss: 0.4199 - accuracy: 0.8046 - val_loss: 0.4593 - val_accuracy: 0.8247\n"
          ]
        },
        {
          "output_type": "execute_result",
          "data": {
            "text/plain": [
              "<keras.callbacks.History at 0x7f77182c3160>"
            ]
          },
          "metadata": {},
          "execution_count": 35
        }
      ]
    },
    {
      "cell_type": "markdown",
      "source": [
        "### Finding what is the right number of neuron we have to take ? "
      ],
      "metadata": {
        "id": "t4ppk2ONfqID"
      }
    },
    {
      "cell_type": "code",
      "source": [
        "def build_model(hp):\n",
        "   model = Sequential()\n",
        "   units = hp.Int('units',min_value=8,max_value=128,step=8)\n",
        "  #  lowerLimit=8 , upperLimit =128 ||| 8->16->24->32--------------->128. that it run and give best out of these.\n",
        "   model.add(Dense(units=units,activation='relu' , input_dim=8)) \n",
        "   model.add(Dense(1,activation='sigmoid'))\n",
        "   model.compile(optimizer='rmsprop' , loss = 'binary_crossentropy' , metrics=['accuracy'])\n",
        "   return model"
      ],
      "metadata": {
        "id": "Tb4Ol1ypfyJb"
      },
      "execution_count": 36,
      "outputs": []
    },
    {
      "cell_type": "code",
      "source": [
        "tuner = kt.RandomSearch(build_model,objective='val_accuracy',max_trials=5 , directory = 'mydir')"
      ],
      "metadata": {
        "id": "Li4C_VDdg7rk"
      },
      "execution_count": 37,
      "outputs": []
    },
    {
      "cell_type": "code",
      "source": [
        "tuner.search(x_train,y_train,epochs=5,validation_data=(x_test , y_test))"
      ],
      "metadata": {
        "id": "ZVz0T9FDhccq",
        "colab": {
          "base_uri": "https://localhost:8080/"
        },
        "outputId": "b37197f2-7f47-4577-babf-66578c56d028"
      },
      "execution_count": 38,
      "outputs": [
        {
          "output_type": "stream",
          "name": "stdout",
          "text": [
            "Trial 5 Complete [00h 00m 02s]\n",
            "val_accuracy: 0.7857142686843872\n",
            "\n",
            "Best val_accuracy So Far: 0.8051947951316833\n",
            "Total elapsed time: 00h 00m 17s\n"
          ]
        }
      ]
    },
    {
      "cell_type": "code",
      "source": [
        "# This shows the best which is the optimizer\n",
        "tuner.get_best_hyperparameters()[0].values\n",
        "#  so here the best value is 96."
      ],
      "metadata": {
        "id": "EmuZGnj0ibFB",
        "colab": {
          "base_uri": "https://localhost:8080/"
        },
        "outputId": "e71fabbf-31d7-4d3b-9bc9-1ca2d7dc9b75"
      },
      "execution_count": 39,
      "outputs": [
        {
          "output_type": "execute_result",
          "data": {
            "text/plain": [
              "{'units': 96}"
            ]
          },
          "metadata": {},
          "execution_count": 39
        }
      ]
    },
    {
      "cell_type": "code",
      "source": [
        "# Extract model at best accuracy\n",
        "model = tuner.get_best_models(num_models=1)[0]\n",
        "model.summary()"
      ],
      "metadata": {
        "id": "jZVMyWLOi3PQ",
        "colab": {
          "base_uri": "https://localhost:8080/"
        },
        "outputId": "fe84e7d8-1d97-44e7-c85a-8f7241412e52"
      },
      "execution_count": 40,
      "outputs": [
        {
          "output_type": "stream",
          "name": "stdout",
          "text": [
            "Model: \"sequential\"\n",
            "_________________________________________________________________\n",
            " Layer (type)                Output Shape              Param #   \n",
            "=================================================================\n",
            " dense (Dense)               (None, 96)                864       \n",
            "                                                                 \n",
            " dense_1 (Dense)             (None, 1)                 97        \n",
            "                                                                 \n",
            "=================================================================\n",
            "Total params: 961\n",
            "Trainable params: 961\n",
            "Non-trainable params: 0\n",
            "_________________________________________________________________\n"
          ]
        }
      ]
    },
    {
      "cell_type": "code",
      "source": [
        "#  In this there are 96 neuron.\n",
        "model.fit(x_train ,y_train, batch_size=32,epochs=100,initial_epoch=6, validation_data=(x_test,y_test) )"
      ],
      "metadata": {
        "id": "CvUEkJkRjRH2",
        "colab": {
          "base_uri": "https://localhost:8080/"
        },
        "outputId": "ba540592-5166-404f-89e6-f70e9f40f614"
      },
      "execution_count": 41,
      "outputs": [
        {
          "output_type": "stream",
          "name": "stdout",
          "text": [
            "Epoch 7/100\n",
            "20/20 [==============================] - 1s 11ms/step - loss: 0.4946 - accuracy: 0.7638 - val_loss: 0.4810 - val_accuracy: 0.8052\n",
            "Epoch 8/100\n",
            "20/20 [==============================] - 0s 4ms/step - loss: 0.4825 - accuracy: 0.7752 - val_loss: 0.4718 - val_accuracy: 0.8052\n",
            "Epoch 9/100\n",
            "20/20 [==============================] - 0s 3ms/step - loss: 0.4729 - accuracy: 0.7752 - val_loss: 0.4684 - val_accuracy: 0.8052\n",
            "Epoch 10/100\n",
            "20/20 [==============================] - 0s 4ms/step - loss: 0.4661 - accuracy: 0.7801 - val_loss: 0.4652 - val_accuracy: 0.8052\n",
            "Epoch 11/100\n",
            "20/20 [==============================] - 0s 3ms/step - loss: 0.4613 - accuracy: 0.7736 - val_loss: 0.4630 - val_accuracy: 0.8117\n",
            "Epoch 12/100\n",
            "20/20 [==============================] - 0s 3ms/step - loss: 0.4573 - accuracy: 0.7769 - val_loss: 0.4612 - val_accuracy: 0.8182\n",
            "Epoch 13/100\n",
            "20/20 [==============================] - 0s 4ms/step - loss: 0.4544 - accuracy: 0.7834 - val_loss: 0.4594 - val_accuracy: 0.8117\n",
            "Epoch 14/100\n",
            "20/20 [==============================] - 0s 3ms/step - loss: 0.4516 - accuracy: 0.7785 - val_loss: 0.4593 - val_accuracy: 0.8117\n",
            "Epoch 15/100\n",
            "20/20 [==============================] - 0s 4ms/step - loss: 0.4497 - accuracy: 0.7801 - val_loss: 0.4598 - val_accuracy: 0.8117\n",
            "Epoch 16/100\n",
            "20/20 [==============================] - 0s 4ms/step - loss: 0.4484 - accuracy: 0.7801 - val_loss: 0.4598 - val_accuracy: 0.8052\n",
            "Epoch 17/100\n",
            "20/20 [==============================] - 0s 4ms/step - loss: 0.4466 - accuracy: 0.7801 - val_loss: 0.4583 - val_accuracy: 0.8052\n",
            "Epoch 18/100\n",
            "20/20 [==============================] - 0s 4ms/step - loss: 0.4452 - accuracy: 0.7704 - val_loss: 0.4591 - val_accuracy: 0.8052\n",
            "Epoch 19/100\n",
            "20/20 [==============================] - 0s 4ms/step - loss: 0.4443 - accuracy: 0.7736 - val_loss: 0.4602 - val_accuracy: 0.8052\n",
            "Epoch 20/100\n",
            "20/20 [==============================] - 0s 3ms/step - loss: 0.4432 - accuracy: 0.7752 - val_loss: 0.4586 - val_accuracy: 0.7987\n",
            "Epoch 21/100\n",
            "20/20 [==============================] - 0s 4ms/step - loss: 0.4418 - accuracy: 0.7752 - val_loss: 0.4581 - val_accuracy: 0.7987\n",
            "Epoch 22/100\n",
            "20/20 [==============================] - 0s 4ms/step - loss: 0.4405 - accuracy: 0.7720 - val_loss: 0.4542 - val_accuracy: 0.7922\n",
            "Epoch 23/100\n",
            "20/20 [==============================] - 0s 4ms/step - loss: 0.4401 - accuracy: 0.7769 - val_loss: 0.4538 - val_accuracy: 0.7987\n",
            "Epoch 24/100\n",
            "20/20 [==============================] - 0s 4ms/step - loss: 0.4394 - accuracy: 0.7752 - val_loss: 0.4536 - val_accuracy: 0.8052\n",
            "Epoch 25/100\n",
            "20/20 [==============================] - 0s 4ms/step - loss: 0.4375 - accuracy: 0.7866 - val_loss: 0.4540 - val_accuracy: 0.8052\n",
            "Epoch 26/100\n",
            "20/20 [==============================] - 0s 4ms/step - loss: 0.4374 - accuracy: 0.7752 - val_loss: 0.4555 - val_accuracy: 0.8117\n",
            "Epoch 27/100\n",
            "20/20 [==============================] - 0s 4ms/step - loss: 0.4364 - accuracy: 0.7834 - val_loss: 0.4546 - val_accuracy: 0.8117\n",
            "Epoch 28/100\n",
            "20/20 [==============================] - 0s 3ms/step - loss: 0.4358 - accuracy: 0.7834 - val_loss: 0.4526 - val_accuracy: 0.8052\n",
            "Epoch 29/100\n",
            "20/20 [==============================] - 0s 4ms/step - loss: 0.4342 - accuracy: 0.7850 - val_loss: 0.4536 - val_accuracy: 0.8052\n",
            "Epoch 30/100\n",
            "20/20 [==============================] - 0s 4ms/step - loss: 0.4341 - accuracy: 0.7850 - val_loss: 0.4532 - val_accuracy: 0.7922\n",
            "Epoch 31/100\n",
            "20/20 [==============================] - 0s 4ms/step - loss: 0.4334 - accuracy: 0.7834 - val_loss: 0.4538 - val_accuracy: 0.7922\n",
            "Epoch 32/100\n",
            "20/20 [==============================] - 0s 3ms/step - loss: 0.4326 - accuracy: 0.7883 - val_loss: 0.4549 - val_accuracy: 0.7922\n",
            "Epoch 33/100\n",
            "20/20 [==============================] - 0s 3ms/step - loss: 0.4315 - accuracy: 0.7834 - val_loss: 0.4543 - val_accuracy: 0.7922\n",
            "Epoch 34/100\n",
            "20/20 [==============================] - 0s 3ms/step - loss: 0.4310 - accuracy: 0.7883 - val_loss: 0.4519 - val_accuracy: 0.7922\n",
            "Epoch 35/100\n",
            "20/20 [==============================] - 0s 3ms/step - loss: 0.4305 - accuracy: 0.7834 - val_loss: 0.4515 - val_accuracy: 0.7987\n",
            "Epoch 36/100\n",
            "20/20 [==============================] - 0s 4ms/step - loss: 0.4295 - accuracy: 0.7932 - val_loss: 0.4512 - val_accuracy: 0.8117\n",
            "Epoch 37/100\n",
            "20/20 [==============================] - 0s 3ms/step - loss: 0.4296 - accuracy: 0.7850 - val_loss: 0.4526 - val_accuracy: 0.7987\n",
            "Epoch 38/100\n",
            "20/20 [==============================] - 0s 3ms/step - loss: 0.4286 - accuracy: 0.7915 - val_loss: 0.4514 - val_accuracy: 0.8052\n",
            "Epoch 39/100\n",
            "20/20 [==============================] - 0s 3ms/step - loss: 0.4283 - accuracy: 0.7866 - val_loss: 0.4519 - val_accuracy: 0.7987\n",
            "Epoch 40/100\n",
            "20/20 [==============================] - 0s 4ms/step - loss: 0.4271 - accuracy: 0.7866 - val_loss: 0.4509 - val_accuracy: 0.8117\n",
            "Epoch 41/100\n",
            "20/20 [==============================] - 0s 4ms/step - loss: 0.4267 - accuracy: 0.7915 - val_loss: 0.4515 - val_accuracy: 0.8182\n",
            "Epoch 42/100\n",
            "20/20 [==============================] - 0s 4ms/step - loss: 0.4256 - accuracy: 0.7932 - val_loss: 0.4535 - val_accuracy: 0.8117\n",
            "Epoch 43/100\n",
            "20/20 [==============================] - 0s 3ms/step - loss: 0.4259 - accuracy: 0.7850 - val_loss: 0.4525 - val_accuracy: 0.8117\n",
            "Epoch 44/100\n",
            "20/20 [==============================] - 0s 3ms/step - loss: 0.4246 - accuracy: 0.7818 - val_loss: 0.4507 - val_accuracy: 0.8182\n",
            "Epoch 45/100\n",
            "20/20 [==============================] - 0s 3ms/step - loss: 0.4245 - accuracy: 0.7948 - val_loss: 0.4512 - val_accuracy: 0.8182\n",
            "Epoch 46/100\n",
            "20/20 [==============================] - 0s 4ms/step - loss: 0.4243 - accuracy: 0.7915 - val_loss: 0.4501 - val_accuracy: 0.8247\n",
            "Epoch 47/100\n",
            "20/20 [==============================] - 0s 3ms/step - loss: 0.4233 - accuracy: 0.7899 - val_loss: 0.4518 - val_accuracy: 0.8312\n",
            "Epoch 48/100\n",
            "20/20 [==============================] - 0s 3ms/step - loss: 0.4235 - accuracy: 0.7899 - val_loss: 0.4517 - val_accuracy: 0.8247\n",
            "Epoch 49/100\n",
            "20/20 [==============================] - 0s 4ms/step - loss: 0.4224 - accuracy: 0.7980 - val_loss: 0.4518 - val_accuracy: 0.8247\n",
            "Epoch 50/100\n",
            "20/20 [==============================] - 0s 4ms/step - loss: 0.4224 - accuracy: 0.7964 - val_loss: 0.4499 - val_accuracy: 0.8117\n",
            "Epoch 51/100\n",
            "20/20 [==============================] - 0s 4ms/step - loss: 0.4217 - accuracy: 0.7899 - val_loss: 0.4523 - val_accuracy: 0.8117\n",
            "Epoch 52/100\n",
            "20/20 [==============================] - 0s 3ms/step - loss: 0.4209 - accuracy: 0.7964 - val_loss: 0.4511 - val_accuracy: 0.8117\n",
            "Epoch 53/100\n",
            "20/20 [==============================] - 0s 3ms/step - loss: 0.4204 - accuracy: 0.7948 - val_loss: 0.4503 - val_accuracy: 0.8247\n",
            "Epoch 54/100\n",
            "20/20 [==============================] - 0s 3ms/step - loss: 0.4200 - accuracy: 0.7948 - val_loss: 0.4486 - val_accuracy: 0.8247\n",
            "Epoch 55/100\n",
            "20/20 [==============================] - 0s 3ms/step - loss: 0.4190 - accuracy: 0.7980 - val_loss: 0.4486 - val_accuracy: 0.8312\n",
            "Epoch 56/100\n",
            "20/20 [==============================] - 0s 4ms/step - loss: 0.4194 - accuracy: 0.7948 - val_loss: 0.4501 - val_accuracy: 0.8247\n",
            "Epoch 57/100\n",
            "20/20 [==============================] - 0s 4ms/step - loss: 0.4188 - accuracy: 0.8029 - val_loss: 0.4505 - val_accuracy: 0.8247\n",
            "Epoch 58/100\n",
            "20/20 [==============================] - 0s 3ms/step - loss: 0.4181 - accuracy: 0.8029 - val_loss: 0.4495 - val_accuracy: 0.8247\n",
            "Epoch 59/100\n",
            "20/20 [==============================] - 0s 4ms/step - loss: 0.4175 - accuracy: 0.7980 - val_loss: 0.4497 - val_accuracy: 0.8247\n",
            "Epoch 60/100\n",
            "20/20 [==============================] - 0s 5ms/step - loss: 0.4178 - accuracy: 0.7980 - val_loss: 0.4489 - val_accuracy: 0.8182\n",
            "Epoch 61/100\n",
            "20/20 [==============================] - 0s 4ms/step - loss: 0.4170 - accuracy: 0.7997 - val_loss: 0.4472 - val_accuracy: 0.8182\n",
            "Epoch 62/100\n",
            "20/20 [==============================] - 0s 4ms/step - loss: 0.4168 - accuracy: 0.7964 - val_loss: 0.4489 - val_accuracy: 0.8182\n",
            "Epoch 63/100\n",
            "20/20 [==============================] - 0s 4ms/step - loss: 0.4162 - accuracy: 0.7997 - val_loss: 0.4482 - val_accuracy: 0.8182\n",
            "Epoch 64/100\n",
            "20/20 [==============================] - 0s 3ms/step - loss: 0.4155 - accuracy: 0.8013 - val_loss: 0.4470 - val_accuracy: 0.8247\n",
            "Epoch 65/100\n",
            "20/20 [==============================] - 0s 3ms/step - loss: 0.4144 - accuracy: 0.7964 - val_loss: 0.4481 - val_accuracy: 0.8247\n",
            "Epoch 66/100\n",
            "20/20 [==============================] - 0s 4ms/step - loss: 0.4148 - accuracy: 0.8029 - val_loss: 0.4488 - val_accuracy: 0.8182\n",
            "Epoch 67/100\n",
            "20/20 [==============================] - 0s 3ms/step - loss: 0.4143 - accuracy: 0.8029 - val_loss: 0.4485 - val_accuracy: 0.8182\n",
            "Epoch 68/100\n",
            "20/20 [==============================] - 0s 3ms/step - loss: 0.4139 - accuracy: 0.8062 - val_loss: 0.4490 - val_accuracy: 0.8247\n",
            "Epoch 69/100\n",
            "20/20 [==============================] - 0s 3ms/step - loss: 0.4136 - accuracy: 0.8013 - val_loss: 0.4482 - val_accuracy: 0.8247\n",
            "Epoch 70/100\n",
            "20/20 [==============================] - 0s 3ms/step - loss: 0.4135 - accuracy: 0.8029 - val_loss: 0.4484 - val_accuracy: 0.8247\n",
            "Epoch 71/100\n",
            "20/20 [==============================] - 0s 4ms/step - loss: 0.4126 - accuracy: 0.8111 - val_loss: 0.4472 - val_accuracy: 0.8247\n",
            "Epoch 72/100\n",
            "20/20 [==============================] - 0s 3ms/step - loss: 0.4125 - accuracy: 0.8046 - val_loss: 0.4470 - val_accuracy: 0.8247\n",
            "Epoch 73/100\n",
            "20/20 [==============================] - 0s 3ms/step - loss: 0.4120 - accuracy: 0.8046 - val_loss: 0.4474 - val_accuracy: 0.8247\n",
            "Epoch 74/100\n",
            "20/20 [==============================] - 0s 4ms/step - loss: 0.4121 - accuracy: 0.8046 - val_loss: 0.4458 - val_accuracy: 0.8247\n",
            "Epoch 75/100\n",
            "20/20 [==============================] - 0s 3ms/step - loss: 0.4102 - accuracy: 0.8127 - val_loss: 0.4463 - val_accuracy: 0.8247\n",
            "Epoch 76/100\n",
            "20/20 [==============================] - 0s 4ms/step - loss: 0.4104 - accuracy: 0.7997 - val_loss: 0.4469 - val_accuracy: 0.8182\n",
            "Epoch 77/100\n",
            "20/20 [==============================] - 0s 3ms/step - loss: 0.4107 - accuracy: 0.8078 - val_loss: 0.4462 - val_accuracy: 0.8182\n",
            "Epoch 78/100\n",
            "20/20 [==============================] - 0s 3ms/step - loss: 0.4100 - accuracy: 0.8111 - val_loss: 0.4450 - val_accuracy: 0.8247\n",
            "Epoch 79/100\n",
            "20/20 [==============================] - 0s 3ms/step - loss: 0.4087 - accuracy: 0.8127 - val_loss: 0.4460 - val_accuracy: 0.8247\n",
            "Epoch 80/100\n",
            "20/20 [==============================] - 0s 3ms/step - loss: 0.4094 - accuracy: 0.8127 - val_loss: 0.4461 - val_accuracy: 0.8247\n",
            "Epoch 81/100\n",
            "20/20 [==============================] - 0s 3ms/step - loss: 0.4088 - accuracy: 0.8192 - val_loss: 0.4440 - val_accuracy: 0.8247\n",
            "Epoch 82/100\n",
            "20/20 [==============================] - 0s 4ms/step - loss: 0.4077 - accuracy: 0.8111 - val_loss: 0.4446 - val_accuracy: 0.8182\n",
            "Epoch 83/100\n",
            "20/20 [==============================] - 0s 4ms/step - loss: 0.4072 - accuracy: 0.8143 - val_loss: 0.4451 - val_accuracy: 0.8247\n",
            "Epoch 84/100\n",
            "20/20 [==============================] - 0s 3ms/step - loss: 0.4079 - accuracy: 0.8111 - val_loss: 0.4442 - val_accuracy: 0.8247\n",
            "Epoch 85/100\n",
            "20/20 [==============================] - 0s 3ms/step - loss: 0.4069 - accuracy: 0.8078 - val_loss: 0.4457 - val_accuracy: 0.8247\n",
            "Epoch 86/100\n",
            "20/20 [==============================] - 0s 3ms/step - loss: 0.4067 - accuracy: 0.8111 - val_loss: 0.4457 - val_accuracy: 0.8247\n",
            "Epoch 87/100\n",
            "20/20 [==============================] - 0s 4ms/step - loss: 0.4066 - accuracy: 0.8127 - val_loss: 0.4447 - val_accuracy: 0.8247\n",
            "Epoch 88/100\n",
            "20/20 [==============================] - 0s 3ms/step - loss: 0.4065 - accuracy: 0.8127 - val_loss: 0.4465 - val_accuracy: 0.8247\n",
            "Epoch 89/100\n",
            "20/20 [==============================] - 0s 4ms/step - loss: 0.4059 - accuracy: 0.8111 - val_loss: 0.4448 - val_accuracy: 0.8182\n",
            "Epoch 90/100\n",
            "20/20 [==============================] - 0s 3ms/step - loss: 0.4053 - accuracy: 0.8160 - val_loss: 0.4440 - val_accuracy: 0.8117\n",
            "Epoch 91/100\n",
            "20/20 [==============================] - 0s 3ms/step - loss: 0.4051 - accuracy: 0.8127 - val_loss: 0.4446 - val_accuracy: 0.8247\n",
            "Epoch 92/100\n",
            "20/20 [==============================] - 0s 4ms/step - loss: 0.4048 - accuracy: 0.8127 - val_loss: 0.4448 - val_accuracy: 0.8247\n",
            "Epoch 93/100\n",
            "20/20 [==============================] - 0s 3ms/step - loss: 0.4037 - accuracy: 0.8111 - val_loss: 0.4454 - val_accuracy: 0.8247\n",
            "Epoch 94/100\n",
            "20/20 [==============================] - 0s 3ms/step - loss: 0.4036 - accuracy: 0.8160 - val_loss: 0.4426 - val_accuracy: 0.8117\n",
            "Epoch 95/100\n",
            "20/20 [==============================] - 0s 3ms/step - loss: 0.4033 - accuracy: 0.8160 - val_loss: 0.4442 - val_accuracy: 0.8247\n",
            "Epoch 96/100\n",
            "20/20 [==============================] - 0s 3ms/step - loss: 0.4037 - accuracy: 0.8176 - val_loss: 0.4459 - val_accuracy: 0.8247\n",
            "Epoch 97/100\n",
            "20/20 [==============================] - 0s 3ms/step - loss: 0.4021 - accuracy: 0.8143 - val_loss: 0.4444 - val_accuracy: 0.8182\n",
            "Epoch 98/100\n",
            "20/20 [==============================] - 0s 4ms/step - loss: 0.4022 - accuracy: 0.8111 - val_loss: 0.4446 - val_accuracy: 0.8247\n",
            "Epoch 99/100\n",
            "20/20 [==============================] - 0s 3ms/step - loss: 0.4020 - accuracy: 0.8143 - val_loss: 0.4450 - val_accuracy: 0.8247\n",
            "Epoch 100/100\n",
            "20/20 [==============================] - 0s 4ms/step - loss: 0.4015 - accuracy: 0.8208 - val_loss: 0.4419 - val_accuracy: 0.8247\n"
          ]
        },
        {
          "output_type": "execute_result",
          "data": {
            "text/plain": [
              "<keras.callbacks.History at 0x7f7712622320>"
            ]
          },
          "metadata": {},
          "execution_count": 41
        }
      ]
    },
    {
      "cell_type": "code",
      "source": [
        "#  How to select number of layer\n",
        "def build_model(hp):\n",
        "  # \n",
        "  model=Sequential()\n",
        "  # here we add first hidden layer\n",
        "  model.add(Dense(72,activation='relu',input_dim=8))\n",
        "  for i in range(hp.Int('num_layers',min_value=1,max_value=10)): \n",
        "    # This for loops means the we create 10 models & in 1st model->1 layer , 1nd m ->2 layer, soon upto 10\n",
        "    model.add(Dense(72,activation='relu'))\n",
        "  model.add(Dense(1,activation='sigmoid'))\n",
        "  model.compile(optimizer='rmsprop' , loss='binary_crossentropy',metrics=['accuracy'])\n",
        "  return model"
      ],
      "metadata": {
        "id": "xiX1iIEfkFAC"
      },
      "execution_count": 42,
      "outputs": []
    },
    {
      "cell_type": "code",
      "source": [
        "tuner = kt.RandomSearch(build_model,\n",
        "    objective='val_accuracy',\n",
        "    max_trials=3,\n",
        "    directory='mydir',\n",
        "    project_name='num_layer'\n",
        ")"
      ],
      "metadata": {
        "id": "m7HBzrIbrpNf"
      },
      "execution_count": 43,
      "outputs": []
    },
    {
      "cell_type": "code",
      "source": [
        "tuner.search(x_train,y_train,epochs=5,validation_data=(x_test,y_test))"
      ],
      "metadata": {
        "id": "q0Oi3-lur2mA",
        "colab": {
          "base_uri": "https://localhost:8080/"
        },
        "outputId": "5eb001b8-b974-4fe0-dac1-731626e8978c"
      },
      "execution_count": 44,
      "outputs": [
        {
          "output_type": "stream",
          "name": "stdout",
          "text": [
            "Trial 3 Complete [00h 00m 03s]\n",
            "val_accuracy: 0.8181818127632141\n",
            "\n",
            "Best val_accuracy So Far: 0.8181818127632141\n",
            "Total elapsed time: 00h 00m 09s\n"
          ]
        }
      ]
    },
    {
      "cell_type": "code",
      "source": [
        "tuner.get_best_hyperparameters()[0].values"
      ],
      "metadata": {
        "id": "8BdDuAn8r_nq",
        "colab": {
          "base_uri": "https://localhost:8080/"
        },
        "outputId": "f43570e8-7c97-46a4-f279-53dfd104e026"
      },
      "execution_count": 45,
      "outputs": [
        {
          "output_type": "execute_result",
          "data": {
            "text/plain": [
              "{'num_layers': 6}"
            ]
          },
          "metadata": {},
          "execution_count": 45
        }
      ]
    },
    {
      "cell_type": "code",
      "source": [
        "model=tuner.get_best_models(num_models = 1)[0]\n",
        "model.summary()"
      ],
      "metadata": {
        "id": "ZWajx2b8kKCU",
        "colab": {
          "base_uri": "https://localhost:8080/"
        },
        "outputId": "353b7d9f-e856-4e9d-e328-cccc967514dc"
      },
      "execution_count": 48,
      "outputs": [
        {
          "output_type": "stream",
          "name": "stdout",
          "text": [
            "Model: \"sequential\"\n",
            "_________________________________________________________________\n",
            " Layer (type)                Output Shape              Param #   \n",
            "=================================================================\n",
            " dense (Dense)               (None, 72)                648       \n",
            "                                                                 \n",
            " dense_1 (Dense)             (None, 72)                5256      \n",
            "                                                                 \n",
            " dense_2 (Dense)             (None, 72)                5256      \n",
            "                                                                 \n",
            " dense_3 (Dense)             (None, 72)                5256      \n",
            "                                                                 \n",
            " dense_4 (Dense)             (None, 72)                5256      \n",
            "                                                                 \n",
            " dense_5 (Dense)             (None, 72)                5256      \n",
            "                                                                 \n",
            " dense_6 (Dense)             (None, 72)                5256      \n",
            "                                                                 \n",
            " dense_7 (Dense)             (None, 1)                 73        \n",
            "                                                                 \n",
            "=================================================================\n",
            "Total params: 32,257\n",
            "Trainable params: 32,257\n",
            "Non-trainable params: 0\n",
            "_________________________________________________________________\n"
          ]
        }
      ]
    },
    {
      "cell_type": "code",
      "source": [
        "model.fit(x_train,y_train,epochs=100,initial_epoch=6,validation_data =(x_test,y_test))"
      ],
      "metadata": {
        "colab": {
          "base_uri": "https://localhost:8080/"
        },
        "id": "tMqJKXcEG22D",
        "outputId": "9f093b0e-c3d4-4ea4-8ab4-0c9831597077"
      },
      "execution_count": 49,
      "outputs": [
        {
          "output_type": "stream",
          "name": "stdout",
          "text": [
            "Epoch 7/100\n",
            "20/20 [==============================] - 1s 15ms/step - loss: 0.4718 - accuracy: 0.7655 - val_loss: 0.4832 - val_accuracy: 0.7857\n",
            "Epoch 8/100\n",
            "20/20 [==============================] - 0s 4ms/step - loss: 0.4611 - accuracy: 0.7752 - val_loss: 0.5060 - val_accuracy: 0.7727\n",
            "Epoch 9/100\n",
            "20/20 [==============================] - 0s 4ms/step - loss: 0.4556 - accuracy: 0.7752 - val_loss: 0.4906 - val_accuracy: 0.8052\n",
            "Epoch 10/100\n",
            "20/20 [==============================] - 0s 5ms/step - loss: 0.4407 - accuracy: 0.7932 - val_loss: 0.5174 - val_accuracy: 0.7532\n",
            "Epoch 11/100\n",
            "20/20 [==============================] - 0s 4ms/step - loss: 0.4349 - accuracy: 0.7866 - val_loss: 0.4608 - val_accuracy: 0.8052\n",
            "Epoch 12/100\n",
            "20/20 [==============================] - 0s 4ms/step - loss: 0.4266 - accuracy: 0.7948 - val_loss: 0.4717 - val_accuracy: 0.7987\n",
            "Epoch 13/100\n",
            "20/20 [==============================] - 0s 4ms/step - loss: 0.3978 - accuracy: 0.8143 - val_loss: 0.4723 - val_accuracy: 0.8117\n",
            "Epoch 14/100\n",
            "20/20 [==============================] - 0s 5ms/step - loss: 0.4030 - accuracy: 0.8013 - val_loss: 0.6149 - val_accuracy: 0.7597\n",
            "Epoch 15/100\n",
            "20/20 [==============================] - 0s 4ms/step - loss: 0.3922 - accuracy: 0.8208 - val_loss: 0.4984 - val_accuracy: 0.7987\n",
            "Epoch 16/100\n",
            "20/20 [==============================] - 0s 4ms/step - loss: 0.3770 - accuracy: 0.8371 - val_loss: 0.4935 - val_accuracy: 0.7922\n",
            "Epoch 17/100\n",
            "20/20 [==============================] - 0s 4ms/step - loss: 0.3629 - accuracy: 0.8420 - val_loss: 0.4965 - val_accuracy: 0.7987\n",
            "Epoch 18/100\n",
            "20/20 [==============================] - 0s 6ms/step - loss: 0.3829 - accuracy: 0.8176 - val_loss: 0.5234 - val_accuracy: 0.7792\n",
            "Epoch 19/100\n",
            "20/20 [==============================] - 0s 5ms/step - loss: 0.3517 - accuracy: 0.8534 - val_loss: 0.4941 - val_accuracy: 0.7987\n",
            "Epoch 20/100\n",
            "20/20 [==============================] - 0s 4ms/step - loss: 0.3359 - accuracy: 0.8567 - val_loss: 0.6088 - val_accuracy: 0.6883\n",
            "Epoch 21/100\n",
            "20/20 [==============================] - 0s 4ms/step - loss: 0.3274 - accuracy: 0.8664 - val_loss: 0.5620 - val_accuracy: 0.7662\n",
            "Epoch 22/100\n",
            "20/20 [==============================] - 0s 5ms/step - loss: 0.3235 - accuracy: 0.8616 - val_loss: 0.5971 - val_accuracy: 0.7857\n",
            "Epoch 23/100\n",
            "20/20 [==============================] - 0s 4ms/step - loss: 0.3054 - accuracy: 0.8713 - val_loss: 0.5921 - val_accuracy: 0.7532\n",
            "Epoch 24/100\n",
            "20/20 [==============================] - 0s 4ms/step - loss: 0.3077 - accuracy: 0.8583 - val_loss: 0.6575 - val_accuracy: 0.7532\n",
            "Epoch 25/100\n",
            "20/20 [==============================] - 0s 4ms/step - loss: 0.2940 - accuracy: 0.8827 - val_loss: 0.5667 - val_accuracy: 0.7662\n",
            "Epoch 26/100\n",
            "20/20 [==============================] - 0s 4ms/step - loss: 0.2695 - accuracy: 0.8893 - val_loss: 0.5986 - val_accuracy: 0.7727\n",
            "Epoch 27/100\n",
            "20/20 [==============================] - 0s 4ms/step - loss: 0.2972 - accuracy: 0.8697 - val_loss: 0.6702 - val_accuracy: 0.7727\n",
            "Epoch 28/100\n",
            "20/20 [==============================] - 0s 4ms/step - loss: 0.2361 - accuracy: 0.9104 - val_loss: 0.7678 - val_accuracy: 0.7208\n",
            "Epoch 29/100\n",
            "20/20 [==============================] - 0s 5ms/step - loss: 0.2572 - accuracy: 0.8974 - val_loss: 0.6505 - val_accuracy: 0.7727\n",
            "Epoch 30/100\n",
            "20/20 [==============================] - 0s 5ms/step - loss: 0.2281 - accuracy: 0.9169 - val_loss: 0.7056 - val_accuracy: 0.7922\n",
            "Epoch 31/100\n",
            "20/20 [==============================] - 0s 4ms/step - loss: 0.2225 - accuracy: 0.9169 - val_loss: 0.6896 - val_accuracy: 0.7662\n",
            "Epoch 32/100\n",
            "20/20 [==============================] - 0s 4ms/step - loss: 0.2012 - accuracy: 0.9316 - val_loss: 0.7185 - val_accuracy: 0.7208\n",
            "Epoch 33/100\n",
            "20/20 [==============================] - 0s 5ms/step - loss: 0.2210 - accuracy: 0.9169 - val_loss: 0.7091 - val_accuracy: 0.7468\n",
            "Epoch 34/100\n",
            "20/20 [==============================] - 0s 4ms/step - loss: 0.1933 - accuracy: 0.9430 - val_loss: 1.0446 - val_accuracy: 0.6818\n",
            "Epoch 35/100\n",
            "20/20 [==============================] - 0s 4ms/step - loss: 0.1920 - accuracy: 0.9332 - val_loss: 0.7498 - val_accuracy: 0.7532\n",
            "Epoch 36/100\n",
            "20/20 [==============================] - 0s 4ms/step - loss: 0.1870 - accuracy: 0.9349 - val_loss: 0.7855 - val_accuracy: 0.7273\n",
            "Epoch 37/100\n",
            "20/20 [==============================] - 0s 5ms/step - loss: 0.1639 - accuracy: 0.9414 - val_loss: 0.8558 - val_accuracy: 0.7338\n",
            "Epoch 38/100\n",
            "20/20 [==============================] - 0s 5ms/step - loss: 0.1879 - accuracy: 0.9332 - val_loss: 0.8770 - val_accuracy: 0.7338\n",
            "Epoch 39/100\n",
            "20/20 [==============================] - 0s 5ms/step - loss: 0.1853 - accuracy: 0.9267 - val_loss: 0.9435 - val_accuracy: 0.7208\n",
            "Epoch 40/100\n",
            "20/20 [==============================] - 0s 4ms/step - loss: 0.1389 - accuracy: 0.9446 - val_loss: 0.8781 - val_accuracy: 0.7727\n",
            "Epoch 41/100\n",
            "20/20 [==============================] - 0s 5ms/step - loss: 0.1279 - accuracy: 0.9511 - val_loss: 1.1174 - val_accuracy: 0.6818\n",
            "Epoch 42/100\n",
            "20/20 [==============================] - 0s 4ms/step - loss: 0.1462 - accuracy: 0.9414 - val_loss: 0.9681 - val_accuracy: 0.7338\n",
            "Epoch 43/100\n",
            "20/20 [==============================] - 0s 4ms/step - loss: 0.1329 - accuracy: 0.9577 - val_loss: 1.0071 - val_accuracy: 0.7532\n",
            "Epoch 44/100\n",
            "20/20 [==============================] - 0s 4ms/step - loss: 0.1028 - accuracy: 0.9674 - val_loss: 1.1161 - val_accuracy: 0.7468\n",
            "Epoch 45/100\n",
            "20/20 [==============================] - 0s 4ms/step - loss: 0.1202 - accuracy: 0.9511 - val_loss: 1.1714 - val_accuracy: 0.7078\n",
            "Epoch 46/100\n",
            "20/20 [==============================] - 0s 4ms/step - loss: 0.1057 - accuracy: 0.9544 - val_loss: 1.1050 - val_accuracy: 0.7208\n",
            "Epoch 47/100\n",
            "20/20 [==============================] - 0s 4ms/step - loss: 0.0922 - accuracy: 0.9658 - val_loss: 1.2407 - val_accuracy: 0.7338\n",
            "Epoch 48/100\n",
            "20/20 [==============================] - 0s 4ms/step - loss: 0.0854 - accuracy: 0.9739 - val_loss: 1.3750 - val_accuracy: 0.7403\n",
            "Epoch 49/100\n",
            "20/20 [==============================] - 0s 4ms/step - loss: 0.1441 - accuracy: 0.9577 - val_loss: 1.1261 - val_accuracy: 0.7468\n",
            "Epoch 50/100\n",
            "20/20 [==============================] - 0s 5ms/step - loss: 0.0761 - accuracy: 0.9739 - val_loss: 1.4414 - val_accuracy: 0.7403\n",
            "Epoch 51/100\n",
            "20/20 [==============================] - 0s 4ms/step - loss: 0.1055 - accuracy: 0.9674 - val_loss: 1.1626 - val_accuracy: 0.7922\n",
            "Epoch 52/100\n",
            "20/20 [==============================] - 0s 5ms/step - loss: 0.0626 - accuracy: 0.9805 - val_loss: 1.2662 - val_accuracy: 0.7727\n",
            "Epoch 53/100\n",
            "20/20 [==============================] - 0s 4ms/step - loss: 0.0821 - accuracy: 0.9674 - val_loss: 1.4174 - val_accuracy: 0.7273\n",
            "Epoch 54/100\n",
            "20/20 [==============================] - 0s 5ms/step - loss: 0.0570 - accuracy: 0.9821 - val_loss: 1.5247 - val_accuracy: 0.7208\n",
            "Epoch 55/100\n",
            "20/20 [==============================] - 0s 4ms/step - loss: 0.1085 - accuracy: 0.9560 - val_loss: 1.2721 - val_accuracy: 0.7078\n",
            "Epoch 56/100\n",
            "20/20 [==============================] - 0s 4ms/step - loss: 0.0426 - accuracy: 0.9886 - val_loss: 1.5883 - val_accuracy: 0.7403\n",
            "Epoch 57/100\n",
            "20/20 [==============================] - 0s 4ms/step - loss: 0.0838 - accuracy: 0.9674 - val_loss: 2.0464 - val_accuracy: 0.7468\n",
            "Epoch 58/100\n",
            "20/20 [==============================] - 0s 4ms/step - loss: 0.0946 - accuracy: 0.9674 - val_loss: 1.5771 - val_accuracy: 0.6948\n",
            "Epoch 59/100\n",
            "20/20 [==============================] - 0s 6ms/step - loss: 0.0248 - accuracy: 0.9919 - val_loss: 1.6757 - val_accuracy: 0.7468\n",
            "Epoch 60/100\n",
            "20/20 [==============================] - 0s 6ms/step - loss: 0.0527 - accuracy: 0.9788 - val_loss: 1.8487 - val_accuracy: 0.7662\n",
            "Epoch 61/100\n",
            "20/20 [==============================] - 0s 7ms/step - loss: 0.0737 - accuracy: 0.9691 - val_loss: 1.6448 - val_accuracy: 0.7403\n",
            "Epoch 62/100\n",
            "20/20 [==============================] - 0s 6ms/step - loss: 0.0243 - accuracy: 0.9935 - val_loss: 1.7990 - val_accuracy: 0.7338\n",
            "Epoch 63/100\n",
            "20/20 [==============================] - 0s 6ms/step - loss: 0.0517 - accuracy: 0.9837 - val_loss: 1.7023 - val_accuracy: 0.7208\n",
            "Epoch 64/100\n",
            "20/20 [==============================] - 0s 6ms/step - loss: 0.0668 - accuracy: 0.9723 - val_loss: 1.7560 - val_accuracy: 0.6558\n",
            "Epoch 65/100\n",
            "20/20 [==============================] - 0s 6ms/step - loss: 0.0299 - accuracy: 0.9870 - val_loss: 1.8470 - val_accuracy: 0.7338\n",
            "Epoch 66/100\n",
            "20/20 [==============================] - 0s 6ms/step - loss: 0.0938 - accuracy: 0.9707 - val_loss: 1.8604 - val_accuracy: 0.7403\n",
            "Epoch 67/100\n",
            "20/20 [==============================] - 0s 6ms/step - loss: 0.0291 - accuracy: 0.9902 - val_loss: 1.7895 - val_accuracy: 0.7273\n",
            "Epoch 68/100\n",
            "20/20 [==============================] - 0s 6ms/step - loss: 0.0419 - accuracy: 0.9919 - val_loss: 1.9242 - val_accuracy: 0.7403\n",
            "Epoch 69/100\n",
            "20/20 [==============================] - 0s 7ms/step - loss: 0.0312 - accuracy: 0.9870 - val_loss: 2.0990 - val_accuracy: 0.6883\n",
            "Epoch 70/100\n",
            "20/20 [==============================] - 0s 6ms/step - loss: 0.0438 - accuracy: 0.9837 - val_loss: 1.9543 - val_accuracy: 0.7143\n",
            "Epoch 71/100\n",
            "20/20 [==============================] - 0s 6ms/step - loss: 0.0512 - accuracy: 0.9821 - val_loss: 1.9465 - val_accuracy: 0.7208\n",
            "Epoch 72/100\n",
            "20/20 [==============================] - 0s 6ms/step - loss: 0.0133 - accuracy: 0.9967 - val_loss: 2.0612 - val_accuracy: 0.7597\n",
            "Epoch 73/100\n",
            "20/20 [==============================] - 0s 6ms/step - loss: 0.1254 - accuracy: 0.9707 - val_loss: 1.7307 - val_accuracy: 0.7208\n",
            "Epoch 74/100\n",
            "20/20 [==============================] - 0s 6ms/step - loss: 0.0094 - accuracy: 0.9984 - val_loss: 1.8637 - val_accuracy: 0.7273\n",
            "Epoch 75/100\n",
            "20/20 [==============================] - 0s 6ms/step - loss: 0.0400 - accuracy: 0.9853 - val_loss: 1.9416 - val_accuracy: 0.7338\n",
            "Epoch 76/100\n",
            "20/20 [==============================] - 0s 6ms/step - loss: 0.0632 - accuracy: 0.9788 - val_loss: 2.2864 - val_accuracy: 0.6948\n",
            "Epoch 77/100\n",
            "20/20 [==============================] - 0s 6ms/step - loss: 0.0820 - accuracy: 0.9853 - val_loss: 1.7536 - val_accuracy: 0.7468\n",
            "Epoch 78/100\n",
            "20/20 [==============================] - 0s 6ms/step - loss: 0.0336 - accuracy: 0.9853 - val_loss: 1.8407 - val_accuracy: 0.7208\n",
            "Epoch 79/100\n",
            "20/20 [==============================] - 0s 6ms/step - loss: 0.0155 - accuracy: 0.9951 - val_loss: 2.1223 - val_accuracy: 0.7532\n",
            "Epoch 80/100\n",
            "20/20 [==============================] - 0s 6ms/step - loss: 0.0371 - accuracy: 0.9902 - val_loss: 1.9104 - val_accuracy: 0.7597\n",
            "Epoch 81/100\n",
            "20/20 [==============================] - 0s 6ms/step - loss: 0.0314 - accuracy: 0.9919 - val_loss: 1.9673 - val_accuracy: 0.7792\n",
            "Epoch 82/100\n",
            "20/20 [==============================] - 0s 6ms/step - loss: 0.1123 - accuracy: 0.9772 - val_loss: 1.8725 - val_accuracy: 0.7532\n",
            "Epoch 83/100\n",
            "20/20 [==============================] - 0s 6ms/step - loss: 0.0095 - accuracy: 0.9984 - val_loss: 1.9391 - val_accuracy: 0.7532\n",
            "Epoch 84/100\n",
            "20/20 [==============================] - 0s 6ms/step - loss: 0.0031 - accuracy: 1.0000 - val_loss: 2.0515 - val_accuracy: 0.7468\n",
            "Epoch 85/100\n",
            "20/20 [==============================] - 0s 6ms/step - loss: 0.0228 - accuracy: 0.9967 - val_loss: 2.0120 - val_accuracy: 0.7468\n",
            "Epoch 86/100\n",
            "20/20 [==============================] - 0s 7ms/step - loss: 0.0344 - accuracy: 0.9870 - val_loss: 2.3684 - val_accuracy: 0.7208\n",
            "Epoch 87/100\n",
            "20/20 [==============================] - 0s 7ms/step - loss: 0.0461 - accuracy: 0.9870 - val_loss: 2.2978 - val_accuracy: 0.7273\n",
            "Epoch 88/100\n",
            "20/20 [==============================] - 0s 5ms/step - loss: 0.0077 - accuracy: 0.9984 - val_loss: 2.3200 - val_accuracy: 0.7468\n",
            "Epoch 89/100\n",
            "20/20 [==============================] - 0s 6ms/step - loss: 0.0493 - accuracy: 0.9870 - val_loss: 2.1835 - val_accuracy: 0.7468\n",
            "Epoch 90/100\n",
            "20/20 [==============================] - 0s 8ms/step - loss: 0.0379 - accuracy: 0.9821 - val_loss: 2.0263 - val_accuracy: 0.7338\n",
            "Epoch 91/100\n",
            "20/20 [==============================] - 0s 6ms/step - loss: 0.0038 - accuracy: 0.9984 - val_loss: 2.2063 - val_accuracy: 0.7532\n",
            "Epoch 92/100\n",
            "20/20 [==============================] - 0s 7ms/step - loss: 0.0068 - accuracy: 0.9984 - val_loss: 2.5618 - val_accuracy: 0.6948\n",
            "Epoch 93/100\n",
            "20/20 [==============================] - 0s 7ms/step - loss: 0.0496 - accuracy: 0.9886 - val_loss: 2.3072 - val_accuracy: 0.7208\n",
            "Epoch 94/100\n",
            "20/20 [==============================] - 0s 6ms/step - loss: 0.0381 - accuracy: 0.9853 - val_loss: 2.5689 - val_accuracy: 0.7468\n",
            "Epoch 95/100\n",
            "20/20 [==============================] - 0s 5ms/step - loss: 0.0397 - accuracy: 0.9886 - val_loss: 2.2754 - val_accuracy: 0.7338\n",
            "Epoch 96/100\n",
            "20/20 [==============================] - 0s 4ms/step - loss: 0.0027 - accuracy: 1.0000 - val_loss: 2.5085 - val_accuracy: 0.7273\n",
            "Epoch 97/100\n",
            "20/20 [==============================] - 0s 4ms/step - loss: 0.0476 - accuracy: 0.9853 - val_loss: 2.5901 - val_accuracy: 0.7143\n",
            "Epoch 98/100\n",
            "20/20 [==============================] - 0s 4ms/step - loss: 0.0231 - accuracy: 0.9902 - val_loss: 2.3457 - val_accuracy: 0.7597\n",
            "Epoch 99/100\n",
            "20/20 [==============================] - 0s 4ms/step - loss: 0.0249 - accuracy: 0.9886 - val_loss: 2.3572 - val_accuracy: 0.7403\n",
            "Epoch 100/100\n",
            "20/20 [==============================] - 0s 5ms/step - loss: 0.0015 - accuracy: 1.0000 - val_loss: 2.5362 - val_accuracy: 0.7273\n"
          ]
        },
        {
          "output_type": "execute_result",
          "data": {
            "text/plain": [
              "<keras.callbacks.History at 0x7f7712d8e470>"
            ]
          },
          "metadata": {},
          "execution_count": 49
        }
      ]
    },
    {
      "cell_type": "markdown",
      "source": [
        "In this accuray more decreases, \n",
        "we do final."
      ],
      "metadata": {
        "id": "bmmzgaaukKgg"
      }
    },
    {
      "cell_type": "code",
      "source": [
        "def build_model(hp):\n",
        "  model=Sequential()\n",
        "  counter=0\n",
        "  for i in range(hp.Int('num_layer',min_value=1,max_value=10)):\n",
        "    if counter==0:\n",
        "\n",
        "      model.add(\n",
        "          Dense(\n",
        "              hp.Int('units'+str(i) , min_value=8,max_value=128,step=8),\n",
        "              activation=hp.Choice('activation'+str(i),values=['relu','tanh','sigmoid']),\n",
        "              input_dim=8,\n",
        "              )\n",
        "       )\n",
        "      model.add(Dropout(hp.Choice('dropout'+str(i) ,values=[0.1,0.2,0.3,0.4,0.5,0.6,0.7,0.8,0.9]))) \n",
        "    else:\n",
        "      model.add(\n",
        "          Dense(\n",
        "              hp.Int('units'+str(i) , min_value=8,max_value=128,step=8),\n",
        "              activation=hp.Choice('activation'+str(i),values=['relu','tanh','sigmoid'])\n",
        "              )\n",
        "       )\n",
        "      model.add(Dropout(hp.Choice('dropout'+str(i) ,values=[0.1,0.2,0.3,0.4,0.5,0.6,0.7,0.8,0.9])))\n",
        "              \n",
        "    counter+=1\n",
        "  model.add(Dense(1,activation='sigmoid'))\n",
        "  model.compile(optimizer=hp.Choice('optimizer',values=['rmsprop','adam','sgd','nadam','adadelta']),\n",
        "                loss='binary_crossentropy',metrics=['accuracy']\n",
        "                )    \n",
        "  return model"
      ],
      "metadata": {
        "id": "_Lr1fTkrkKnj"
      },
      "execution_count": 81,
      "outputs": []
    },
    {
      "cell_type": "code",
      "source": [
        "tuner = kt.RandomSearch(build_model,objective='val_accuracy',max_trials=3, \n",
        "                        directory=\"mydir\",\n",
        "                        project_name='final1'\n",
        "                        )"
      ],
      "metadata": {
        "id": "2hP1ZXZzkKzP"
      },
      "execution_count": 82,
      "outputs": []
    },
    {
      "cell_type": "code",
      "source": [
        "tuner.search(x_train,y_train,epochs=5,validation_data=(x_test,y_test))"
      ],
      "metadata": {
        "id": "1CTGu6hqkK6r",
        "colab": {
          "base_uri": "https://localhost:8080/"
        },
        "outputId": "fbbf4ea2-2dfa-4b5f-f40f-2d34d808b001"
      },
      "execution_count": 83,
      "outputs": [
        {
          "output_type": "stream",
          "name": "stdout",
          "text": [
            "Trial 3 Complete [00h 00m 04s]\n",
            "val_accuracy: 0.6428571343421936\n",
            "\n",
            "Best val_accuracy So Far: 0.649350643157959\n",
            "Total elapsed time: 00h 00m 11s\n"
          ]
        }
      ]
    },
    {
      "cell_type": "code",
      "source": [
        "tuner.get_best_hyperparameters()[0].values"
      ],
      "metadata": {
        "id": "my8-p5r2kK9N",
        "colab": {
          "base_uri": "https://localhost:8080/"
        },
        "outputId": "c745dae4-a92a-4680-ad03-095f654cfd2e"
      },
      "execution_count": 84,
      "outputs": [
        {
          "output_type": "execute_result",
          "data": {
            "text/plain": [
              "{'num_layer': 5,\n",
              " 'units0': 128,\n",
              " 'activation0': 'relu',\n",
              " 'dropout0': 0.9,\n",
              " 'optimizer': 'nadam',\n",
              " 'units1': 8,\n",
              " 'activation1': 'relu',\n",
              " 'dropout1': 0.1,\n",
              " 'units2': 8,\n",
              " 'activation2': 'relu',\n",
              " 'dropout2': 0.1,\n",
              " 'units3': 8,\n",
              " 'activation3': 'relu',\n",
              " 'dropout3': 0.1,\n",
              " 'units4': 8,\n",
              " 'activation4': 'relu',\n",
              " 'dropout4': 0.1}"
            ]
          },
          "metadata": {},
          "execution_count": 84
        }
      ]
    },
    {
      "cell_type": "code",
      "source": [
        "# extract model\n",
        "model = tuner.get_best_models(num_models=1)[0]"
      ],
      "metadata": {
        "id": "Y0JZIeWVkLBN",
        "colab": {
          "base_uri": "https://localhost:8080/"
        },
        "outputId": "8cc49d7e-7c6a-4ede-e67e-16ee00347814"
      },
      "execution_count": 85,
      "outputs": [
        {
          "output_type": "stream",
          "name": "stderr",
          "text": [
            "WARNING:tensorflow:Detecting that an object or model or tf.train.Checkpoint is being deleted with unrestored values. See the following logs for the specific values in question. To silence these warnings, use `status.expect_partial()`. See https://www.tensorflow.org/api_docs/python/tf/train/Checkpoint#restorefor details about the status object returned by the restore function.\n"
          ]
        }
      ]
    },
    {
      "cell_type": "code",
      "source": [
        "model.fit(x_train,y_train,epochs=100,initial_epoch=5,validation_data=(x_test,y_test))"
      ],
      "metadata": {
        "id": "h4M9KA4ckLDN",
        "colab": {
          "base_uri": "https://localhost:8080/"
        },
        "outputId": "ce5fbaa8-6905-433b-b04f-3d4ee85e81ab"
      },
      "execution_count": 86,
      "outputs": [
        {
          "output_type": "stream",
          "name": "stdout",
          "text": [
            "Epoch 7/100\n",
            "20/20 [==============================] - 3s 14ms/step - loss: 0.6816 - accuracy: 0.6287 - val_loss: 0.6741 - val_accuracy: 0.6429\n",
            "Epoch 8/100\n",
            "20/20 [==============================] - 0s 6ms/step - loss: 0.6766 - accuracy: 0.6450 - val_loss: 0.6626 - val_accuracy: 0.6429\n",
            "Epoch 9/100\n",
            "20/20 [==============================] - 0s 5ms/step - loss: 0.6684 - accuracy: 0.6433 - val_loss: 0.6503 - val_accuracy: 0.6429\n",
            "Epoch 10/100\n",
            "20/20 [==============================] - 0s 5ms/step - loss: 0.6559 - accuracy: 0.6531 - val_loss: 0.6428 - val_accuracy: 0.6429\n",
            "Epoch 11/100\n",
            "20/20 [==============================] - 0s 5ms/step - loss: 0.6493 - accuracy: 0.6498 - val_loss: 0.6340 - val_accuracy: 0.6429\n",
            "Epoch 12/100\n",
            "20/20 [==============================] - 0s 5ms/step - loss: 0.6415 - accuracy: 0.6531 - val_loss: 0.6279 - val_accuracy: 0.6429\n",
            "Epoch 13/100\n",
            "20/20 [==============================] - 0s 4ms/step - loss: 0.6263 - accuracy: 0.6531 - val_loss: 0.6209 - val_accuracy: 0.6429\n",
            "Epoch 14/100\n",
            "20/20 [==============================] - 0s 4ms/step - loss: 0.6227 - accuracy: 0.6531 - val_loss: 0.6145 - val_accuracy: 0.6429\n",
            "Epoch 15/100\n",
            "20/20 [==============================] - 0s 5ms/step - loss: 0.6277 - accuracy: 0.6547 - val_loss: 0.6071 - val_accuracy: 0.6429\n",
            "Epoch 16/100\n",
            "20/20 [==============================] - 0s 6ms/step - loss: 0.6174 - accuracy: 0.6515 - val_loss: 0.5989 - val_accuracy: 0.6429\n",
            "Epoch 17/100\n",
            "20/20 [==============================] - 0s 6ms/step - loss: 0.6190 - accuracy: 0.6596 - val_loss: 0.5918 - val_accuracy: 0.6429\n",
            "Epoch 18/100\n",
            "20/20 [==============================] - 0s 5ms/step - loss: 0.6260 - accuracy: 0.6466 - val_loss: 0.5820 - val_accuracy: 0.6429\n",
            "Epoch 19/100\n",
            "20/20 [==============================] - 0s 4ms/step - loss: 0.6055 - accuracy: 0.6531 - val_loss: 0.5724 - val_accuracy: 0.6429\n",
            "Epoch 20/100\n",
            "20/20 [==============================] - 0s 4ms/step - loss: 0.6047 - accuracy: 0.6743 - val_loss: 0.5642 - val_accuracy: 0.6429\n",
            "Epoch 21/100\n",
            "20/20 [==============================] - 0s 5ms/step - loss: 0.5918 - accuracy: 0.6694 - val_loss: 0.5555 - val_accuracy: 0.6494\n",
            "Epoch 22/100\n",
            "20/20 [==============================] - 0s 4ms/step - loss: 0.5851 - accuracy: 0.6906 - val_loss: 0.5445 - val_accuracy: 0.6753\n",
            "Epoch 23/100\n",
            "20/20 [==============================] - 0s 5ms/step - loss: 0.5791 - accuracy: 0.6857 - val_loss: 0.5366 - val_accuracy: 0.7013\n",
            "Epoch 24/100\n",
            "20/20 [==============================] - 0s 4ms/step - loss: 0.5990 - accuracy: 0.6857 - val_loss: 0.5292 - val_accuracy: 0.7273\n",
            "Epoch 25/100\n",
            "20/20 [==============================] - 0s 5ms/step - loss: 0.5619 - accuracy: 0.7036 - val_loss: 0.5185 - val_accuracy: 0.7727\n",
            "Epoch 26/100\n",
            "20/20 [==============================] - 0s 5ms/step - loss: 0.5726 - accuracy: 0.6987 - val_loss: 0.5102 - val_accuracy: 0.7662\n",
            "Epoch 27/100\n",
            "20/20 [==============================] - 0s 5ms/step - loss: 0.5678 - accuracy: 0.7020 - val_loss: 0.5090 - val_accuracy: 0.7597\n",
            "Epoch 28/100\n",
            "20/20 [==============================] - 0s 5ms/step - loss: 0.5626 - accuracy: 0.7101 - val_loss: 0.5065 - val_accuracy: 0.7727\n",
            "Epoch 29/100\n",
            "20/20 [==============================] - 0s 5ms/step - loss: 0.5741 - accuracy: 0.6759 - val_loss: 0.5059 - val_accuracy: 0.7662\n",
            "Epoch 30/100\n",
            "20/20 [==============================] - 0s 5ms/step - loss: 0.5689 - accuracy: 0.7296 - val_loss: 0.5056 - val_accuracy: 0.7792\n",
            "Epoch 31/100\n",
            "20/20 [==============================] - 0s 5ms/step - loss: 0.5704 - accuracy: 0.7117 - val_loss: 0.5044 - val_accuracy: 0.7792\n",
            "Epoch 32/100\n",
            "20/20 [==============================] - 0s 5ms/step - loss: 0.5302 - accuracy: 0.7296 - val_loss: 0.5040 - val_accuracy: 0.7662\n",
            "Epoch 33/100\n",
            "20/20 [==============================] - 0s 5ms/step - loss: 0.5518 - accuracy: 0.7085 - val_loss: 0.5008 - val_accuracy: 0.7727\n",
            "Epoch 34/100\n",
            "20/20 [==============================] - 0s 5ms/step - loss: 0.5335 - accuracy: 0.7329 - val_loss: 0.5002 - val_accuracy: 0.7727\n",
            "Epoch 35/100\n",
            "20/20 [==============================] - 0s 4ms/step - loss: 0.5551 - accuracy: 0.7199 - val_loss: 0.5002 - val_accuracy: 0.7727\n",
            "Epoch 36/100\n",
            "20/20 [==============================] - 0s 4ms/step - loss: 0.5433 - accuracy: 0.7134 - val_loss: 0.4979 - val_accuracy: 0.7727\n",
            "Epoch 37/100\n",
            "20/20 [==============================] - 0s 4ms/step - loss: 0.5555 - accuracy: 0.7052 - val_loss: 0.4985 - val_accuracy: 0.7662\n",
            "Epoch 38/100\n",
            "20/20 [==============================] - 0s 5ms/step - loss: 0.5242 - accuracy: 0.7215 - val_loss: 0.4991 - val_accuracy: 0.7727\n",
            "Epoch 39/100\n",
            "20/20 [==============================] - 0s 6ms/step - loss: 0.5621 - accuracy: 0.7003 - val_loss: 0.4948 - val_accuracy: 0.7922\n",
            "Epoch 40/100\n",
            "20/20 [==============================] - 0s 5ms/step - loss: 0.5443 - accuracy: 0.6971 - val_loss: 0.4958 - val_accuracy: 0.7922\n",
            "Epoch 41/100\n",
            "20/20 [==============================] - 0s 6ms/step - loss: 0.5328 - accuracy: 0.7459 - val_loss: 0.4966 - val_accuracy: 0.7857\n",
            "Epoch 42/100\n",
            "20/20 [==============================] - 0s 4ms/step - loss: 0.5589 - accuracy: 0.7215 - val_loss: 0.4996 - val_accuracy: 0.7727\n",
            "Epoch 43/100\n",
            "20/20 [==============================] - 0s 5ms/step - loss: 0.5495 - accuracy: 0.7166 - val_loss: 0.4984 - val_accuracy: 0.7662\n",
            "Epoch 44/100\n",
            "20/20 [==============================] - 0s 5ms/step - loss: 0.5427 - accuracy: 0.7296 - val_loss: 0.4996 - val_accuracy: 0.7597\n",
            "Epoch 45/100\n",
            "20/20 [==============================] - 0s 5ms/step - loss: 0.5429 - accuracy: 0.7134 - val_loss: 0.5000 - val_accuracy: 0.7662\n",
            "Epoch 46/100\n",
            "20/20 [==============================] - 0s 6ms/step - loss: 0.5169 - accuracy: 0.7557 - val_loss: 0.4967 - val_accuracy: 0.7792\n",
            "Epoch 47/100\n",
            "20/20 [==============================] - 0s 4ms/step - loss: 0.5418 - accuracy: 0.7085 - val_loss: 0.4942 - val_accuracy: 0.7857\n",
            "Epoch 48/100\n",
            "20/20 [==============================] - 0s 5ms/step - loss: 0.5300 - accuracy: 0.7459 - val_loss: 0.4953 - val_accuracy: 0.7857\n",
            "Epoch 49/100\n",
            "20/20 [==============================] - 0s 5ms/step - loss: 0.5519 - accuracy: 0.7117 - val_loss: 0.4955 - val_accuracy: 0.7857\n",
            "Epoch 50/100\n",
            "20/20 [==============================] - 0s 5ms/step - loss: 0.5407 - accuracy: 0.7264 - val_loss: 0.4962 - val_accuracy: 0.7857\n",
            "Epoch 51/100\n",
            "20/20 [==============================] - 0s 6ms/step - loss: 0.5137 - accuracy: 0.7410 - val_loss: 0.4928 - val_accuracy: 0.7922\n",
            "Epoch 52/100\n",
            "20/20 [==============================] - 0s 4ms/step - loss: 0.5279 - accuracy: 0.7378 - val_loss: 0.4922 - val_accuracy: 0.7857\n",
            "Epoch 53/100\n",
            "20/20 [==============================] - 0s 6ms/step - loss: 0.5192 - accuracy: 0.7443 - val_loss: 0.4898 - val_accuracy: 0.7922\n",
            "Epoch 54/100\n",
            "20/20 [==============================] - 0s 5ms/step - loss: 0.5226 - accuracy: 0.7394 - val_loss: 0.4908 - val_accuracy: 0.7857\n",
            "Epoch 55/100\n",
            "20/20 [==============================] - 0s 5ms/step - loss: 0.5540 - accuracy: 0.7280 - val_loss: 0.4928 - val_accuracy: 0.7792\n",
            "Epoch 56/100\n",
            "20/20 [==============================] - 0s 5ms/step - loss: 0.5236 - accuracy: 0.7329 - val_loss: 0.4928 - val_accuracy: 0.7727\n",
            "Epoch 57/100\n",
            "20/20 [==============================] - 0s 5ms/step - loss: 0.5388 - accuracy: 0.7215 - val_loss: 0.4945 - val_accuracy: 0.7727\n",
            "Epoch 58/100\n",
            "20/20 [==============================] - 0s 5ms/step - loss: 0.5134 - accuracy: 0.7476 - val_loss: 0.4902 - val_accuracy: 0.7857\n",
            "Epoch 59/100\n",
            "20/20 [==============================] - 0s 4ms/step - loss: 0.5213 - accuracy: 0.7410 - val_loss: 0.4870 - val_accuracy: 0.7922\n",
            "Epoch 60/100\n",
            "20/20 [==============================] - 0s 4ms/step - loss: 0.5253 - accuracy: 0.7313 - val_loss: 0.4863 - val_accuracy: 0.7922\n",
            "Epoch 61/100\n",
            "20/20 [==============================] - 0s 4ms/step - loss: 0.5337 - accuracy: 0.7231 - val_loss: 0.4877 - val_accuracy: 0.7922\n",
            "Epoch 62/100\n",
            "20/20 [==============================] - 0s 4ms/step - loss: 0.5299 - accuracy: 0.7248 - val_loss: 0.4909 - val_accuracy: 0.7857\n",
            "Epoch 63/100\n",
            "20/20 [==============================] - 0s 4ms/step - loss: 0.5256 - accuracy: 0.7329 - val_loss: 0.4856 - val_accuracy: 0.7922\n",
            "Epoch 64/100\n",
            "20/20 [==============================] - 0s 4ms/step - loss: 0.5259 - accuracy: 0.7313 - val_loss: 0.4858 - val_accuracy: 0.7857\n",
            "Epoch 65/100\n",
            "20/20 [==============================] - 0s 5ms/step - loss: 0.5267 - accuracy: 0.7410 - val_loss: 0.4851 - val_accuracy: 0.7857\n",
            "Epoch 66/100\n",
            "20/20 [==============================] - 0s 5ms/step - loss: 0.4977 - accuracy: 0.7410 - val_loss: 0.4862 - val_accuracy: 0.7922\n",
            "Epoch 67/100\n",
            "20/20 [==============================] - 0s 4ms/step - loss: 0.5031 - accuracy: 0.7524 - val_loss: 0.4851 - val_accuracy: 0.7922\n",
            "Epoch 68/100\n",
            "20/20 [==============================] - 0s 6ms/step - loss: 0.5228 - accuracy: 0.7492 - val_loss: 0.4834 - val_accuracy: 0.7792\n",
            "Epoch 69/100\n",
            "20/20 [==============================] - 0s 4ms/step - loss: 0.5122 - accuracy: 0.7410 - val_loss: 0.4834 - val_accuracy: 0.7922\n",
            "Epoch 70/100\n",
            "20/20 [==============================] - 0s 5ms/step - loss: 0.5232 - accuracy: 0.7476 - val_loss: 0.4845 - val_accuracy: 0.7922\n",
            "Epoch 71/100\n",
            "20/20 [==============================] - 0s 7ms/step - loss: 0.5209 - accuracy: 0.7508 - val_loss: 0.4853 - val_accuracy: 0.7922\n",
            "Epoch 72/100\n",
            "20/20 [==============================] - 0s 7ms/step - loss: 0.5243 - accuracy: 0.7476 - val_loss: 0.4881 - val_accuracy: 0.7857\n",
            "Epoch 73/100\n",
            "20/20 [==============================] - 0s 6ms/step - loss: 0.5012 - accuracy: 0.7720 - val_loss: 0.4901 - val_accuracy: 0.7792\n",
            "Epoch 74/100\n",
            "20/20 [==============================] - 0s 7ms/step - loss: 0.5217 - accuracy: 0.7427 - val_loss: 0.4870 - val_accuracy: 0.7922\n",
            "Epoch 75/100\n",
            "20/20 [==============================] - 0s 8ms/step - loss: 0.5221 - accuracy: 0.7427 - val_loss: 0.4859 - val_accuracy: 0.7922\n",
            "Epoch 76/100\n",
            "20/20 [==============================] - 0s 18ms/step - loss: 0.5082 - accuracy: 0.7459 - val_loss: 0.4862 - val_accuracy: 0.7922\n",
            "Epoch 77/100\n",
            "20/20 [==============================] - 0s 11ms/step - loss: 0.5395 - accuracy: 0.7280 - val_loss: 0.4872 - val_accuracy: 0.7922\n",
            "Epoch 78/100\n",
            "20/20 [==============================] - 0s 5ms/step - loss: 0.5204 - accuracy: 0.7362 - val_loss: 0.4900 - val_accuracy: 0.7857\n",
            "Epoch 79/100\n",
            "20/20 [==============================] - 0s 7ms/step - loss: 0.5048 - accuracy: 0.7508 - val_loss: 0.4883 - val_accuracy: 0.7857\n",
            "Epoch 80/100\n",
            "20/20 [==============================] - 0s 8ms/step - loss: 0.5142 - accuracy: 0.7362 - val_loss: 0.4897 - val_accuracy: 0.7857\n",
            "Epoch 81/100\n",
            "20/20 [==============================] - 0s 9ms/step - loss: 0.5219 - accuracy: 0.7524 - val_loss: 0.4903 - val_accuracy: 0.7857\n",
            "Epoch 82/100\n",
            "20/20 [==============================] - 0s 11ms/step - loss: 0.5023 - accuracy: 0.7459 - val_loss: 0.4889 - val_accuracy: 0.7922\n",
            "Epoch 83/100\n",
            "20/20 [==============================] - 0s 17ms/step - loss: 0.5039 - accuracy: 0.7362 - val_loss: 0.4863 - val_accuracy: 0.7857\n",
            "Epoch 84/100\n",
            "20/20 [==============================] - 0s 15ms/step - loss: 0.4994 - accuracy: 0.7524 - val_loss: 0.4841 - val_accuracy: 0.7857\n",
            "Epoch 85/100\n",
            "20/20 [==============================] - 0s 9ms/step - loss: 0.5176 - accuracy: 0.7248 - val_loss: 0.4857 - val_accuracy: 0.7922\n",
            "Epoch 86/100\n",
            "20/20 [==============================] - 0s 7ms/step - loss: 0.5092 - accuracy: 0.7622 - val_loss: 0.4890 - val_accuracy: 0.7922\n",
            "Epoch 87/100\n",
            "20/20 [==============================] - 0s 7ms/step - loss: 0.4966 - accuracy: 0.7573 - val_loss: 0.4884 - val_accuracy: 0.7922\n",
            "Epoch 88/100\n",
            "20/20 [==============================] - 0s 6ms/step - loss: 0.5158 - accuracy: 0.7557 - val_loss: 0.4869 - val_accuracy: 0.7857\n",
            "Epoch 89/100\n",
            "20/20 [==============================] - 0s 7ms/step - loss: 0.5220 - accuracy: 0.7329 - val_loss: 0.4904 - val_accuracy: 0.7922\n",
            "Epoch 90/100\n",
            "20/20 [==============================] - 0s 7ms/step - loss: 0.5024 - accuracy: 0.7638 - val_loss: 0.4892 - val_accuracy: 0.7857\n",
            "Epoch 91/100\n",
            "20/20 [==============================] - 0s 8ms/step - loss: 0.5134 - accuracy: 0.7573 - val_loss: 0.4870 - val_accuracy: 0.7857\n",
            "Epoch 92/100\n",
            "20/20 [==============================] - 0s 7ms/step - loss: 0.4998 - accuracy: 0.7508 - val_loss: 0.4890 - val_accuracy: 0.7857\n",
            "Epoch 93/100\n",
            "20/20 [==============================] - 0s 6ms/step - loss: 0.5017 - accuracy: 0.7492 - val_loss: 0.4874 - val_accuracy: 0.7857\n",
            "Epoch 94/100\n",
            "20/20 [==============================] - 0s 8ms/step - loss: 0.5136 - accuracy: 0.7280 - val_loss: 0.4870 - val_accuracy: 0.7922\n",
            "Epoch 95/100\n",
            "20/20 [==============================] - 0s 7ms/step - loss: 0.5155 - accuracy: 0.7345 - val_loss: 0.4871 - val_accuracy: 0.7857\n",
            "Epoch 96/100\n",
            "20/20 [==============================] - 0s 7ms/step - loss: 0.4982 - accuracy: 0.7394 - val_loss: 0.4886 - val_accuracy: 0.7792\n",
            "Epoch 97/100\n",
            "20/20 [==============================] - 0s 7ms/step - loss: 0.5069 - accuracy: 0.7492 - val_loss: 0.4884 - val_accuracy: 0.7857\n",
            "Epoch 98/100\n",
            "20/20 [==============================] - 0s 7ms/step - loss: 0.4969 - accuracy: 0.7655 - val_loss: 0.4888 - val_accuracy: 0.7792\n",
            "Epoch 99/100\n",
            "20/20 [==============================] - 0s 7ms/step - loss: 0.5184 - accuracy: 0.7524 - val_loss: 0.4890 - val_accuracy: 0.7792\n",
            "Epoch 100/100\n",
            "20/20 [==============================] - 0s 7ms/step - loss: 0.5195 - accuracy: 0.7378 - val_loss: 0.4884 - val_accuracy: 0.7792\n"
          ]
        },
        {
          "output_type": "execute_result",
          "data": {
            "text/plain": [
              "<keras.callbacks.History at 0x7f771331e8c0>"
            ]
          },
          "metadata": {},
          "execution_count": 86
        }
      ]
    },
    {
      "cell_type": "code",
      "source": [],
      "metadata": {
        "id": "hl-QpQR4fkWv"
      },
      "execution_count": null,
      "outputs": []
    },
    {
      "cell_type": "code",
      "source": [],
      "metadata": {
        "id": "XsPjGJ_jftir"
      },
      "execution_count": null,
      "outputs": []
    },
    {
      "cell_type": "code",
      "source": [],
      "metadata": {
        "id": "wz-ANBHJftvS"
      },
      "execution_count": null,
      "outputs": []
    },
    {
      "cell_type": "code",
      "source": [],
      "metadata": {
        "id": "eUdhMqBJfuCw"
      },
      "execution_count": null,
      "outputs": []
    },
    {
      "cell_type": "code",
      "source": [],
      "metadata": {
        "id": "LYserUQufuVM"
      },
      "execution_count": null,
      "outputs": []
    }
  ]
}