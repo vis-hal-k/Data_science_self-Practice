{
  "nbformat": 4,
  "nbformat_minor": 0,
  "metadata": {
    "colab": {
      "provenance": [],
      "gpuType": "T4",
      "mount_file_id": "1cqGTYAZF-4yig22OxSbpE-OQol4tYDhM",
      "authorship_tag": "ABX9TyOt50/GDtyLJXzylkc9NwFS",
      "include_colab_link": true
    },
    "kernelspec": {
      "name": "python3",
      "display_name": "Python 3"
    },
    "language_info": {
      "name": "python"
    },
    "accelerator": "GPU"
  },
  "cells": [
    {
      "cell_type": "markdown",
      "metadata": {
        "id": "view-in-github",
        "colab_type": "text"
      },
      "source": [
        "<a href=\"https://colab.research.google.com/github/vis-hal-k/Internship_Data_science/blob/main/DataScience_Topics/Tranfer_Learning_practice/Tranfer_learning_fine_tuning(without_data_augmentation).ipynb\" target=\"_parent\"><img src=\"https://colab.research.google.com/assets/colab-badge.svg\" alt=\"Open In Colab\"/></a>"
      ]
    },
    {
      "cell_type": "code",
      "execution_count": 32,
      "metadata": {
        "id": "uTNPq_ztiLCP"
      },
      "outputs": [],
      "source": [
        "#  Data_set li\n",
        "# Dataset - https://www.kaggle.com/datasets/salader/dogs-vs-cats"
      ]
    },
    {
      "cell_type": "code",
      "source": [
        "import zipfile\n",
        "zip_ref = zipfile.ZipFile('/content/drive/MyDrive/Colab Notebooks/DeepLearn-TopicsTheory-lab/Project/archive.zip', 'r')\n",
        "zip_ref.extractall('/content')\n",
        "zip_ref.close()"
      ],
      "metadata": {
        "id": "sRdgs7SOivdU"
      },
      "execution_count": 33,
      "outputs": []
    },
    {
      "cell_type": "code",
      "source": [
        "import tensorflow as tf\n",
        "from tensorflow import keras\n",
        "from keras import Sequential\n",
        "from keras.layers import Dense, Flatten  \n",
        "from keras.applications.vgg16 import VGG16"
      ],
      "metadata": {
        "id": "L-i2soN7iytU"
      },
      "execution_count": 34,
      "outputs": []
    },
    {
      "cell_type": "code",
      "source": [
        "conv_base = VGG16(weights = 'imagenet',\n",
        "                 include_top = False ,\n",
        "                 input_shape=(150,150,3) \n",
        "                 )"
      ],
      "metadata": {
        "id": "cKdjTc_AjP-T"
      },
      "execution_count": 35,
      "outputs": []
    },
    {
      "cell_type": "code",
      "source": [
        "conv_base.trainable = True  # this is unfreeze the convo. base layer\n",
        "set_trainable = False\n",
        "for layer in conv_base.layers:\n",
        "  if layer.name =='block5_conv1':\n",
        "    set_trainable = True \n",
        "  if set_trainable :\n",
        "    layer.trainable = True\n",
        "  else:\n",
        "    layer.trainable = False \n",
        "\n",
        "for layer in conv_base.layers:\n",
        "  print(layer.name, layer.trainable)\n",
        "\n",
        "conv_base.summary()"
      ],
      "metadata": {
        "colab": {
          "base_uri": "https://localhost:8080/"
        },
        "id": "3-ZX9ymQjrg_",
        "outputId": "b4376b6a-bc65-4523-9139-71ff0a52104a"
      },
      "execution_count": 36,
      "outputs": [
        {
          "output_type": "stream",
          "name": "stdout",
          "text": [
            "input_3 False\n",
            "block1_conv1 False\n",
            "block1_conv2 False\n",
            "block1_pool False\n",
            "block2_conv1 False\n",
            "block2_conv2 False\n",
            "block2_pool False\n",
            "block3_conv1 False\n",
            "block3_conv2 False\n",
            "block3_conv3 False\n",
            "block3_pool False\n",
            "block4_conv1 False\n",
            "block4_conv2 False\n",
            "block4_conv3 False\n",
            "block4_pool False\n",
            "block5_conv1 True\n",
            "block5_conv2 True\n",
            "block5_conv3 True\n",
            "block5_pool True\n",
            "Model: \"vgg16\"\n",
            "_________________________________________________________________\n",
            " Layer (type)                Output Shape              Param #   \n",
            "=================================================================\n",
            " input_3 (InputLayer)        [(None, 150, 150, 3)]     0         \n",
            "                                                                 \n",
            " block1_conv1 (Conv2D)       (None, 150, 150, 64)      1792      \n",
            "                                                                 \n",
            " block1_conv2 (Conv2D)       (None, 150, 150, 64)      36928     \n",
            "                                                                 \n",
            " block1_pool (MaxPooling2D)  (None, 75, 75, 64)        0         \n",
            "                                                                 \n",
            " block2_conv1 (Conv2D)       (None, 75, 75, 128)       73856     \n",
            "                                                                 \n",
            " block2_conv2 (Conv2D)       (None, 75, 75, 128)       147584    \n",
            "                                                                 \n",
            " block2_pool (MaxPooling2D)  (None, 37, 37, 128)       0         \n",
            "                                                                 \n",
            " block3_conv1 (Conv2D)       (None, 37, 37, 256)       295168    \n",
            "                                                                 \n",
            " block3_conv2 (Conv2D)       (None, 37, 37, 256)       590080    \n",
            "                                                                 \n",
            " block3_conv3 (Conv2D)       (None, 37, 37, 256)       590080    \n",
            "                                                                 \n",
            " block3_pool (MaxPooling2D)  (None, 18, 18, 256)       0         \n",
            "                                                                 \n",
            " block4_conv1 (Conv2D)       (None, 18, 18, 512)       1180160   \n",
            "                                                                 \n",
            " block4_conv2 (Conv2D)       (None, 18, 18, 512)       2359808   \n",
            "                                                                 \n",
            " block4_conv3 (Conv2D)       (None, 18, 18, 512)       2359808   \n",
            "                                                                 \n",
            " block4_pool (MaxPooling2D)  (None, 9, 9, 512)         0         \n",
            "                                                                 \n",
            " block5_conv1 (Conv2D)       (None, 9, 9, 512)         2359808   \n",
            "                                                                 \n",
            " block5_conv2 (Conv2D)       (None, 9, 9, 512)         2359808   \n",
            "                                                                 \n",
            " block5_conv3 (Conv2D)       (None, 9, 9, 512)         2359808   \n",
            "                                                                 \n",
            " block5_pool (MaxPooling2D)  (None, 4, 4, 512)         0         \n",
            "                                                                 \n",
            "=================================================================\n",
            "Total params: 14,714,688\n",
            "Trainable params: 7,079,424\n",
            "Non-trainable params: 7,635,264\n",
            "_________________________________________________________________\n"
          ]
        }
      ]
    },
    {
      "cell_type": "code",
      "source": [
        "model = Sequential()\n",
        "model.add(conv_base)\n",
        "model.add(Flatten())\n",
        "model.add(Dense(256 , activation='relu'))\n",
        "model.add(Dense(1 , activation='sigmoid'))"
      ],
      "metadata": {
        "id": "jq4SHuSnjz9H"
      },
      "execution_count": 37,
      "outputs": []
    },
    {
      "cell_type": "code",
      "source": [
        "model.summary()"
      ],
      "metadata": {
        "colab": {
          "base_uri": "https://localhost:8080/"
        },
        "id": "XpzEGqiVlCVs",
        "outputId": "1e409bc1-bba6-4df3-8024-763d23bac8dd"
      },
      "execution_count": 38,
      "outputs": [
        {
          "output_type": "stream",
          "name": "stdout",
          "text": [
            "Model: \"sequential_2\"\n",
            "_________________________________________________________________\n",
            " Layer (type)                Output Shape              Param #   \n",
            "=================================================================\n",
            " vgg16 (Functional)          (None, 4, 4, 512)         14714688  \n",
            "                                                                 \n",
            " flatten_2 (Flatten)         (None, 8192)              0         \n",
            "                                                                 \n",
            " dense_4 (Dense)             (None, 256)               2097408   \n",
            "                                                                 \n",
            " dense_5 (Dense)             (None, 1)                 257       \n",
            "                                                                 \n",
            "=================================================================\n",
            "Total params: 16,812,353\n",
            "Trainable params: 9,177,089\n",
            "Non-trainable params: 7,635,264\n",
            "_________________________________________________________________\n"
          ]
        }
      ]
    },
    {
      "cell_type": "code",
      "source": [
        "#  This without augmentation so do this : \n",
        "train_ds = keras.utils.image_dataset_from_directory(\n",
        "    directory = '/content/train',\n",
        "    labels='inferred',\n",
        "    label_mode = 'int',\n",
        "    batch_size=32,\n",
        "    image_size=(150,150)\n",
        " )\n",
        "validation_ds = keras.utils.image_dataset_from_directory(\n",
        "    directory = '/content/test',\n",
        "    labels='inferred',\n",
        "    label_mode = 'int',\n",
        "    batch_size=32,\n",
        "    image_size=(150,150)\n",
        " )"
      ],
      "metadata": {
        "colab": {
          "base_uri": "https://localhost:8080/"
        },
        "id": "QuHdQ-GJjuUP",
        "outputId": "15e75d36-a34b-452d-834d-a9537e6ab159"
      },
      "execution_count": 39,
      "outputs": [
        {
          "output_type": "stream",
          "name": "stdout",
          "text": [
            "Found 20000 files belonging to 2 classes.\n",
            "Found 5000 files belonging to 2 classes.\n"
          ]
        }
      ]
    },
    {
      "cell_type": "code",
      "source": [
        "# Normalize\n",
        "def process(image,label):\n",
        "    image = tf.cast(image/255. ,tf.float32)\n",
        "    return image,label\n",
        "\n",
        "train_ds = train_ds.map(process)\n",
        "validation_ds = validation_ds.map(process)"
      ],
      "metadata": {
        "id": "WfQkJdoRqFOs"
      },
      "execution_count": 40,
      "outputs": []
    },
    {
      "cell_type": "code",
      "source": [
        "model.compile(\n",
        "    optimizer=keras.optimizers.RMSprop(learning_rate=1e-5),\n",
        "    loss='binary_crossentropy',\n",
        "    metrics=['accuracy']\n",
        "  )"
      ],
      "metadata": {
        "id": "BIjkW7uPqSgj"
      },
      "execution_count": 41,
      "outputs": []
    },
    {
      "cell_type": "code",
      "source": [
        "history = model.fit(train_ds,epochs=10,validation_data=validation_ds)"
      ],
      "metadata": {
        "colab": {
          "base_uri": "https://localhost:8080/"
        },
        "id": "ws4ghUZaqUkr",
        "outputId": "347315a1-9866-421b-a374-faf7954beadc"
      },
      "execution_count": 42,
      "outputs": [
        {
          "output_type": "stream",
          "name": "stdout",
          "text": [
            "Epoch 1/10\n",
            "625/625 [==============================] - 65s 101ms/step - loss: 0.2388 - accuracy: 0.8978 - val_loss: 0.1590 - val_accuracy: 0.9342\n",
            "Epoch 2/10\n",
            "625/625 [==============================] - 63s 100ms/step - loss: 0.1316 - accuracy: 0.9493 - val_loss: 0.1339 - val_accuracy: 0.9488\n",
            "Epoch 3/10\n",
            "625/625 [==============================] - 63s 100ms/step - loss: 0.0931 - accuracy: 0.9657 - val_loss: 0.1240 - val_accuracy: 0.9536\n",
            "Epoch 4/10\n",
            "625/625 [==============================] - 73s 117ms/step - loss: 0.0661 - accuracy: 0.9765 - val_loss: 0.1281 - val_accuracy: 0.9496\n",
            "Epoch 5/10\n",
            "625/625 [==============================] - 63s 100ms/step - loss: 0.0447 - accuracy: 0.9866 - val_loss: 0.1216 - val_accuracy: 0.9558\n",
            "Epoch 6/10\n",
            "625/625 [==============================] - 62s 99ms/step - loss: 0.0303 - accuracy: 0.9917 - val_loss: 0.1243 - val_accuracy: 0.9562\n",
            "Epoch 7/10\n",
            "625/625 [==============================] - 63s 100ms/step - loss: 0.0192 - accuracy: 0.9955 - val_loss: 0.1322 - val_accuracy: 0.9548\n",
            "Epoch 8/10\n",
            "625/625 [==============================] - 63s 99ms/step - loss: 0.0127 - accuracy: 0.9971 - val_loss: 0.1549 - val_accuracy: 0.9548\n",
            "Epoch 9/10\n",
            "625/625 [==============================] - 63s 100ms/step - loss: 0.0083 - accuracy: 0.9979 - val_loss: 0.1557 - val_accuracy: 0.9546\n",
            "Epoch 10/10\n",
            "625/625 [==============================] - 72s 115ms/step - loss: 0.0048 - accuracy: 0.9992 - val_loss: 0.1690 - val_accuracy: 0.9570\n"
          ]
        }
      ]
    },
    {
      "cell_type": "markdown",
      "source": [
        "It gives very good accuracy. "
      ],
      "metadata": {
        "id": "uWHoMTGM4LFS"
      }
    },
    {
      "cell_type": "code",
      "source": [
        "import matplotlib.pyplot as plt\n",
        "plt.plot(history.history['accuracy'],color='red',label='train')\n",
        "plt.plot(history.history['val_accuracy'],color='blue',label='validation')\n",
        "plt.legend()\n",
        "plt.show()"
      ],
      "metadata": {
        "colab": {
          "base_uri": "https://localhost:8080/",
          "height": 430
        },
        "id": "fmD2-2bmqgNq",
        "outputId": "5ff6da37-937f-4458-9365-027ae18c287b"
      },
      "execution_count": 45,
      "outputs": [
        {
          "output_type": "display_data",
          "data": {
            "text/plain": [
              "<Figure size 640x480 with 1 Axes>"
            ],
            "image/png": "[encoded data removed]"
          },
          "metadata": {}
        }
      ]
    },
    {
      "cell_type": "code",
      "source": [
        "plt.plot(history.history['loss'],color='red',label='train')\n",
        "plt.plot(history.history['val_loss'],color='blue',label='validation')\n",
        "plt.legend()\n",
        "plt.show()"
      ],
      "metadata": {
        "colab": {
          "base_uri": "https://localhost:8080/",
          "height": 435
        },
        "id": "DSi1pEo9qhcZ",
        "outputId": "76ea0835-aca6-4c33-823b-4cac784f2cd9"
      },
      "execution_count": 46,
      "outputs": [
        {
          "output_type": "display_data",
          "data": {
            "text/plain": [
              "<Figure size 640x480 with 1 Axes>"
            ],
            "image/png": "[encoded data removed]"
          },
          "metadata": {}
        }
      ]
    },
    {
      "cell_type": "markdown",
      "source": [
        "Here Overfitting is happen."
      ],
      "metadata": {
        "id": "bO8TMpS955lZ"
      }
    }
  ]
}