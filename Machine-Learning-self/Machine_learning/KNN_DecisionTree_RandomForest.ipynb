{
 "cells": [
  {
   "cell_type": "code",
   "execution_count": 1,
   "id": "706cced4",
   "metadata": {},
   "outputs": [],
   "source": [
    "import numpy as np\n",
    "import pandas as pd\n",
    "import seaborn as sns\n",
    "import matplotlib.pyplot as plt\n",
    "from pandas.plotting import scatter_matrix"
   ]
  },
  {
   "cell_type": "code",
   "execution_count": 2,
   "id": "bb82f50a",
   "metadata": {},
   "outputs": [],
   "source": [
    "dt_reg = pd.read_csv(\"Data_set/house_data.csv\")\n",
    "dt_cls = pd.read_csv(\"Data_set/Social_Network_Ads.csv\")"
   ]
  },
  {
   "cell_type": "code",
   "execution_count": 3,
   "id": "7fed0c33",
   "metadata": {},
   "outputs": [
    {
     "data": {
      "text/html": [
       "<div>\n",
       "<style scoped>\n",
       "    .dataframe tbody tr th:only-of-type {\n",
       "        vertical-align: middle;\n",
       "    }\n",
       "\n",
       "    .dataframe tbody tr th {\n",
       "        vertical-align: top;\n",
       "    }\n",
       "\n",
       "    .dataframe thead th {\n",
       "        text-align: right;\n",
       "    }\n",
       "</style>\n",
       "<table border=\"1\" class=\"dataframe\">\n",
       "  <thead>\n",
       "    <tr style=\"text-align: right;\">\n",
       "      <th></th>\n",
       "      <th>Living_Space(sqft)</th>\n",
       "      <th>No_Of_Bedrooms</th>\n",
       "      <th>No_Of_Bathrooms</th>\n",
       "      <th>Condition(on scale of 5)</th>\n",
       "      <th>Year_Build</th>\n",
       "      <th>Location</th>\n",
       "      <th>Price</th>\n",
       "    </tr>\n",
       "  </thead>\n",
       "  <tbody>\n",
       "    <tr>\n",
       "      <th>0</th>\n",
       "      <td>1340</td>\n",
       "      <td>3</td>\n",
       "      <td>1.00</td>\n",
       "      <td>3</td>\n",
       "      <td>1955</td>\n",
       "      <td>Bangalore</td>\n",
       "      <td>221900.0</td>\n",
       "    </tr>\n",
       "    <tr>\n",
       "      <th>1</th>\n",
       "      <td>1690</td>\n",
       "      <td>3</td>\n",
       "      <td>2.25</td>\n",
       "      <td>3</td>\n",
       "      <td>1951</td>\n",
       "      <td>Bangalore</td>\n",
       "      <td>538000.0</td>\n",
       "    </tr>\n",
       "    <tr>\n",
       "      <th>2</th>\n",
       "      <td>2720</td>\n",
       "      <td>2</td>\n",
       "      <td>1.00</td>\n",
       "      <td>3</td>\n",
       "      <td>1933</td>\n",
       "      <td>Bangalore</td>\n",
       "      <td>180000.0</td>\n",
       "    </tr>\n",
       "    <tr>\n",
       "      <th>3</th>\n",
       "      <td>1360</td>\n",
       "      <td>4</td>\n",
       "      <td>3.00</td>\n",
       "      <td>5</td>\n",
       "      <td>1965</td>\n",
       "      <td>Bangalore</td>\n",
       "      <td>604000.0</td>\n",
       "    </tr>\n",
       "    <tr>\n",
       "      <th>4</th>\n",
       "      <td>1800</td>\n",
       "      <td>3</td>\n",
       "      <td>2.00</td>\n",
       "      <td>3</td>\n",
       "      <td>1987</td>\n",
       "      <td>Bangalore</td>\n",
       "      <td>510000.0</td>\n",
       "    </tr>\n",
       "  </tbody>\n",
       "</table>\n",
       "</div>"
      ],
      "text/plain": [
       "   Living_Space(sqft)  No_Of_Bedrooms  No_Of_Bathrooms  \\\n",
       "0                1340               3             1.00   \n",
       "1                1690               3             2.25   \n",
       "2                2720               2             1.00   \n",
       "3                1360               4             3.00   \n",
       "4                1800               3             2.00   \n",
       "\n",
       "   Condition(on scale of 5)  Year_Build   Location     Price  \n",
       "0                         3        1955  Bangalore  221900.0  \n",
       "1                         3        1951  Bangalore  538000.0  \n",
       "2                         3        1933  Bangalore  180000.0  \n",
       "3                         5        1965  Bangalore  604000.0  \n",
       "4                         3        1987  Bangalore  510000.0  "
      ]
     },
     "execution_count": 3,
     "metadata": {},
     "output_type": "execute_result"
    }
   ],
   "source": [
    "dt_reg.head()"
   ]
  },
  {
   "cell_type": "code",
   "execution_count": 4,
   "id": "63694d04",
   "metadata": {},
   "outputs": [
    {
     "data": {
      "text/html": [
       "<div>\n",
       "<style scoped>\n",
       "    .dataframe tbody tr th:only-of-type {\n",
       "        vertical-align: middle;\n",
       "    }\n",
       "\n",
       "    .dataframe tbody tr th {\n",
       "        vertical-align: top;\n",
       "    }\n",
       "\n",
       "    .dataframe thead th {\n",
       "        text-align: right;\n",
       "    }\n",
       "</style>\n",
       "<table border=\"1\" class=\"dataframe\">\n",
       "  <thead>\n",
       "    <tr style=\"text-align: right;\">\n",
       "      <th></th>\n",
       "      <th>Living_Space(sqft)</th>\n",
       "      <th>No_Of_Bedrooms</th>\n",
       "      <th>No_Of_Bathrooms</th>\n",
       "      <th>Condition(on scale of 5)</th>\n",
       "      <th>Year_Build</th>\n",
       "      <th>Location</th>\n",
       "      <th>Price</th>\n",
       "    </tr>\n",
       "  </thead>\n",
       "  <tbody>\n",
       "    <tr>\n",
       "      <th>0</th>\n",
       "      <td>1340</td>\n",
       "      <td>3</td>\n",
       "      <td>1.0</td>\n",
       "      <td>3</td>\n",
       "      <td>1955</td>\n",
       "      <td>Bangalore</td>\n",
       "      <td>221900.0</td>\n",
       "    </tr>\n",
       "    <tr>\n",
       "      <th>1</th>\n",
       "      <td>1690</td>\n",
       "      <td>3</td>\n",
       "      <td>3.0</td>\n",
       "      <td>3</td>\n",
       "      <td>1951</td>\n",
       "      <td>Bangalore</td>\n",
       "      <td>538000.0</td>\n",
       "    </tr>\n",
       "  </tbody>\n",
       "</table>\n",
       "</div>"
      ],
      "text/plain": [
       "   Living_Space(sqft)  No_Of_Bedrooms  No_Of_Bathrooms  \\\n",
       "0                1340               3              1.0   \n",
       "1                1690               3              3.0   \n",
       "\n",
       "   Condition(on scale of 5)  Year_Build   Location     Price  \n",
       "0                         3        1955  Bangalore  221900.0  \n",
       "1                         3        1951  Bangalore  538000.0  "
      ]
     },
     "execution_count": 4,
     "metadata": {},
     "output_type": "execute_result"
    }
   ],
   "source": [
    "# There is one mistake in above dataset ie \"No_Of_Bathrooms\" should not be in float value.\n",
    "# So let correct it \n",
    "dt_reg[\"No_Of_Bathrooms\"] = dt_reg[\"No_Of_Bathrooms\"].apply(np.ceil)\n",
    "dt_reg.head(2)"
   ]
  },
  {
   "cell_type": "markdown",
   "id": "487191a5",
   "metadata": {},
   "source": [
    "In the above dataset Price is our traget column. so it is comes under Regression Problem. Here we solve it by KNN, Decision Tree, Random Forest."
   ]
  },
  {
   "cell_type": "code",
   "execution_count": 5,
   "id": "30080be3",
   "metadata": {},
   "outputs": [
    {
     "data": {
      "text/html": [
       "<div>\n",
       "<style scoped>\n",
       "    .dataframe tbody tr th:only-of-type {\n",
       "        vertical-align: middle;\n",
       "    }\n",
       "\n",
       "    .dataframe tbody tr th {\n",
       "        vertical-align: top;\n",
       "    }\n",
       "\n",
       "    .dataframe thead th {\n",
       "        text-align: right;\n",
       "    }\n",
       "</style>\n",
       "<table border=\"1\" class=\"dataframe\">\n",
       "  <thead>\n",
       "    <tr style=\"text-align: right;\">\n",
       "      <th></th>\n",
       "      <th>User ID</th>\n",
       "      <th>Gender</th>\n",
       "      <th>Age</th>\n",
       "      <th>EstimatedSalary</th>\n",
       "      <th>Purchased</th>\n",
       "    </tr>\n",
       "  </thead>\n",
       "  <tbody>\n",
       "    <tr>\n",
       "      <th>0</th>\n",
       "      <td>15624510</td>\n",
       "      <td>Male</td>\n",
       "      <td>19</td>\n",
       "      <td>19000</td>\n",
       "      <td>0</td>\n",
       "    </tr>\n",
       "    <tr>\n",
       "      <th>1</th>\n",
       "      <td>15810944</td>\n",
       "      <td>Male</td>\n",
       "      <td>35</td>\n",
       "      <td>20000</td>\n",
       "      <td>0</td>\n",
       "    </tr>\n",
       "    <tr>\n",
       "      <th>2</th>\n",
       "      <td>15668575</td>\n",
       "      <td>Female</td>\n",
       "      <td>26</td>\n",
       "      <td>43000</td>\n",
       "      <td>0</td>\n",
       "    </tr>\n",
       "    <tr>\n",
       "      <th>3</th>\n",
       "      <td>15603246</td>\n",
       "      <td>Female</td>\n",
       "      <td>27</td>\n",
       "      <td>57000</td>\n",
       "      <td>0</td>\n",
       "    </tr>\n",
       "    <tr>\n",
       "      <th>4</th>\n",
       "      <td>15804002</td>\n",
       "      <td>Male</td>\n",
       "      <td>19</td>\n",
       "      <td>76000</td>\n",
       "      <td>0</td>\n",
       "    </tr>\n",
       "  </tbody>\n",
       "</table>\n",
       "</div>"
      ],
      "text/plain": [
       "    User ID  Gender  Age  EstimatedSalary  Purchased\n",
       "0  15624510    Male   19            19000          0\n",
       "1  15810944    Male   35            20000          0\n",
       "2  15668575  Female   26            43000          0\n",
       "3  15603246  Female   27            57000          0\n",
       "4  15804002    Male   19            76000          0"
      ]
     },
     "execution_count": 5,
     "metadata": {},
     "output_type": "execute_result"
    }
   ],
   "source": [
    "dt_cls.head()"
   ]
  },
  {
   "cell_type": "markdown",
   "id": "565c114d",
   "metadata": {},
   "source": [
    "In the above dataset \"Purchased\" is our target column.And it is in the form of 0 and 1 so it comes under binary classification Problem."
   ]
  },
  {
   "cell_type": "code",
   "execution_count": 6,
   "id": "9b949c2d",
   "metadata": {},
   "outputs": [
    {
     "name": "stdout",
     "output_type": "stream",
     "text": [
      "Female= 64.25\n"
     ]
    }
   ],
   "source": [
    "dt_cls.Purchased.value_counts()\n",
    "print(\"Female=\" , 257/400*100)"
   ]
  },
  {
   "cell_type": "code",
   "execution_count": 7,
   "id": "3017bba8",
   "metadata": {},
   "outputs": [
    {
     "data": {
      "text/plain": [
       "Living_Space(sqft)          0\n",
       "No_Of_Bedrooms              0\n",
       "No_Of_Bathrooms             0\n",
       "Condition(on scale of 5)    0\n",
       "Year_Build                  0\n",
       "Location                    0\n",
       "Price                       0\n",
       "dtype: int64"
      ]
     },
     "metadata": {},
     "output_type": "display_data"
    },
    {
     "data": {
      "text/plain": [
       "User ID            0\n",
       "Gender             0\n",
       "Age                0\n",
       "EstimatedSalary    0\n",
       "Purchased          0\n",
       "dtype: int64"
      ]
     },
     "metadata": {},
     "output_type": "display_data"
    }
   ],
   "source": [
    "display (dt_reg.isna().sum())\n",
    "display(dt_cls.isna().sum())"
   ]
  },
  {
   "cell_type": "code",
   "execution_count": 8,
   "id": "57881293",
   "metadata": {},
   "outputs": [],
   "source": [
    "# just for safe purpose \n",
    "dt_cls=dt_cls.dropna()\n",
    "dt_reg=dt_reg.dropna()"
   ]
  },
  {
   "cell_type": "code",
   "execution_count": 9,
   "id": "cc470eb8",
   "metadata": {},
   "outputs": [
    {
     "data": {
      "text/plain": [
       "(400, 5)"
      ]
     },
     "metadata": {},
     "output_type": "display_data"
    },
    {
     "data": {
      "text/plain": [
       "(1199, 7)"
      ]
     },
     "metadata": {},
     "output_type": "display_data"
    }
   ],
   "source": [
    "display(dt_cls.shape)\n",
    "display(dt_reg.shape)"
   ]
  },
  {
   "cell_type": "markdown",
   "id": "f6b3d0ab",
   "metadata": {},
   "source": [
    "## First work on Co-relation technique"
   ]
  },
  {
   "cell_type": "markdown",
   "id": "0c846d60",
   "metadata": {},
   "source": [
    "Before done corelation, we have set the object string in integer."
   ]
  },
  {
   "cell_type": "code",
   "execution_count": 10,
   "id": "d71dee8e",
   "metadata": {},
   "outputs": [
    {
     "data": {
      "text/plain": [
       "Patna        274\n",
       "Kolkata      232\n",
       "Chennai      230\n",
       "lucknow      205\n",
       "New Delhi    173\n",
       "Mumbai        63\n",
       "Bangalore     22\n",
       "Name: Location, dtype: int64"
      ]
     },
     "execution_count": 10,
     "metadata": {},
     "output_type": "execute_result"
    }
   ],
   "source": [
    "dt_reg.Location.value_counts()"
   ]
  },
  {
   "cell_type": "code",
   "execution_count": 11,
   "id": "fd8bfd93",
   "metadata": {},
   "outputs": [
    {
     "name": "stdout",
     "output_type": "stream",
     "text": [
      "patna = 22.85237698081735\n",
      "Bangalore = 1.834862385321101\n"
     ]
    }
   ],
   "source": [
    "#  Here is just Analysis \n",
    "patna = 274/1199*100\n",
    "print(\"patna =\",patna)\n",
    "Bangalore = 22/1199*100\n",
    "print(\"Bangalore =\",Bangalore)\n",
    "# So if target column is majorly depends on Column \"Location\" than we ignore Bangalore because is only 1.8 percent. \n",
    "# and all the Bangalore is consider as outlier. It not much effect on my conclusion.\n",
    "# Less contribute\n",
    "# when my model is ready for taking decision so it more biased towards Patna."
   ]
  },
  {
   "cell_type": "code",
   "execution_count": null,
   "id": "0989ca92",
   "metadata": {},
   "outputs": [],
   "source": []
  },
  {
   "cell_type": "code",
   "execution_count": 12,
   "id": "ffe4d53d",
   "metadata": {},
   "outputs": [
    {
     "data": {
      "text/plain": [
       "(400, 6)"
      ]
     },
     "metadata": {},
     "output_type": "display_data"
    },
    {
     "data": {
      "text/html": [
       "<div>\n",
       "<style scoped>\n",
       "    .dataframe tbody tr th:only-of-type {\n",
       "        vertical-align: middle;\n",
       "    }\n",
       "\n",
       "    .dataframe tbody tr th {\n",
       "        vertical-align: top;\n",
       "    }\n",
       "\n",
       "    .dataframe thead th {\n",
       "        text-align: right;\n",
       "    }\n",
       "</style>\n",
       "<table border=\"1\" class=\"dataframe\">\n",
       "  <thead>\n",
       "    <tr style=\"text-align: right;\">\n",
       "      <th></th>\n",
       "      <th>User ID</th>\n",
       "      <th>Age</th>\n",
       "      <th>EstimatedSalary</th>\n",
       "      <th>Purchased</th>\n",
       "      <th>Female</th>\n",
       "      <th>Male</th>\n",
       "    </tr>\n",
       "  </thead>\n",
       "  <tbody>\n",
       "    <tr>\n",
       "      <th>0</th>\n",
       "      <td>15624510</td>\n",
       "      <td>19</td>\n",
       "      <td>19000</td>\n",
       "      <td>0</td>\n",
       "      <td>0</td>\n",
       "      <td>1</td>\n",
       "    </tr>\n",
       "    <tr>\n",
       "      <th>1</th>\n",
       "      <td>15810944</td>\n",
       "      <td>35</td>\n",
       "      <td>20000</td>\n",
       "      <td>0</td>\n",
       "      <td>0</td>\n",
       "      <td>1</td>\n",
       "    </tr>\n",
       "    <tr>\n",
       "      <th>2</th>\n",
       "      <td>15668575</td>\n",
       "      <td>26</td>\n",
       "      <td>43000</td>\n",
       "      <td>0</td>\n",
       "      <td>1</td>\n",
       "      <td>0</td>\n",
       "    </tr>\n",
       "    <tr>\n",
       "      <th>3</th>\n",
       "      <td>15603246</td>\n",
       "      <td>27</td>\n",
       "      <td>57000</td>\n",
       "      <td>0</td>\n",
       "      <td>1</td>\n",
       "      <td>0</td>\n",
       "    </tr>\n",
       "    <tr>\n",
       "      <th>4</th>\n",
       "      <td>15804002</td>\n",
       "      <td>19</td>\n",
       "      <td>76000</td>\n",
       "      <td>0</td>\n",
       "      <td>0</td>\n",
       "      <td>1</td>\n",
       "    </tr>\n",
       "  </tbody>\n",
       "</table>\n",
       "</div>"
      ],
      "text/plain": [
       "    User ID  Age  EstimatedSalary  Purchased  Female  Male\n",
       "0  15624510   19            19000          0       0     1\n",
       "1  15810944   35            20000          0       0     1\n",
       "2  15668575   26            43000          0       1     0\n",
       "3  15603246   27            57000          0       1     0\n",
       "4  15804002   19            76000          0       0     1"
      ]
     },
     "metadata": {},
     "output_type": "display_data"
    }
   ],
   "source": [
    "# for dt_cls\n",
    "cls_dummy = pd.get_dummies(dt_cls.Gender)\n",
    "merge_cls = pd.concat([dt_cls , cls_dummy] , axis = \"columns\") # axis=1 is same.\n",
    "merge_cls = merge_cls.drop([\"Gender\"] , axis =1)\n",
    "display(merge_cls.shape)\n",
    "display(merge_cls.head()) "
   ]
  },
  {
   "cell_type": "code",
   "execution_count": 13,
   "id": "c76cc205",
   "metadata": {},
   "outputs": [
    {
     "data": {
      "text/plain": [
       "(1199, 12)"
      ]
     },
     "metadata": {},
     "output_type": "display_data"
    },
    {
     "data": {
      "text/html": [
       "<div>\n",
       "<style scoped>\n",
       "    .dataframe tbody tr th:only-of-type {\n",
       "        vertical-align: middle;\n",
       "    }\n",
       "\n",
       "    .dataframe tbody tr th {\n",
       "        vertical-align: top;\n",
       "    }\n",
       "\n",
       "    .dataframe thead th {\n",
       "        text-align: right;\n",
       "    }\n",
       "</style>\n",
       "<table border=\"1\" class=\"dataframe\">\n",
       "  <thead>\n",
       "    <tr style=\"text-align: right;\">\n",
       "      <th></th>\n",
       "      <th>Living_Space(sqft)</th>\n",
       "      <th>No_Of_Bedrooms</th>\n",
       "      <th>No_Of_Bathrooms</th>\n",
       "      <th>Condition(on scale of 5)</th>\n",
       "      <th>Year_Build</th>\n",
       "      <th>Price</th>\n",
       "      <th>Bangalore</th>\n",
       "      <th>Chennai</th>\n",
       "      <th>Kolkata</th>\n",
       "      <th>Mumbai</th>\n",
       "      <th>New Delhi</th>\n",
       "      <th>Patna</th>\n",
       "    </tr>\n",
       "  </thead>\n",
       "  <tbody>\n",
       "    <tr>\n",
       "      <th>0</th>\n",
       "      <td>1340</td>\n",
       "      <td>3</td>\n",
       "      <td>1.0</td>\n",
       "      <td>3</td>\n",
       "      <td>1955</td>\n",
       "      <td>221900.0</td>\n",
       "      <td>1</td>\n",
       "      <td>0</td>\n",
       "      <td>0</td>\n",
       "      <td>0</td>\n",
       "      <td>0</td>\n",
       "      <td>0</td>\n",
       "    </tr>\n",
       "    <tr>\n",
       "      <th>1</th>\n",
       "      <td>1690</td>\n",
       "      <td>3</td>\n",
       "      <td>3.0</td>\n",
       "      <td>3</td>\n",
       "      <td>1951</td>\n",
       "      <td>538000.0</td>\n",
       "      <td>1</td>\n",
       "      <td>0</td>\n",
       "      <td>0</td>\n",
       "      <td>0</td>\n",
       "      <td>0</td>\n",
       "      <td>0</td>\n",
       "    </tr>\n",
       "    <tr>\n",
       "      <th>2</th>\n",
       "      <td>2720</td>\n",
       "      <td>2</td>\n",
       "      <td>1.0</td>\n",
       "      <td>3</td>\n",
       "      <td>1933</td>\n",
       "      <td>180000.0</td>\n",
       "      <td>1</td>\n",
       "      <td>0</td>\n",
       "      <td>0</td>\n",
       "      <td>0</td>\n",
       "      <td>0</td>\n",
       "      <td>0</td>\n",
       "    </tr>\n",
       "    <tr>\n",
       "      <th>3</th>\n",
       "      <td>1360</td>\n",
       "      <td>4</td>\n",
       "      <td>3.0</td>\n",
       "      <td>5</td>\n",
       "      <td>1965</td>\n",
       "      <td>604000.0</td>\n",
       "      <td>1</td>\n",
       "      <td>0</td>\n",
       "      <td>0</td>\n",
       "      <td>0</td>\n",
       "      <td>0</td>\n",
       "      <td>0</td>\n",
       "    </tr>\n",
       "    <tr>\n",
       "      <th>4</th>\n",
       "      <td>1800</td>\n",
       "      <td>3</td>\n",
       "      <td>2.0</td>\n",
       "      <td>3</td>\n",
       "      <td>1987</td>\n",
       "      <td>510000.0</td>\n",
       "      <td>1</td>\n",
       "      <td>0</td>\n",
       "      <td>0</td>\n",
       "      <td>0</td>\n",
       "      <td>0</td>\n",
       "      <td>0</td>\n",
       "    </tr>\n",
       "  </tbody>\n",
       "</table>\n",
       "</div>"
      ],
      "text/plain": [
       "   Living_Space(sqft)  No_Of_Bedrooms  No_Of_Bathrooms  \\\n",
       "0                1340               3              1.0   \n",
       "1                1690               3              3.0   \n",
       "2                2720               2              1.0   \n",
       "3                1360               4              3.0   \n",
       "4                1800               3              2.0   \n",
       "\n",
       "   Condition(on scale of 5)  Year_Build     Price  Bangalore  Chennai  \\\n",
       "0                         3        1955  221900.0          1        0   \n",
       "1                         3        1951  538000.0          1        0   \n",
       "2                         3        1933  180000.0          1        0   \n",
       "3                         5        1965  604000.0          1        0   \n",
       "4                         3        1987  510000.0          1        0   \n",
       "\n",
       "   Kolkata  Mumbai  New Delhi  Patna  \n",
       "0        0       0          0      0  \n",
       "1        0       0          0      0  \n",
       "2        0       0          0      0  \n",
       "3        0       0          0      0  \n",
       "4        0       0          0      0  "
      ]
     },
     "metadata": {},
     "output_type": "display_data"
    }
   ],
   "source": [
    "# for dt_reg\n",
    "reg_dummy = pd.get_dummies(dt_reg.Location)\n",
    "merge_reg = pd.concat([dt_reg , reg_dummy],axis=1)\n",
    "merge_reg = merge_reg.drop([\"Location\" , \"lucknow\"] , axis=1)\n",
    "display(merge_reg.shape)\n",
    "display(merge_reg.head())"
   ]
  },
  {
   "cell_type": "code",
   "execution_count": 14,
   "id": "03bd1e9b",
   "metadata": {},
   "outputs": [
    {
     "data": {
      "text/plain": [
       "<AxesSubplot:>"
      ]
     },
     "execution_count": 14,
     "metadata": {},
     "output_type": "execute_result"
    },
    {
     "data": {
      "image/png": "[encoded data removed]",
      "text/plain": [
       "<Figure size 720x720 with 2 Axes>"
      ]
     },
     "metadata": {
      "needs_background": "light"
     },
     "output_type": "display_data"
    }
   ],
   "source": [
    "corr_reg =  merge_reg.corr()\n",
    "plt.figure(figsize=(10, 10))\n",
    "sns.heatmap(corr_reg , annot = True)"
   ]
  },
  {
   "cell_type": "code",
   "execution_count": 15,
   "id": "c20b7c4c",
   "metadata": {},
   "outputs": [
    {
     "data": {
      "text/plain": [
       "<AxesSubplot:>"
      ]
     },
     "execution_count": 15,
     "metadata": {},
     "output_type": "execute_result"
    },
    {
     "data": {
      "image/png": "[encoded data removed]",
      "text/plain": [
       "<Figure size 432x288 with 2 Axes>"
      ]
     },
     "metadata": {
      "needs_background": "light"
     },
     "output_type": "display_data"
    }
   ],
   "source": [
    "corr_cls =  merge_cls.corr()\n",
    "sns.heatmap(corr_cls , annot = True)"
   ]
  },
  {
   "cell_type": "code",
   "execution_count": 55,
   "id": "ff7d945d",
   "metadata": {},
   "outputs": [
    {
     "data": {
      "text/plain": [
       "pandas.core.frame.DataFrame"
      ]
     },
     "metadata": {},
     "output_type": "display_data"
    },
    {
     "data": {
      "text/plain": [
       "pandas.core.series.Series"
      ]
     },
     "metadata": {},
     "output_type": "display_data"
    }
   ],
   "source": [
    "#  for regression \n",
    "x_r = merge_reg.drop(['Price'] , axis=1) \n",
    "y_r = merge_reg[\"Price\"]\n",
    "display(type(x_r))\n",
    "display(type(y_r))"
   ]
  },
  {
   "cell_type": "code",
   "execution_count": 17,
   "id": "d8583d0a",
   "metadata": {},
   "outputs": [],
   "source": [
    "#  for classification\n",
    "x_c = merge_cls.drop(['Purchased'] , axis=1)\n",
    "y_c = merge_cls.Purchased "
   ]
  },
  {
   "cell_type": "code",
   "execution_count": 18,
   "id": "3af715ee",
   "metadata": {},
   "outputs": [],
   "source": [
    "from sklearn.model_selection import train_test_split\n",
    "x_c_train , x_c_test, y_c_train ,y_c_test  = train_test_split(x_c,y_c,train_size = 3/4)\n",
    "x_r_train , x_r_test, y_r_train ,y_r_test  = train_test_split(x_r,y_r,train_size = 3/4)"
   ]
  },
  {
   "cell_type": "code",
   "execution_count": 19,
   "id": "38d9d6c9",
   "metadata": {},
   "outputs": [
    {
     "data": {
      "text/plain": [
       "(899, 11)"
      ]
     },
     "metadata": {},
     "output_type": "display_data"
    },
    {
     "data": {
      "text/plain": [
       "(300, 11)"
      ]
     },
     "metadata": {},
     "output_type": "display_data"
    }
   ],
   "source": [
    "display(x_r_train.shape)\n",
    "display(x_r_test.shape)"
   ]
  },
  {
   "cell_type": "code",
   "execution_count": 20,
   "id": "430b5b3a",
   "metadata": {},
   "outputs": [
    {
     "data": {
      "text/plain": [
       "(300, 5)"
      ]
     },
     "metadata": {},
     "output_type": "display_data"
    },
    {
     "data": {
      "text/plain": [
       "(100, 5)"
      ]
     },
     "metadata": {},
     "output_type": "display_data"
    }
   ],
   "source": [
    "display(x_c_train.shape)\n",
    "display(x_c_test.shape)"
   ]
  },
  {
   "cell_type": "markdown",
   "id": "603d7f1f",
   "metadata": {},
   "source": [
    "## All Regression "
   ]
  },
  {
   "cell_type": "markdown",
   "id": "f117b254",
   "metadata": {},
   "source": [
    "### 1. DecisionTreeRegressor"
   ]
  },
  {
   "cell_type": "code",
   "execution_count": 21,
   "id": "e3367832",
   "metadata": {},
   "outputs": [
    {
     "data": {
      "text/plain": [
       "DecisionTreeRegressor()"
      ]
     },
     "execution_count": 21,
     "metadata": {},
     "output_type": "execute_result"
    }
   ],
   "source": [
    "from sklearn.tree import DecisionTreeRegressor\n",
    "dtr = DecisionTreeRegressor()\n",
    "dtr.fit(x_r_train, y_r_train)"
   ]
  },
  {
   "cell_type": "code",
   "execution_count": 22,
   "id": "aff8a9ab",
   "metadata": {},
   "outputs": [
    {
     "data": {
      "text/plain": [
       "array([1040000.,  790000., 1000000.,  210000.,  328000.,  625000.,\n",
       "        851000.,  328000.,  437500.,  478500.,  950000.,  660000.,\n",
       "        507000.,  478500.,  400000.,  414900.,  226500.,  360000.,\n",
       "        361000.,  640000.,  347500., 1750000.,  560000.,  269000.,\n",
       "        675000.,  986000.,  520000., 1390000.,  410000.,  563000.,\n",
       "        980000.,  240500.,  240500.,  291850.,  650000., 2400000.,\n",
       "        427200.,  636000.,  252500.,  300000.,  910000.,  532500.,\n",
       "        379000.,  416000.,  237000.,  790000.,  497000.,  325000.,\n",
       "        856600.,  453500.,  250000.,  240500.,  937000.,  615000.,\n",
       "        220000.,  970000.,  199000.,  260000.,  300000.,  538000.,\n",
       "        349500.,  370000.,  240000.,  900000.,  274700.,  424975.,\n",
       "        791500.,  438000.,  640000.,  550700.,  363000.,  322500.,\n",
       "        450000.,  180000., 1750000.,  449950.,  729500.,  130000.,\n",
       "        687500.,  325000.,  905000.,  460000.,  238000.,  240000.,\n",
       "       2380000.,  166950.,  245000.,  361000.,  151000.,  795000.,\n",
       "       1600000., 2380000.,  441000.,  205000.,  332500.,  632000.,\n",
       "        428750.,  585000.,  512000.,  196000.,  233000.,  477000.,\n",
       "        450000., 2130000.,  729500.,  595000.,  390000.,  389999.,\n",
       "        592500.,  449950.,  365000.,  499000.,  730000.,  720000.,\n",
       "        550000.,  520000.,  699900.,  280000.,  378750.,  664000.,\n",
       "        660000.,  347500.,  800000.,  240000.,  699800.,  840000.,\n",
       "        210000.,  456500.,  305000.,  653000.,  856600.,  585000.,\n",
       "        718000.,  850000.,  730000.,  826000.,  650000.,  249900.,\n",
       "        748000.,  234000.,  247500.,  740000.,  387000.,  850000.,\n",
       "        790000., 1000000.,  441000.,  429900.,  795000.,  350900.,\n",
       "        390000., 1220000.,  856600.,  441000.,  268000.,  375000.,\n",
       "        565000.,  423000.,  249900.,  290000.,  201000.,  578000.,\n",
       "        245000.,  675000.,  477000.,  285000.,  210000.,  290000.,\n",
       "        290000.,  550000.,  365000.,  219000.,  365000., 1390000.,\n",
       "        285000.,  740000.,  298900.,  570000.,  470500.,  453246.,\n",
       "        245000.,  300000.,  365000.,  230000.,  565000.,  512000.,\n",
       "        888000.,  240000.,  300000., 1550000.,  289000.,  269900.,\n",
       "        477000.,  705000., 2400000.,  240000.,  240000.,  380000.,\n",
       "        455000.,  406000.,  260000.,  395000.,  440000.,  345500.,\n",
       "        550700.,  682000.,  249900.,  951000.,  300000.,  147500.,\n",
       "        300000.,  296000.,  295000.,  290000.,  332000.,  467000.,\n",
       "        359500.,  515000.,  395000.,  180000.,  650000.,  416000.,\n",
       "        533600.,  550000.,  330000.,  268000.,  220000.,  524250.,\n",
       "        460000.,  250000.,  699000.,  309000.,  636000.,  500000.,\n",
       "        565000.,  585000.,  303000.,  605000.,  950000.,  693000.,\n",
       "        752500.,  559950.,  479950.,  440000.,  285000.,  640000.,\n",
       "        408200.,  423000.,  775000.,  359500.,  210000.,  178500.,\n",
       "        395000.,  216000.,  240000.,  550000.,  240500., 1450000.,\n",
       "       1490000.,  245000.,  360000.,  414900., 1490000.,  452000.,\n",
       "        360000.,  477000.,  385000.,  221900.,  436000.,  303000.,\n",
       "       1000000.,  482000.,  329999., 1360000.,  840000.,  380000.,\n",
       "        527000.,  260000.,  350900.,  280000.,  226500.,  339000.,\n",
       "        441000.,  345500.,  260000.,  225000.,  242000.,  436000.,\n",
       "        512000.,  851000., 1510000.,  220000.,  208000., 1040000.,\n",
       "        538200.,  718000.,  463000.,  240000.,  166950.,  515000.])"
      ]
     },
     "metadata": {},
     "output_type": "display_data"
    },
    {
     "data": {
      "text/plain": [
       "42      861990.0\n",
       "746     650000.0\n",
       "694     690000.0\n",
       "909     435000.0\n",
       "1162    435000.0\n",
       "          ...   \n",
       "785     218000.0\n",
       "370     280000.0\n",
       "665     331000.0\n",
       "170     284000.0\n",
       "22      285000.0\n",
       "Name: Price, Length: 300, dtype: float64"
      ]
     },
     "metadata": {},
     "output_type": "display_data"
    }
   ],
   "source": [
    "y_pred = dtr.predict(x_r_test)\n",
    "display(y_pred)\n",
    "display(y_r_test)"
   ]
  },
  {
   "cell_type": "code",
   "execution_count": 23,
   "id": "dc24e530",
   "metadata": {},
   "outputs": [
    {
     "data": {
      "text/plain": [
       "0.35092731786926323"
      ]
     },
     "execution_count": 23,
     "metadata": {},
     "output_type": "execute_result"
    }
   ],
   "source": [
    "#  Now check the accuracy \n",
    "dtr.score(x_r_test,y_r_test) # Very poor prediction"
   ]
  },
  {
   "cell_type": "code",
   "execution_count": 24,
   "id": "f1bfea9a",
   "metadata": {},
   "outputs": [
    {
     "data": {
      "text/plain": [
       "0.9990307933822015"
      ]
     },
     "execution_count": 24,
     "metadata": {},
     "output_type": "execute_result"
    }
   ],
   "source": [
    "dtr.score(x_r_train , y_r_train) # 99 percent means it read properly but not able give predict properly"
   ]
  },
  {
   "cell_type": "markdown",
   "id": "eefc3805",
   "metadata": {},
   "source": [
    "### 2. RandamForestRegressor\n"
   ]
  },
  {
   "cell_type": "code",
   "execution_count": 25,
   "id": "7cec7d18",
   "metadata": {},
   "outputs": [
    {
     "data": {
      "text/plain": [
       "RandomForestRegressor()"
      ]
     },
     "execution_count": 25,
     "metadata": {},
     "output_type": "execute_result"
    }
   ],
   "source": [
    "from sklearn.ensemble import RandomForestRegressor\n",
    "Rfr = RandomForestRegressor()\n",
    "Rfr.fit(x_r_train , y_r_train)      "
   ]
  },
  {
   "cell_type": "code",
   "execution_count": 26,
   "id": "0ba75ba5",
   "metadata": {},
   "outputs": [
    {
     "data": {
      "text/plain": [
       "array([ 893978.        ,  632493.76      ,  807427.        ,\n",
       "        496250.24      ,  542349.5       ,  394623.5       ,\n",
       "        766647.        ,  646291.98      ,  538801.65      ,\n",
       "        406604.44      ,  875885.75      ,  694960.        ,\n",
       "        580270.        ,  409978.99      ,  396908.5       ,\n",
       "        385570.        ,  302730.        ,  359163.65666667,\n",
       "        281711.        ,  710525.8       ,  363802.88      ,\n",
       "       1538014.        ,  376517.5       ,  529653.83333333,\n",
       "       1000299.5       ,  831958.5       ,  623820.49      ,\n",
       "       1656925.        ,  410420.6       ,  463200.78      ,\n",
       "       1020840.        ,  334648.5       ,  317120.        ,\n",
       "        295862.5       ,  643530.        , 1061499.5       ,\n",
       "        255472.52      ,  558788.        ,  481796.43      ,\n",
       "        321201.        ,  768201.5       ,  586649.31      ,\n",
       "        324678.85      ,  438605.26      ,  362478.8       ,\n",
       "        816760.        ,  506157.81      ,  326532.33333333,\n",
       "        703472.        ,  425130.5       ,  440596.        ,\n",
       "        390688.5       ,  659050.        ,  481855.83      ,\n",
       "        301630.        ,  973163.        ,  239239.5       ,\n",
       "        311217.2       ,  349358.015     ,  438265.41666667,\n",
       "        313904.5       ,  424429.5       ,  275739.        ,\n",
       "        323073.        ,  275899.83333333,  408680.69      ,\n",
       "        720814.5       ,  370183.38      ,  631536.5       ,\n",
       "        563462.        ,  535240.08      ,  497883.96      ,\n",
       "        483301.88      ,  247597.74      , 1921810.        ,\n",
       "        368214.5       ,  527415.66      ,  527683.        ,\n",
       "        771089.        ,  450897.        ,  534528.78      ,\n",
       "        384522.98      ,  248414.5       ,  278040.5       ,\n",
       "       2140560.        ,  270062.98      ,  373600.        ,\n",
       "        312447.16666667,  298252.        , 1039523.25      ,\n",
       "       1344900.        , 2024620.        ,  395823.93333333,\n",
       "        292014.2       ,  383761.24      ,  695844.48      ,\n",
       "        612964.9       ,  568879.5       ,  357574.42      ,\n",
       "        392802.5       ,  431267.        ,  520215.77      ,\n",
       "        482836.91      , 1741585.        ,  514115.12      ,\n",
       "        898345.        ,  464344.5       ,  784083.99      ,\n",
       "        620798.        ,  384820.        ,  432174.33      ,\n",
       "        366936.4       ,  824018.        ,  593183.25      ,\n",
       "        520863.        ,  464310.        ,  496326.16      ,\n",
       "        357554.46      ,  323778.8       ,  553049.        ,\n",
       "        891041.25      ,  444704.5       ,  757673.        ,\n",
       "        342206.5       ,  592951.        ,  908262.        ,\n",
       "        493297.38      ,  605894.        ,  421157.5       ,\n",
       "        536633.42      ,  733910.45      ,  563502.65666667,\n",
       "        693309.99      ,  607830.31      ,  604812.17      ,\n",
       "        790303.        ,  508490.5       ,  297340.03      ,\n",
       "        793114.        ,  308184.5       ,  474596.7       ,\n",
       "        482362.        ,  380751.38      ,  780238.5       ,\n",
       "        925426.        ,  951459.25      ,  357476.        ,\n",
       "        441237.04      ,  517325.6       ,  486938.5       ,\n",
       "        450381.18      , 1111005.        ,  849474.        ,\n",
       "        379336.        ,  345634.38      ,  498061.31      ,\n",
       "        417929.5       ,  418292.57333333,  401305.        ,\n",
       "        345910.5       ,  483730.81      ,  611394.49      ,\n",
       "        384258.        ,  614240.        ,  498799.5       ,\n",
       "        368379.945     ,  310802.27      ,  472985.21      ,\n",
       "        465451.81      ,  642397.23      ,  330808.83333333,\n",
       "        341418.6       ,  620971.        , 1656925.        ,\n",
       "        371969.74666667,  735508.25      ,  321543.        ,\n",
       "        701146.        ,  414882.98      ,  582950.94      ,\n",
       "        364939.5       ,  343860.        ,  427494.83      ,\n",
       "        334433.        ,  409030.56      ,  375014.12666667,\n",
       "        549494.15      ,  233832.5       ,  326550.5       ,\n",
       "       1676700.        ,  338591.99      ,  447816.33333333,\n",
       "        411818.11      ,  592779.        , 1413695.        ,\n",
       "        240798.        ,  280700.        ,  353704.5       ,\n",
       "        385353.81      ,  400199.6       ,  332759.50666667,\n",
       "        402229.98      ,  445530.14      ,  396916.15666667,\n",
       "        586396.1       ,  628242.        ,  310328.5       ,\n",
       "        896667.25      ,  387599.        ,  256221.99      ,\n",
       "        327300.5       ,  379440.        ,  301924.        ,\n",
       "        379773.        ,  359781.5       ,  502427.82      ,\n",
       "        636029.5       ,  473790.        ,  531602.        ,\n",
       "        244402.25      ,  618380.        ,  359496.76      ,\n",
       "        465798.73      ,  612050.43      ,  319983.27      ,\n",
       "        319218.7       ,  294598.        ,  422230.5       ,\n",
       "        417322.        ,  377815.89333333,  873448.        ,\n",
       "        253360.5       ,  570464.        ,  348326.68      ,\n",
       "        475195.5       ,  407736.5       ,  322919.        ,\n",
       "        547023.49      ,  690925.48      , 1248261.        ,\n",
       "        677517.99      ,  580140.18      ,  384787.7       ,\n",
       "        346900.5       ,  312842.77      ,  672282.8       ,\n",
       "        409417.        ,  398367.98      ,  803356.        ,\n",
       "        466799.        ,  311700.62      ,  239322.98      ,\n",
       "        470106.04666667,  294146.26      ,  302051.2       ,\n",
       "        605168.        ,  290476.45      ,  994261.        ,\n",
       "        533445.17      ,  297574.        ,  313870.5       ,\n",
       "        385570.        ,  583115.67333333,  440899.        ,\n",
       "        323785.33333333,  454332.00333333,  379625.77      ,\n",
       "        294976.        ,  363198.5       ,  299603.5       ,\n",
       "       1016259.75      ,  324644.5       ,  282580.94      ,\n",
       "       1650340.        , 1198856.        ,  607951.79      ,\n",
       "        417947.        ,  300667.        ,  458939.        ,\n",
       "        359332.        ,  350696.2       ,  761584.        ,\n",
       "        398795.2       ,  395371.68666667,  407074.00666667,\n",
       "        395079.41      ,  323676.9       ,  413910.        ,\n",
       "        355422.36      ,  628708.5       , 1640240.        ,\n",
       "        303638.        ,  371029.99      , 1382505.        ,\n",
       "        477324.99      ,  634657.99      ,  355601.96      ,\n",
       "        321304.        ,  267341.        ,  497748.18      ])"
      ]
     },
     "metadata": {},
     "output_type": "display_data"
    },
    {
     "data": {
      "text/plain": [
       "42      861990.0\n",
       "746     650000.0\n",
       "694     690000.0\n",
       "909     435000.0\n",
       "1162    435000.0\n",
       "          ...   \n",
       "785     218000.0\n",
       "370     280000.0\n",
       "665     331000.0\n",
       "170     284000.0\n",
       "22      285000.0\n",
       "Name: Price, Length: 300, dtype: float64"
      ]
     },
     "metadata": {},
     "output_type": "display_data"
    }
   ],
   "source": [
    "y_Rfr_pred = Rfr.predict(x_r_test)\n",
    "display(y_Rfr_pred)\n",
    "display(y_r_test)"
   ]
  },
  {
   "cell_type": "code",
   "execution_count": 27,
   "id": "eb1cde5e",
   "metadata": {},
   "outputs": [
    {
     "data": {
      "text/plain": [
       "0.5921278690455457"
      ]
     },
     "execution_count": 27,
     "metadata": {},
     "output_type": "execute_result"
    }
   ],
   "source": [
    "Rfr.score(x_r_test , y_r_test)"
   ]
  },
  {
   "cell_type": "code",
   "execution_count": 28,
   "id": "dede8349",
   "metadata": {},
   "outputs": [
    {
     "data": {
      "text/plain": [
       "0.9181677112946652"
      ]
     },
     "execution_count": 28,
     "metadata": {},
     "output_type": "execute_result"
    }
   ],
   "source": [
    "Rfr.score(x_r_train , y_r_train)"
   ]
  },
  {
   "cell_type": "markdown",
   "id": "0f128416",
   "metadata": {},
   "source": [
    "  ### 2. KNeighborsResgressor"
   ]
  },
  {
   "cell_type": "code",
   "execution_count": 29,
   "id": "3d446ceb",
   "metadata": {},
   "outputs": [
    {
     "data": {
      "text/plain": [
       "KNeighborsRegressor(n_neighbors=11)"
      ]
     },
     "execution_count": 29,
     "metadata": {},
     "output_type": "execute_result"
    }
   ],
   "source": [
    "from sklearn.neighbors import KNeighborsRegressor\n",
    "knn = KNeighborsRegressor(n_neighbors = 11 , metric =\"minkowski\")\n",
    "knn.fit(x_r_train,y_r_train)"
   ]
  },
  {
   "cell_type": "code",
   "execution_count": 30,
   "id": "90135fec",
   "metadata": {},
   "outputs": [
    {
     "data": {
      "text/plain": [
       "array([ 941954.54545455,  533418.18181818,  727709.09090909,\n",
       "        561538.63636364,  374677.27272727,  375772.72727273,\n",
       "        741918.18181818,  433863.63636364,  529393.90909091,\n",
       "        435222.72727273, 1251536.36363636,  543409.09090909,\n",
       "        718409.09090909,  435222.72727273,  427968.18181818,\n",
       "        414359.09090909,  378318.18181818,  285200.        ,\n",
       "        330700.        ,  620545.45454545,  373450.        ,\n",
       "        917270.45454545,  387772.72727273,  536836.36363636,\n",
       "        971452.27272727,  735959.09090909,  618413.63636364,\n",
       "       1320500.        ,  311534.        ,  422557.36363636,\n",
       "       1235809.09090909,  660318.18181818,  317968.18181818,\n",
       "        303440.90909091,  560311.27272727,  925088.63636364,\n",
       "        302100.        ,  650727.27272727,  380540.90909091,\n",
       "        415318.18181818,  402340.90909091,  531190.90909091,\n",
       "        280145.45454545,  431680.72727273,  322104.81818182,\n",
       "        759454.54545455,  545240.90909091,  316686.36363636,\n",
       "        732054.54545455,  511727.27272727,  353177.27272727,\n",
       "        331544.        ,  563772.72727273,  539609.09090909,\n",
       "        349590.90909091,  955409.09090909,  354650.        ,\n",
       "        362995.45454545,  341816.72727273,  512000.        ,\n",
       "        292200.        ,  438281.81818182,  292877.27272727,\n",
       "        339722.72727273,  281463.63636364,  313912.18181818,\n",
       "        480311.27272727,  328227.27272727,  641454.54545455,\n",
       "        460518.18181818,  533166.63636364,  363136.36363636,\n",
       "        452495.45454545,  250306.72727273,  890543.18181818,\n",
       "        439436.36363636,  357529.27272727,  497945.45454545,\n",
       "        673281.81818182,  389147.72727273,  458853.45454545,\n",
       "        324586.36363636,  344740.90909091,  296790.90909091,\n",
       "        831718.18181818,  321393.09090909,  365163.63636364,\n",
       "        289959.09090909,  303700.        , 1103818.18181818,\n",
       "       1290272.72727273, 1117954.54545455,  338359.09090909,\n",
       "        350606.36363636,  349909.09090909,  654545.45454545,\n",
       "        607427.18181818,  448863.18181818,  370149.90909091,\n",
       "        402340.90909091,  304756.72727273,  436035.27272727,\n",
       "        406090.45454545, 1290272.72727273,  290672.72727273,\n",
       "       1421000.        ,  500709.09090909,  846136.36363636,\n",
       "        626030.27272727,  498181.81818182,  473536.36363636,\n",
       "        427000.        ,  984318.18181818,  536354.54545455,\n",
       "        538954.54545455,  403081.81818182,  707954.54545455,\n",
       "        356772.63636364,  292331.81818182,  521854.54545455,\n",
       "        748090.90909091,  353145.09090909,  736163.63636364,\n",
       "        294545.45454545,  406640.90909091,  948090.90909091,\n",
       "        476196.        ,  450450.        ,  424037.90909091,\n",
       "        578886.36363636,  580909.09090909,  458317.72727273,\n",
       "        576000.        ,  535318.18181818,  539251.54545455,\n",
       "        948090.90909091,  438281.81818182,  336459.36363636,\n",
       "        494297.        ,  323045.45454545,  450481.72727273,\n",
       "        454081.81818182,  385681.81818182,  412236.        ,\n",
       "        728000.        ,  842902.27272727,  376422.72727273,\n",
       "        514331.81818182,  426395.45454545,  450940.90909091,\n",
       "        513195.45454545,  938681.81818182,  735959.09090909,\n",
       "        384631.81818182,  312721.27272727,  548422.72727273,\n",
       "        356540.90909091,  473113.63636364,  369263.63636364,\n",
       "        498181.81818182,  416850.        ,  598954.54545455,\n",
       "        374881.81818182,  410450.        ,  573409.09090909,\n",
       "        341816.72727273,  397409.09090909,  446580.72727273,\n",
       "        479308.        ,  621863.63636364,  313990.90909091,\n",
       "        296995.45454545,  575545.45454545, 1320500.        ,\n",
       "        345630.72727273,  756175.        ,  320022.72727273,\n",
       "        517904.54545455,  390954.45454545,  424840.90909091,\n",
       "        353040.90909091,  381372.72727273,  516831.81818182,\n",
       "        408177.27272727,  422557.36363636,  446981.72727273,\n",
       "        425363.18181818,  338404.54545455,  397409.09090909,\n",
       "       1579545.45454545,  272054.54545455,  310022.72727273,\n",
       "        480804.54545455,  531227.27272727,  941954.54545455,\n",
       "        301245.45454545,  316150.        ,  314440.90909091,\n",
       "        445372.72727273,  367387.27272727,  417754.45454545,\n",
       "        446809.09090909,  511200.        ,  480863.18181818,\n",
       "        631390.90909091,  743927.27272727,  350822.72727273,\n",
       "        727709.09090909,  403081.81818182,  327209.09090909,\n",
       "        397409.09090909,  483631.81818182,  388113.63636364,\n",
       "        477454.54545455,  406890.90909091,  584227.27272727,\n",
       "        602545.45454545,  436145.36363636,  654463.63636364,\n",
       "        304620.36363636,  833725.        ,  387586.36363636,\n",
       "        486524.27272727,  539309.09090909,  295854.54545455,\n",
       "        321136.36363636,  345572.72727273,  406663.63636364,\n",
       "        381954.54545455,  411586.36363636,  839729.54545455,\n",
       "        330913.63636364,  596636.36363636,  297495.45454545,\n",
       "        466272.72727273,  368240.81818182,  324363.63636364,\n",
       "        564590.90909091,  590177.18181818,  917318.18181818,\n",
       "        572181.81818182,  450450.        ,  355227.27272727,\n",
       "        343904.54545455,  371940.81818182,  611575.45454545,\n",
       "        366336.36363636,  451318.18181818,  756681.81818182,\n",
       "        534909.09090909,  374695.45454545,  281938.54545455,\n",
       "        466481.72727273,  348086.36363636,  360242.72727273,\n",
       "        509086.36363636,  331544.        ,  842902.27272727,\n",
       "        603872.72727273,  288436.36363636,  289745.45454545,\n",
       "        414359.09090909,  617818.18181818,  324586.36363636,\n",
       "        340154.54545455,  603350.        ,  351677.27272727,\n",
       "        311945.45454545,  398681.81818182,  357413.63636364,\n",
       "        925088.63636364,  378718.18181818,  341700.        ,\n",
       "       1290272.72727273,  917318.18181818,  570032.36363636,\n",
       "        376586.36363636,  375331.81818182,  492036.36363636,\n",
       "        348727.18181818,  346513.63636364,  927881.81818182,\n",
       "        394960.90909091,  467499.54545455,  433209.        ,\n",
       "        405535.27272727,  338359.09090909,  421600.        ,\n",
       "        450481.81818182,  663954.54545455, 1449363.63636364,\n",
       "        329531.81818182,  358568.18181818, 1386445.45454545,\n",
       "        364436.36363636,  657863.63636364,  300409.09090909,\n",
       "        352722.72727273,  288613.63636364,  398545.45454545])"
      ]
     },
     "metadata": {},
     "output_type": "display_data"
    },
    {
     "data": {
      "text/plain": [
       "42      861990.0\n",
       "746     650000.0\n",
       "694     690000.0\n",
       "909     435000.0\n",
       "1162    435000.0\n",
       "          ...   \n",
       "785     218000.0\n",
       "370     280000.0\n",
       "665     331000.0\n",
       "170     284000.0\n",
       "22      285000.0\n",
       "Name: Price, Length: 300, dtype: float64"
      ]
     },
     "metadata": {},
     "output_type": "display_data"
    }
   ],
   "source": [
    "y_knn_pred = knn.predict(x_r_test)\n",
    "display(y_knn_pred)\n",
    "display(y_r_test)                                                                                                               "
   ]
  },
  {
   "cell_type": "code",
   "execution_count": 31,
   "id": "a6331719",
   "metadata": {},
   "outputs": [
    {
     "data": {
      "text/plain": [
       "0.4572792986625015"
      ]
     },
     "execution_count": 31,
     "metadata": {},
     "output_type": "execute_result"
    }
   ],
   "source": [
    "knn.score(x_r_test,y_r_test)"
   ]
  },
  {
   "cell_type": "code",
   "execution_count": 32,
   "id": "deca117e",
   "metadata": {},
   "outputs": [
    {
     "data": {
      "text/plain": [
       "0.48181388226596844"
      ]
     },
     "execution_count": 32,
     "metadata": {},
     "output_type": "execute_result"
    }
   ],
   "source": [
    "knn.score(x_r_train,y_r_train)"
   ]
  },
  {
   "cell_type": "markdown",
   "id": "63f5239a",
   "metadata": {},
   "source": [
    "# All Classification"
   ]
  },
  {
   "cell_type": "markdown",
   "id": "947ff961",
   "metadata": {},
   "source": [
    "### 1. Decision Tree Classifier"
   ]
  },
  {
   "cell_type": "code",
   "execution_count": 33,
   "id": "1f5a5c8c",
   "metadata": {},
   "outputs": [
    {
     "data": {
      "text/plain": [
       "DecisionTreeClassifier()"
      ]
     },
     "execution_count": 33,
     "metadata": {},
     "output_type": "execute_result"
    }
   ],
   "source": [
    "# Decision Tree Classifier\n",
    "from sklearn.tree import DecisionTreeClassifier\n",
    "dtc = DecisionTreeClassifier()\n",
    "dtc.fit(x_c_train, y_c_train)"
   ]
  },
  {
   "cell_type": "code",
   "execution_count": 34,
   "id": "5ba3019a",
   "metadata": {},
   "outputs": [
    {
     "data": {
      "text/plain": [
       "array([0, 0, 1, 0, 0, 0, 0, 1, 0, 0, 0, 1, 1, 1, 1, 0, 0, 1, 0, 0, 1, 0,\n",
       "       0, 1, 0, 0, 0, 0, 1, 0, 0, 1, 1, 0, 0, 0, 0, 1, 1, 1, 0, 0, 1, 0,\n",
       "       1, 0, 1, 0, 1, 0, 1, 1, 0, 0, 0, 1, 0, 0, 1, 0, 1, 1, 0, 1, 1, 0,\n",
       "       0, 1, 1, 0, 0, 1, 1, 0, 0, 0, 1, 0, 0, 1, 0, 0, 0, 0, 1, 0, 0, 0,\n",
       "       1, 1, 1, 0, 1, 0, 0, 1, 0, 1, 0, 1], dtype=int64)"
      ]
     },
     "metadata": {},
     "output_type": "display_data"
    },
    {
     "data": {
      "text/plain": [
       "196    0\n",
       "284    0\n",
       "331    1\n",
       "9      0\n",
       "61     0\n",
       "      ..\n",
       "279    1\n",
       "102    0\n",
       "227    1\n",
       "111    0\n",
       "25     1\n",
       "Name: Purchased, Length: 100, dtype: int64"
      ]
     },
     "metadata": {},
     "output_type": "display_data"
    }
   ],
   "source": [
    "y_dtc_pred = dtc.predict(x_c_test)\n",
    "display(y_dtc_pred)\n",
    "display(y_c_test)"
   ]
  },
  {
   "cell_type": "code",
   "execution_count": 35,
   "id": "96a250eb",
   "metadata": {},
   "outputs": [
    {
     "data": {
      "text/plain": [
       "86.0"
      ]
     },
     "execution_count": 35,
     "metadata": {},
     "output_type": "execute_result"
    }
   ],
   "source": [
    "dtc.score(x_c_test,y_c_test)*100"
   ]
  },
  {
   "cell_type": "code",
   "execution_count": 36,
   "id": "38d9857d",
   "metadata": {},
   "outputs": [
    {
     "data": {
      "text/plain": [
       "100.0"
      ]
     },
     "execution_count": 36,
     "metadata": {},
     "output_type": "execute_result"
    }
   ],
   "source": [
    "dtc.score(x_c_train,y_c_train)*100"
   ]
  },
  {
   "cell_type": "code",
   "execution_count": 37,
   "id": "5501047d",
   "metadata": {},
   "outputs": [],
   "source": [
    "from sklearn.metrics import confusion_matrix\n",
    "cmd_dtc=confusion_matrix(y_c_test,y_dtc_pred)"
   ]
  },
  {
   "cell_type": "code",
   "execution_count": 38,
   "id": "9561bc6f",
   "metadata": {},
   "outputs": [
    {
     "data": {
      "text/plain": [
       "array([[52,  7],\n",
       "       [ 7, 34]], dtype=int64)"
      ]
     },
     "execution_count": 38,
     "metadata": {},
     "output_type": "execute_result"
    }
   ],
   "source": [
    "cmd_dtc"
   ]
  },
  {
   "cell_type": "code",
   "execution_count": 39,
   "id": "16b653e5",
   "metadata": {},
   "outputs": [
    {
     "data": {
      "text/plain": [
       "83.0"
      ]
     },
     "execution_count": 39,
     "metadata": {},
     "output_type": "execute_result"
    }
   ],
   "source": [
    "cmd_dtc_value = (60+23) / (60+8+9+23)*100\n",
    "cmd_dtc_value"
   ]
  },
  {
   "cell_type": "markdown",
   "id": "00b5d381",
   "metadata": {},
   "source": [
    "### 2. Random Forest Classifier"
   ]
  },
  {
   "cell_type": "code",
   "execution_count": 53,
   "id": "a4c46621",
   "metadata": {},
   "outputs": [
    {
     "data": {
      "text/plain": [
       "RandomForestClassifier()"
      ]
     },
     "execution_count": 53,
     "metadata": {},
     "output_type": "execute_result"
    }
   ],
   "source": [
    "# Random Forest Classifier\n",
    "from sklearn.ensemble import RandomForestClassifier\n",
    "rfc = RandomForestClassifier()\n",
    "rfc.fit(x_c_train,y_c_train)"
   ]
  },
  {
   "cell_type": "code",
   "execution_count": 41,
   "id": "022243cb",
   "metadata": {},
   "outputs": [],
   "source": [
    "y_pred_rfc = rfc.predict(x_c_test)"
   ]
  },
  {
   "cell_type": "code",
   "execution_count": 42,
   "id": "8caa01ef",
   "metadata": {},
   "outputs": [
    {
     "data": {
      "text/plain": [
       "array([[49, 10],\n",
       "       [ 2, 39]], dtype=int64)"
      ]
     },
     "execution_count": 42,
     "metadata": {},
     "output_type": "execute_result"
    }
   ],
   "source": [
    "#  confusion matrix \n",
    "cmd_rfc = confusion_matrix(y_c_test , y_pred_rfc)\n",
    "cmd_rfc"
   ]
  },
  {
   "cell_type": "code",
   "execution_count": 57,
   "id": "63998415",
   "metadata": {},
   "outputs": [
    {
     "data": {
      "text/plain": [
       "89.0"
      ]
     },
     "execution_count": 57,
     "metadata": {},
     "output_type": "execute_result"
    }
   ],
   "source": [
    "cmd_rfc_value = (59+30)/(59+9+2+30)*100\n",
    "cmd_rfc_value"
   ]
  },
  {
   "cell_type": "code",
   "execution_count": 58,
   "id": "bcd7eb0e",
   "metadata": {},
   "outputs": [
    {
     "data": {
      "text/plain": [
       "88.0"
      ]
     },
     "metadata": {},
     "output_type": "display_data"
    },
    {
     "data": {
      "text/plain": [
       "100.0"
      ]
     },
     "metadata": {},
     "output_type": "display_data"
    }
   ],
   "source": [
    "display(rfc.score(x_c_test , y_c_test)*100)\n",
    "display(rfc.score(x_c_train, y_c_train)*100)"
   ]
  },
  {
   "cell_type": "markdown",
   "id": "7105b67c",
   "metadata": {},
   "source": [
    "### 3. KNN classifier"
   ]
  },
  {
   "cell_type": "code",
   "execution_count": 45,
   "id": "9ca54242",
   "metadata": {},
   "outputs": [
    {
     "data": {
      "text/plain": [
       "KNeighborsClassifier()"
      ]
     },
     "execution_count": 45,
     "metadata": {},
     "output_type": "execute_result"
    }
   ],
   "source": [
    "# KNN classifier\n",
    "from sklearn.neighbors import KNeighborsClassifier\n",
    "Knn_c = KNeighborsClassifier() \n",
    "Knn_c.fit(x_c_train , y_c_train)"
   ]
  },
  {
   "cell_type": "code",
   "execution_count": 46,
   "id": "b75eff64",
   "metadata": {},
   "outputs": [],
   "source": [
    "Knn_c_pred = Knn_c.predict(x_c_test)"
   ]
  },
  {
   "cell_type": "code",
   "execution_count": 47,
   "id": "febc95d8",
   "metadata": {},
   "outputs": [
    {
     "data": {
      "text/plain": [
       "array([[49, 10],\n",
       "       [19, 22]], dtype=int64)"
      ]
     },
     "execution_count": 47,
     "metadata": {},
     "output_type": "execute_result"
    }
   ],
   "source": [
    "cmd_knn = confusion_matrix(y_c_test , Knn_c_pred)\n",
    "cmd_knn"
   ]
  },
  {
   "cell_type": "code",
   "execution_count": 48,
   "id": "9a5abe7a",
   "metadata": {},
   "outputs": [
    {
     "data": {
      "text/plain": [
       "77.0"
      ]
     },
     "execution_count": 48,
     "metadata": {},
     "output_type": "execute_result"
    }
   ],
   "source": [
    "cmd_knn_value = (58+19)/(23+58+19)*100\n",
    "cmd_knn_value"
   ]
  },
  {
   "cell_type": "markdown",
   "id": "5db9e520",
   "metadata": {},
   "source": [
    "##  Campare "
   ]
  },
  {
   "cell_type": "code",
   "execution_count": 49,
   "id": "23362a45",
   "metadata": {},
   "outputs": [
    {
     "name": "stdout",
     "output_type": "stream",
     "text": [
      "83.0\n",
      "89.0\n",
      "77.0\n"
     ]
    }
   ],
   "source": [
    "print(cmd_dtc_value)\n",
    "print(cmd_rfc_value)\n",
    "print(cmd_knn_value)"
   ]
  },
  {
   "cell_type": "markdown",
   "id": "de1ce732",
   "metadata": {},
   "source": [
    "so here best model is Random forest value"
   ]
  }
 ],
 "metadata": {
  "kernelspec": {
   "display_name": "Python 3 (ipykernel)",
   "language": "python",
   "name": "python3"
  },
  "language_info": {
   "codemirror_mode": {
    "name": "ipython",
    "version": 3
   },
   "file_extension": ".py",
   "mimetype": "text/x-python",
   "name": "python",
   "nbconvert_exporter": "python",
   "pygments_lexer": "ipython3",
   "version": "3.9.12"
  }
 },
 "nbformat": 4,
 "nbformat_minor": 5
}
