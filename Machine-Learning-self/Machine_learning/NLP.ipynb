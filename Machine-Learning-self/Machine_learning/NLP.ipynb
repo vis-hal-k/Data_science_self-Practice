{
 "cells": [
  {
   "cell_type": "code",
   "execution_count": null,
   "id": "81b17b01",
   "metadata": {},
   "outputs": [],
   "source": [
    "import numpy as np\n",
    "import pandas as pd\n",
    "import seaborn as sns\n",
    "import matplotlib.pyplot as plt\n",
    "from pandas.plotting import scatter_matrix"
   ]
  },
  {
   "cell_type": "code",
   "execution_count": null,
   "id": "c0991488",
   "metadata": {},
   "outputs": [],
   "source": [
    "nlpdata = pd.read_csv(\"Data_set/nlpdataset.csv\")\n",
    "nlpdata"
   ]
  },
  {
   "cell_type": "code",
   "execution_count": null,
   "id": "bb6560fd",
   "metadata": {},
   "outputs": [],
   "source": [
    "nlpdata = nlpdata[['Label' , 'Body_text']]\n",
    "nlpdata"
   ]
  },
  {
   "cell_type": "markdown",
   "id": "852c373b",
   "metadata": {},
   "source": [
    "## Remove Punctuation"
   ]
  },
  {
   "cell_type": "code",
   "execution_count": null,
   "id": "ce16aaab",
   "metadata": {},
   "outputs": [],
   "source": [
    "import string\n",
    "string.punctuation"
   ]
  },
  {
   "cell_type": "code",
   "execution_count": null,
   "id": "3eeb885e",
   "metadata": {},
   "outputs": [],
   "source": [
    "def rm_punc(text):\n",
    "    text_non_punc =\"\".join([char for char in text if char not in string.punctuation])\n",
    "    return text_non_punc"
   ]
  },
  {
   "cell_type": "code",
   "execution_count": null,
   "id": "a56fcbcc",
   "metadata": {},
   "outputs": [],
   "source": [
    "nlpdata['rm_punc'] = nlpdata[\"Body_text\"].apply(lambda x:rm_punc(x))"
   ]
  },
  {
   "cell_type": "code",
   "execution_count": null,
   "id": "59f8c992",
   "metadata": {},
   "outputs": [],
   "source": [
    "nlpdata"
   ]
  },
  {
   "cell_type": "code",
   "execution_count": null,
   "id": "992cd7c6",
   "metadata": {},
   "outputs": [],
   "source": [
    "import re # regex\n",
    "def token(text):\n",
    "    tokens=re.split(\"\\W+\",text)\n",
    "    return tokens"
   ]
  },
  {
   "cell_type": "code",
   "execution_count": null,
   "id": "af906a23",
   "metadata": {},
   "outputs": [],
   "source": [
    "nlpdata['after_token'] = nlpdata['rm_punc'].apply(lambda x:token(x))\n",
    "nlpdata"
   ]
  },
  {
   "cell_type": "markdown",
   "id": "6ca7fcd8",
   "metadata": {},
   "source": [
    "## POS Tagging "
   ]
  },
  {
   "cell_type": "code",
   "execution_count": null,
   "id": "1bd0d0a9",
   "metadata": {},
   "outputs": [],
   "source": [
    "import nltk\n",
    "from nltk import pos_tag\n",
    "def pos(text):\n",
    "    pos_text = nltk.pos_tag(text)\n",
    "    return pos_text"
   ]
  },
  {
   "cell_type": "code",
   "execution_count": null,
   "id": "ec71e3db",
   "metadata": {},
   "outputs": [],
   "source": [
    "nlpdata.info()"
   ]
  },
  {
   "cell_type": "code",
   "execution_count": null,
   "id": "1a23ffb2",
   "metadata": {},
   "outputs": [],
   "source": [
    "nlpdata['Tagger'] = nlpdata['after_token'].apply(lambda x:pos(x))"
   ]
  },
  {
   "cell_type": "code",
   "execution_count": null,
   "id": "6019031b",
   "metadata": {},
   "outputs": [],
   "source": [
    "nlpdata"
   ]
  },
  {
   "cell_type": "markdown",
   "id": "a84c2ae9",
   "metadata": {},
   "source": [
    "## Remove Stopword"
   ]
  },
  {
   "cell_type": "code",
   "execution_count": null,
   "id": "94129882",
   "metadata": {},
   "outputs": [],
   "source": [
    "from nltk.corpus import stopwords\n",
    "stopwords = set(stopwords.words('english'))\n",
    "stopwords"
   ]
  },
  {
   "cell_type": "code",
   "execution_count": null,
   "id": "5bcf8638",
   "metadata": {},
   "outputs": [],
   "source": [
    "def rm_sw(text):\n",
    "    rm_w=[word for word in text if word not in stopwords]\n",
    "    return rm_w \n",
    "nlpdata[\"after_rm_sw\"] = nlpdata[\"after_token\"].apply(lambda x:rm_sw(x))\n",
    "nlpdata"
   ]
  },
  {
   "cell_type": "markdown",
   "id": "7d83d3c4",
   "metadata": {},
   "source": [
    "## Stemming"
   ]
  },
  {
   "cell_type": "raw",
   "id": "bbc29e7c",
   "metadata": {},
   "source": [
    "go -v1\n",
    "went - v2\n",
    "gone - v3\n",
    "going - v4\n",
    "goes - v5"
   ]
  },
  {
   "cell_type": "code",
   "execution_count": null,
   "id": "14f946eb",
   "metadata": {},
   "outputs": [],
   "source": [
    "ps = nltk.PorterStemmer()"
   ]
  },
  {
   "cell_type": "code",
   "execution_count": null,
   "id": "cc384bca",
   "metadata": {},
   "outputs": [],
   "source": [
    "def stem(text):\n",
    "    text = [ps.stem(word) for word in text]\n",
    "    return text\n",
    "nlpdata[\"text_after_stemming\"] = nlpdata[\"after_rm_sw\"].apply(lambda x:stem(x))"
   ]
  },
  {
   "cell_type": "code",
   "execution_count": null,
   "id": "8b21cef4",
   "metadata": {},
   "outputs": [],
   "source": [
    "nlpdata"
   ]
  },
  {
   "cell_type": "markdown",
   "id": "a3f3f03e",
   "metadata": {},
   "source": [
    "## Lemmatizing"
   ]
  },
  {
   "cell_type": "code",
   "execution_count": null,
   "id": "875f835f",
   "metadata": {},
   "outputs": [],
   "source": [
    "ln = nltk.WordNetLemmatizer()\n",
    "def lemm(text):\n",
    "    text = [ln.lemmatize(word) for word in text]\n",
    "    return text"
   ]
  },
  {
   "cell_type": "code",
   "execution_count": null,
   "id": "54a21ea5",
   "metadata": {},
   "outputs": [],
   "source": [
    "nlpdata[\"text_after_lemmatizing\"] = nlpdata[\"after_rm_sw\"].apply(lambda x:lemm(x))\n",
    "nlpdata"
   ]
  },
  {
   "cell_type": "code",
   "execution_count": null,
   "id": "4f0aaa1a",
   "metadata": {},
   "outputs": [],
   "source": [
    "final_data = nlpdata[['Label' , 'Body_text', 'text_after_lemmatizing' ]]\n",
    "final_data"
   ]
  },
  {
   "cell_type": "code",
   "execution_count": null,
   "id": "e44b80d1",
   "metadata": {},
   "outputs": [],
   "source": [
    "from sklearn.feature_extraction.text import CountVectorizer\n",
    "cv=CountVectorizer()\n",
    "x=cv.fit_transform(final_data['Body_text'])\n",
    "print(x.shape)\n",
    "#  Total 8713 unique words are there.\n",
    "# print(x.get_feature_names())"
   ]
  },
  {
   "cell_type": "code",
   "execution_count": null,
   "id": "2160f88a",
   "metadata": {},
   "outputs": [],
   "source": [
    "x=pd.DataFrame(x.toarray())\n",
    "x.columns = cv.get_feature_names()\n",
    "x.head()"
   ]
  },
  {
   "cell_type": "code",
   "execution_count": null,
   "id": "b42f42b4",
   "metadata": {},
   "outputs": [],
   "source": [
    "from sklearn.feature_extraction.text import CountVectorizer\n",
    "cv_n=CountVectorizer(ngram_range = (2,2))\n",
    "x_n=cv_n.fit_transform(final_data['Body_text'])\n",
    "print(x_n.shape) # this size is increased. "
   ]
  },
  {
   "cell_type": "code",
   "execution_count": null,
   "id": "d3beb0c3",
   "metadata": {},
   "outputs": [],
   "source": [
    "x_n=pd.DataFrame(x_n.toarray())\n",
    "x_n.columns = cv_n.get_feature_names()\n",
    "x_n"
   ]
  },
  {
   "cell_type": "code",
   "execution_count": null,
   "id": "1d9717d9",
   "metadata": {},
   "outputs": [],
   "source": [
    "from sklearn.feature_extraction.text import TfidfVectorizer\n",
    "tfdif = TfidfVectorizer()\n",
    "x_tfidf = tfdif.fit_transform(final_data['Body_text'])\n",
    "print(x_tfidf.shape)"
   ]
  },
  {
   "cell_type": "code",
   "execution_count": null,
   "id": "d0c70ee1",
   "metadata": {},
   "outputs": [],
   "source": []
  },
  {
   "cell_type": "code",
   "execution_count": null,
   "id": "ff9b2752",
   "metadata": {},
   "outputs": [],
   "source": [
    "x_tfidf = pd.DataFrame(x_tfidf.toarray())\n",
    "x_tfidf.columns = x_tfidf.get_feature_names() "
   ]
  },
  {
   "cell_type": "code",
   "execution_count": null,
   "id": "ab2135ca",
   "metadata": {},
   "outputs": [],
   "source": []
  },
  {
   "cell_type": "code",
   "execution_count": null,
   "id": "3bab4211",
   "metadata": {},
   "outputs": [],
   "source": [
    "final_data=pd.concat([final_data , x_tfidf] , axis = 1)\n",
    "final_data"
   ]
  },
  {
   "cell_type": "code",
   "execution_count": null,
   "id": "73d77876",
   "metadata": {},
   "outputs": [],
   "source": [
    "final_data=final_data.drop([\"Label\",\"Body_text\" , 'text_after_lemmatizing'] , axis = 1)"
   ]
  },
  {
   "cell_type": "code",
   "execution_count": null,
   "id": "99e1d3ce",
   "metadata": {},
   "outputs": [],
   "source": [
    "final_data"
   ]
  },
  {
   "cell_type": "code",
   "execution_count": null,
   "id": "5ec08364",
   "metadata": {},
   "outputs": [],
   "source": [
    "from sklearn.model_selection import train_test_split \n",
    "from sklearn.ensemble import RandomForestClassifier"
   ]
  },
  {
   "cell_type": "code",
   "execution_count": null,
   "id": "a36fea5d",
   "metadata": {},
   "outputs": [],
   "source": [
    "x_train , x_text ,y_train , y_text  = train_split(x,y,train_size = 3/4)\n",
    "rfc = RandomForestClassifier(n_estimators = 50 , max_depth = 20)\n",
    "rfc = rfc.fit(x_train , y_train)"
   ]
  },
  {
   "cell_type": "code",
   "execution_count": null,
   "id": "e25a30dc",
   "metadata": {},
   "outputs": [],
   "source": [
    "y_pred =rfc.predict(x_test)"
   ]
  },
  {
   "cell_type": "code",
   "execution_count": null,
   "id": "29f30f7c",
   "metadata": {},
   "outputs": [],
   "source": [
    "y_pred"
   ]
  },
  {
   "cell_type": "code",
   "execution_count": 1,
   "id": "4b4b3e34",
   "metadata": {},
   "outputs": [],
   "source": [
    "num = [1,2,3,4,5]\n",
    "num.remove(2)\n",
    "print()num\n"
   ]
  },
  {
   "cell_type": "code",
   "execution_count": 2,
   "id": "b35adf28",
   "metadata": {},
   "outputs": [
    {
     "data": {
      "text/plain": [
       "4"
      ]
     },
     "execution_count": 2,
     "metadata": {},
     "output_type": "execute_result"
    }
   ],
   "source": [
    "y=\"stuff;thing;junk;\"\n",
    "len(y.split(';'))\n"
   ]
  },
  {
   "cell_type": "code",
   "execution_count": 3,
   "id": "4f9e3f81",
   "metadata": {},
   "outputs": [
    {
     "data": {
      "text/plain": [
       "3"
      ]
     },
     "execution_count": 3,
     "metadata": {},
     "output_type": "execute_result"
    }
   ],
   "source": [
    "nim = [1,2,3,4]\n",
    "nim[-2]"
   ]
  },
  {
   "cell_type": "code",
   "execution_count": 4,
   "id": "74c8080e",
   "metadata": {},
   "outputs": [
    {
     "data": {
      "text/plain": [
       "True"
      ]
     },
     "execution_count": 4,
     "metadata": {},
     "output_type": "execute_result"
    }
   ],
   "source": [
    "5!=6\n"
   ]
  },
  {
   "cell_type": "code",
   "execution_count": null,
   "id": "c9a6ad34",
   "metadata": {},
   "outputs": [],
   "source": []
  },
  {
   "cell_type": "code",
   "execution_count": null,
   "id": "e8e92acd",
   "metadata": {},
   "outputs": [],
   "source": []
  },
  {
   "cell_type": "code",
   "execution_count": null,
   "id": "1c66fb9a",
   "metadata": {},
   "outputs": [],
   "source": []
  }
 ],
 "metadata": {
  "kernelspec": {
   "display_name": "Python 3 (ipykernel)",
   "language": "python",
   "name": "python3"
  },
  "language_info": {
   "codemirror_mode": {
    "name": "ipython",
    "version": 3
   },
   "file_extension": ".py",
   "mimetype": "text/x-python",
   "name": "python",
   "nbconvert_exporter": "python",
   "pygments_lexer": "ipython3",
   "version": "3.9.12"
  }
 },
 "nbformat": 4,
 "nbformat_minor": 5
}
